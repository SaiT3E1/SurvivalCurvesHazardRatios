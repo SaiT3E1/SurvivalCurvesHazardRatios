{
 "cells": [
  {
   "cell_type": "code",
   "execution_count": 1,
   "metadata": {
    "ExecuteTime": {
     "end_time": "2022-03-08T21:02:08.051053Z",
     "start_time": "2022-03-08T21:02:07.583147Z"
    }
   },
   "outputs": [],
   "source": [
    "import pandas as pd\n",
    "import numpy as np\n"
   ]
  },
  {
   "cell_type": "code",
   "execution_count": 2,
   "metadata": {
    "ExecuteTime": {
     "end_time": "2022-03-08T21:03:48.139746Z",
     "start_time": "2022-03-08T21:03:48.079681Z"
    }
   },
   "outputs": [],
   "source": [
    "df1 = pd.read_csv('data_survival.csv')\n",
    "df2 = pd.read_csv('data_hazard.csv')"
   ]
  },
  {
   "cell_type": "code",
   "execution_count": 3,
   "metadata": {
    "ExecuteTime": {
     "end_time": "2022-03-08T21:03:55.903917Z",
     "start_time": "2022-03-08T21:03:55.879805Z"
    }
   },
   "outputs": [
    {
     "data": {
      "text/html": [
       "<div>\n",
       "<style scoped>\n",
       "    .dataframe tbody tr th:only-of-type {\n",
       "        vertical-align: middle;\n",
       "    }\n",
       "\n",
       "    .dataframe tbody tr th {\n",
       "        vertical-align: top;\n",
       "    }\n",
       "\n",
       "    .dataframe thead th {\n",
       "        text-align: right;\n",
       "    }\n",
       "</style>\n",
       "<table border=\"1\" class=\"dataframe\">\n",
       "  <thead>\n",
       "    <tr style=\"text-align: right;\">\n",
       "      <th></th>\n",
       "      <th>primaryid</th>\n",
       "      <th>start_dt</th>\n",
       "      <th>drugname</th>\n",
       "      <th>fda_dt</th>\n",
       "      <th>outc_cod</th>\n",
       "    </tr>\n",
       "  </thead>\n",
       "  <tbody>\n",
       "    <tr>\n",
       "      <th>0</th>\n",
       "      <td>160735425</td>\n",
       "      <td>NaN</td>\n",
       "      <td>Infliximab</td>\n",
       "      <td>20210929.0</td>\n",
       "      <td>OT</td>\n",
       "    </tr>\n",
       "    <tr>\n",
       "      <th>1</th>\n",
       "      <td>160735425</td>\n",
       "      <td>NaN</td>\n",
       "      <td>Infliximab</td>\n",
       "      <td>20210929.0</td>\n",
       "      <td>OT</td>\n",
       "    </tr>\n",
       "    <tr>\n",
       "      <th>2</th>\n",
       "      <td>160799174</td>\n",
       "      <td>NaN</td>\n",
       "      <td>Infliximab</td>\n",
       "      <td>20210907.0</td>\n",
       "      <td>DE</td>\n",
       "    </tr>\n",
       "    <tr>\n",
       "      <th>3</th>\n",
       "      <td>160799174</td>\n",
       "      <td>NaN</td>\n",
       "      <td>Infliximab</td>\n",
       "      <td>20210907.0</td>\n",
       "      <td>HO</td>\n",
       "    </tr>\n",
       "    <tr>\n",
       "      <th>4</th>\n",
       "      <td>160799174</td>\n",
       "      <td>NaN</td>\n",
       "      <td>Infliximab</td>\n",
       "      <td>20210907.0</td>\n",
       "      <td>OT</td>\n",
       "    </tr>\n",
       "  </tbody>\n",
       "</table>\n",
       "</div>"
      ],
      "text/plain": [
       "   primaryid  start_dt    drugname      fda_dt outc_cod\n",
       "0  160735425       NaN  Infliximab  20210929.0       OT\n",
       "1  160735425       NaN  Infliximab  20210929.0       OT\n",
       "2  160799174       NaN  Infliximab  20210907.0       DE\n",
       "3  160799174       NaN  Infliximab  20210907.0       HO\n",
       "4  160799174       NaN  Infliximab  20210907.0       OT"
      ]
     },
     "execution_count": 3,
     "metadata": {},
     "output_type": "execute_result"
    }
   ],
   "source": [
    "df1.head()"
   ]
  },
  {
   "cell_type": "code",
   "execution_count": 4,
   "metadata": {
    "ExecuteTime": {
     "end_time": "2022-03-08T21:04:15.299523Z",
     "start_time": "2022-03-08T21:04:15.288327Z"
    }
   },
   "outputs": [
    {
     "data": {
      "text/html": [
       "<div>\n",
       "<style scoped>\n",
       "    .dataframe tbody tr th:only-of-type {\n",
       "        vertical-align: middle;\n",
       "    }\n",
       "\n",
       "    .dataframe tbody tr th {\n",
       "        vertical-align: top;\n",
       "    }\n",
       "\n",
       "    .dataframe thead th {\n",
       "        text-align: right;\n",
       "    }\n",
       "</style>\n",
       "<table border=\"1\" class=\"dataframe\">\n",
       "  <thead>\n",
       "    <tr style=\"text-align: right;\">\n",
       "      <th></th>\n",
       "      <th>primaryid</th>\n",
       "      <th>drugname</th>\n",
       "      <th>pt</th>\n",
       "      <th>outc_cod</th>\n",
       "    </tr>\n",
       "  </thead>\n",
       "  <tbody>\n",
       "    <tr>\n",
       "      <th>0</th>\n",
       "      <td>160821476</td>\n",
       "      <td>Infliximab</td>\n",
       "      <td>Skin infection</td>\n",
       "      <td>OT</td>\n",
       "    </tr>\n",
       "    <tr>\n",
       "      <th>1</th>\n",
       "      <td>160821476</td>\n",
       "      <td>Infliximab</td>\n",
       "      <td>Sinusitis</td>\n",
       "      <td>OT</td>\n",
       "    </tr>\n",
       "    <tr>\n",
       "      <th>2</th>\n",
       "      <td>160821476</td>\n",
       "      <td>Infliximab</td>\n",
       "      <td>Pain</td>\n",
       "      <td>OT</td>\n",
       "    </tr>\n",
       "    <tr>\n",
       "      <th>3</th>\n",
       "      <td>160821476</td>\n",
       "      <td>Infliximab</td>\n",
       "      <td>Off label use</td>\n",
       "      <td>OT</td>\n",
       "    </tr>\n",
       "    <tr>\n",
       "      <th>4</th>\n",
       "      <td>160821476</td>\n",
       "      <td>Infliximab</td>\n",
       "      <td>Joint swelling</td>\n",
       "      <td>OT</td>\n",
       "    </tr>\n",
       "  </tbody>\n",
       "</table>\n",
       "</div>"
      ],
      "text/plain": [
       "   primaryid    drugname              pt outc_cod\n",
       "0  160821476  Infliximab  Skin infection       OT\n",
       "1  160821476  Infliximab       Sinusitis       OT\n",
       "2  160821476  Infliximab            Pain       OT\n",
       "3  160821476  Infliximab   Off label use       OT\n",
       "4  160821476  Infliximab  Joint swelling       OT"
      ]
     },
     "execution_count": 4,
     "metadata": {},
     "output_type": "execute_result"
    }
   ],
   "source": [
    "df2.head()"
   ]
  },
  {
   "cell_type": "code",
   "execution_count": 7,
   "metadata": {
    "ExecuteTime": {
     "end_time": "2022-03-08T21:05:02.571535Z",
     "start_time": "2022-03-08T21:05:02.568135Z"
    }
   },
   "outputs": [
    {
     "data": {
      "text/plain": [
       "1365"
      ]
     },
     "execution_count": 7,
     "metadata": {},
     "output_type": "execute_result"
    }
   ],
   "source": [
    "len(df2['primaryid'].unique())"
   ]
  },
  {
   "cell_type": "code",
   "execution_count": 8,
   "metadata": {
    "ExecuteTime": {
     "end_time": "2022-03-08T21:05:09.268711Z",
     "start_time": "2022-03-08T21:05:09.265021Z"
    }
   },
   "outputs": [
    {
     "data": {
      "text/plain": [
       "1365"
      ]
     },
     "execution_count": 8,
     "metadata": {},
     "output_type": "execute_result"
    }
   ],
   "source": [
    "len(df1['primaryid'].unique())"
   ]
  },
  {
   "cell_type": "code",
   "execution_count": 9,
   "metadata": {
    "ExecuteTime": {
     "end_time": "2022-03-08T21:09:57.744424Z",
     "start_time": "2022-03-08T21:09:57.735350Z"
    }
   },
   "outputs": [
    {
     "data": {
      "text/plain": [
       "1595"
      ]
     },
     "execution_count": 9,
     "metadata": {},
     "output_type": "execute_result"
    }
   ],
   "source": [
    "len(df2['pt'].unique())"
   ]
  },
  {
   "cell_type": "code",
   "execution_count": 39,
   "metadata": {
    "ExecuteTime": {
     "end_time": "2022-03-08T22:04:29.233615Z",
     "start_time": "2022-03-08T22:04:29.210946Z"
    }
   },
   "outputs": [
    {
     "data": {
      "text/html": [
       "<div>\n",
       "<style scoped>\n",
       "    .dataframe tbody tr th:only-of-type {\n",
       "        vertical-align: middle;\n",
       "    }\n",
       "\n",
       "    .dataframe tbody tr th {\n",
       "        vertical-align: top;\n",
       "    }\n",
       "\n",
       "    .dataframe thead th {\n",
       "        text-align: right;\n",
       "    }\n",
       "</style>\n",
       "<table border=\"1\" class=\"dataframe\">\n",
       "  <thead>\n",
       "    <tr style=\"text-align: right;\">\n",
       "      <th></th>\n",
       "      <th>primaryid</th>\n",
       "      <th>start_dt</th>\n",
       "      <th>drugname</th>\n",
       "      <th>fda_dt</th>\n",
       "      <th>outc_cod</th>\n",
       "    </tr>\n",
       "  </thead>\n",
       "  <tbody>\n",
       "    <tr>\n",
       "      <th>577</th>\n",
       "      <td>195010281</td>\n",
       "      <td>NaN</td>\n",
       "      <td>Infliximab</td>\n",
       "      <td>20210707.0</td>\n",
       "      <td>NaN</td>\n",
       "    </tr>\n",
       "    <tr>\n",
       "      <th>652</th>\n",
       "      <td>198882081</td>\n",
       "      <td>NaN</td>\n",
       "      <td>Infliximab (Unknown)</td>\n",
       "      <td>20210928.0</td>\n",
       "      <td>NaN</td>\n",
       "    </tr>\n",
       "    <tr>\n",
       "      <th>878</th>\n",
       "      <td>198794781</td>\n",
       "      <td>NaN</td>\n",
       "      <td>Infliximab (Unknown)</td>\n",
       "      <td>20210924.0</td>\n",
       "      <td>NaN</td>\n",
       "    </tr>\n",
       "    <tr>\n",
       "      <th>879</th>\n",
       "      <td>198795651</td>\n",
       "      <td>201907.0</td>\n",
       "      <td>Infliximab (Unknown)</td>\n",
       "      <td>20210924.0</td>\n",
       "      <td>NaN</td>\n",
       "    </tr>\n",
       "    <tr>\n",
       "      <th>881</th>\n",
       "      <td>198851421</td>\n",
       "      <td>NaN</td>\n",
       "      <td>Infliximab (Unknown)</td>\n",
       "      <td>20210927.0</td>\n",
       "      <td>NaN</td>\n",
       "    </tr>\n",
       "    <tr>\n",
       "      <th>...</th>\n",
       "      <td>...</td>\n",
       "      <td>...</td>\n",
       "      <td>...</td>\n",
       "      <td>...</td>\n",
       "      <td>...</td>\n",
       "    </tr>\n",
       "    <tr>\n",
       "      <th>4454</th>\n",
       "      <td>198785571</td>\n",
       "      <td>NaN</td>\n",
       "      <td>Infliximab (Unknown)</td>\n",
       "      <td>20210924.0</td>\n",
       "      <td>NaN</td>\n",
       "    </tr>\n",
       "    <tr>\n",
       "      <th>4455</th>\n",
       "      <td>198785571</td>\n",
       "      <td>NaN</td>\n",
       "      <td>Infliximab (Unknown)</td>\n",
       "      <td>20210924.0</td>\n",
       "      <td>NaN</td>\n",
       "    </tr>\n",
       "    <tr>\n",
       "      <th>4456</th>\n",
       "      <td>198785571</td>\n",
       "      <td>NaN</td>\n",
       "      <td>Infliximab (Unknown)</td>\n",
       "      <td>20210924.0</td>\n",
       "      <td>NaN</td>\n",
       "    </tr>\n",
       "    <tr>\n",
       "      <th>4457</th>\n",
       "      <td>198785571</td>\n",
       "      <td>NaN</td>\n",
       "      <td>Infliximab (Unknown)</td>\n",
       "      <td>20210924.0</td>\n",
       "      <td>NaN</td>\n",
       "    </tr>\n",
       "    <tr>\n",
       "      <th>4462</th>\n",
       "      <td>198984821</td>\n",
       "      <td>NaN</td>\n",
       "      <td>Infliximab</td>\n",
       "      <td>20210929.0</td>\n",
       "      <td>NaN</td>\n",
       "    </tr>\n",
       "  </tbody>\n",
       "</table>\n",
       "<p>65 rows × 5 columns</p>\n",
       "</div>"
      ],
      "text/plain": [
       "      primaryid  start_dt              drugname      fda_dt outc_cod\n",
       "577   195010281       NaN            Infliximab  20210707.0      NaN\n",
       "652   198882081       NaN  Infliximab (Unknown)  20210928.0      NaN\n",
       "878   198794781       NaN  Infliximab (Unknown)  20210924.0      NaN\n",
       "879   198795651  201907.0  Infliximab (Unknown)  20210924.0      NaN\n",
       "881   198851421       NaN  Infliximab (Unknown)  20210927.0      NaN\n",
       "...         ...       ...                   ...         ...      ...\n",
       "4454  198785571       NaN  Infliximab (Unknown)  20210924.0      NaN\n",
       "4455  198785571       NaN  Infliximab (Unknown)  20210924.0      NaN\n",
       "4456  198785571       NaN  Infliximab (Unknown)  20210924.0      NaN\n",
       "4457  198785571       NaN  Infliximab (Unknown)  20210924.0      NaN\n",
       "4462  198984821       NaN            Infliximab  20210929.0      NaN\n",
       "\n",
       "[65 rows x 5 columns]"
      ]
     },
     "execution_count": 39,
     "metadata": {},
     "output_type": "execute_result"
    }
   ],
   "source": [
    "df1[df1['outc_cod'].isna()]"
   ]
  },
  {
   "cell_type": "code",
   "execution_count": 135,
   "metadata": {
    "ExecuteTime": {
     "end_time": "2022-03-09T17:16:25.520406Z",
     "start_time": "2022-03-09T17:16:25.514878Z"
    }
   },
   "outputs": [
    {
     "data": {
      "text/plain": [
       "20180266.5"
      ]
     },
     "execution_count": 135,
     "metadata": {},
     "output_type": "execute_result"
    }
   ],
   "source": [
    "df1['start_dt'].median()"
   ]
  },
  {
   "cell_type": "code",
   "execution_count": 27,
   "metadata": {
    "ExecuteTime": {
     "end_time": "2022-03-08T21:30:29.571421Z",
     "start_time": "2022-03-08T21:30:29.564235Z"
    }
   },
   "outputs": [
    {
     "data": {
      "text/plain": [
       "array([2020., 2010., 2016., 2013., 2017., 2019., 2014., 2018., 2015.,\n",
       "       2004., 2003., 2005., 2009., 2002., 2012.])"
      ]
     },
     "execution_count": 27,
     "metadata": {},
     "output_type": "execute_result"
    }
   ],
   "source": [
    "df1[df1['start_dt'] < 2022.0]['start_dt'].unique()"
   ]
  },
  {
   "cell_type": "code",
   "execution_count": 26,
   "metadata": {
    "ExecuteTime": {
     "end_time": "2022-03-08T21:29:14.144950Z",
     "start_time": "2022-03-08T21:29:14.138280Z"
    }
   },
   "outputs": [
    {
     "data": {
      "text/plain": [
       "15"
      ]
     },
     "execution_count": 26,
     "metadata": {},
     "output_type": "execute_result"
    }
   ],
   "source": [
    "len(df1[df1['start_dt'] < 2022.0]['start_dt'].unique())"
   ]
  },
  {
   "cell_type": "code",
   "execution_count": 29,
   "metadata": {
    "ExecuteTime": {
     "end_time": "2022-03-08T21:32:54.819812Z",
     "start_time": "2022-03-08T21:32:54.814992Z"
    }
   },
   "outputs": [
    {
     "data": {
      "text/plain": [
       "20200101.0"
      ]
     },
     "execution_count": 29,
     "metadata": {},
     "output_type": "execute_result"
    }
   ],
   "source": [
    "float((2020 * 10000) + (1*100) + 1)"
   ]
  },
  {
   "cell_type": "code",
   "execution_count": 34,
   "metadata": {
    "ExecuteTime": {
     "end_time": "2022-03-08T21:37:54.513677Z",
     "start_time": "2022-03-08T21:37:54.508871Z"
    }
   },
   "outputs": [
    {
     "data": {
      "text/plain": [
       "array([False, False, False, ..., False, False, False])"
      ]
     },
     "execution_count": 34,
     "metadata": {},
     "output_type": "execute_result"
    }
   ],
   "source": [
    "df1['start_dt'].values < 2022.0"
   ]
  },
  {
   "cell_type": "code",
   "execution_count": 38,
   "metadata": {
    "ExecuteTime": {
     "end_time": "2022-03-08T22:03:23.399070Z",
     "start_time": "2022-03-08T22:03:23.385809Z"
    }
   },
   "outputs": [
    {
     "data": {
      "text/html": [
       "<div>\n",
       "<style scoped>\n",
       "    .dataframe tbody tr th:only-of-type {\n",
       "        vertical-align: middle;\n",
       "    }\n",
       "\n",
       "    .dataframe tbody tr th {\n",
       "        vertical-align: top;\n",
       "    }\n",
       "\n",
       "    .dataframe thead th {\n",
       "        text-align: right;\n",
       "    }\n",
       "</style>\n",
       "<table border=\"1\" class=\"dataframe\">\n",
       "  <thead>\n",
       "    <tr style=\"text-align: right;\">\n",
       "      <th></th>\n",
       "      <th>primaryid</th>\n",
       "      <th>start_dt</th>\n",
       "      <th>drugname</th>\n",
       "      <th>fda_dt</th>\n",
       "      <th>outc_cod</th>\n",
       "    </tr>\n",
       "  </thead>\n",
       "  <tbody>\n",
       "    <tr>\n",
       "      <th>8</th>\n",
       "      <td>160821476</td>\n",
       "      <td>NaN</td>\n",
       "      <td>Infliximab</td>\n",
       "      <td>20210802.0</td>\n",
       "      <td>OT</td>\n",
       "    </tr>\n",
       "    <tr>\n",
       "      <th>9</th>\n",
       "      <td>160821476</td>\n",
       "      <td>NaN</td>\n",
       "      <td>Infliximab</td>\n",
       "      <td>20210802.0</td>\n",
       "      <td>OT</td>\n",
       "    </tr>\n",
       "    <tr>\n",
       "      <th>10</th>\n",
       "      <td>160821476</td>\n",
       "      <td>NaN</td>\n",
       "      <td>Infliximab</td>\n",
       "      <td>20210802.0</td>\n",
       "      <td>OT</td>\n",
       "    </tr>\n",
       "    <tr>\n",
       "      <th>11</th>\n",
       "      <td>160821476</td>\n",
       "      <td>NaN</td>\n",
       "      <td>Infliximab</td>\n",
       "      <td>20210802.0</td>\n",
       "      <td>OT</td>\n",
       "    </tr>\n",
       "  </tbody>\n",
       "</table>\n",
       "</div>"
      ],
      "text/plain": [
       "    primaryid  start_dt    drugname      fda_dt outc_cod\n",
       "8   160821476       NaN  Infliximab  20210802.0       OT\n",
       "9   160821476       NaN  Infliximab  20210802.0       OT\n",
       "10  160821476       NaN  Infliximab  20210802.0       OT\n",
       "11  160821476       NaN  Infliximab  20210802.0       OT"
      ]
     },
     "execution_count": 38,
     "metadata": {},
     "output_type": "execute_result"
    }
   ],
   "source": [
    "df1[df1['primaryid'] == 160821476]"
   ]
  },
  {
   "cell_type": "code",
   "execution_count": 49,
   "metadata": {
    "ExecuteTime": {
     "end_time": "2022-03-08T22:44:36.586875Z",
     "start_time": "2022-03-08T22:44:36.574181Z"
    }
   },
   "outputs": [],
   "source": [
    "x = df2['pt'].value_counts()[:15]"
   ]
  },
  {
   "cell_type": "code",
   "execution_count": 104,
   "metadata": {
    "ExecuteTime": {
     "end_time": "2022-03-09T16:56:40.624884Z",
     "start_time": "2022-03-09T16:56:40.620340Z"
    }
   },
   "outputs": [
    {
     "data": {
      "text/plain": [
       "array(['Off label use', 'Condition aggravated',\n",
       "       'Intentional product use issue',\n",
       "       'Inappropriate schedule of product administration',\n",
       "       'Product use issue', 'Blood pressure fluctuation',\n",
       "       'Drug ineffective', 'Arthralgia', 'Weight increased', 'Fatigue',\n",
       "       'Blood pressure increased', 'Nausea', 'Weight decreased',\n",
       "       'Malaise', 'Diarrhoea'], dtype=object)"
      ]
     },
     "execution_count": 104,
     "metadata": {},
     "output_type": "execute_result"
    }
   ],
   "source": [
    "x.index.values"
   ]
  },
  {
   "cell_type": "code",
   "execution_count": 69,
   "metadata": {
    "ExecuteTime": {
     "end_time": "2022-03-08T22:53:18.199093Z",
     "start_time": "2022-03-08T22:53:18.192190Z"
    }
   },
   "outputs": [
    {
     "data": {
      "text/plain": [
       "array(['Skin infection', 'Sinusitis', 'Pain', 'Off label use',\n",
       "       'Joint swelling', 'Incorrect dose administered', 'Hypertension',\n",
       "       'Gait disturbance', 'Condition aggravated', 'Bronchitis',\n",
       "       'Blood pressure increased', 'Blood pressure fluctuation',\n",
       "       'Animal bite', 'Abdominal abscess'], dtype=object)"
      ]
     },
     "execution_count": 69,
     "metadata": {},
     "output_type": "execute_result"
    }
   ],
   "source": [
    "df2[df2['primaryid'] == 160821476]['pt'].unique()"
   ]
  },
  {
   "cell_type": "code",
   "execution_count": 70,
   "metadata": {
    "ExecuteTime": {
     "end_time": "2022-03-08T22:54:03.247733Z",
     "start_time": "2022-03-08T22:54:03.241055Z"
    }
   },
   "outputs": [
    {
     "data": {
      "text/plain": [
       "array(['Off label use', 'Drug effective for unapproved indication'],\n",
       "      dtype=object)"
      ]
     },
     "execution_count": 70,
     "metadata": {},
     "output_type": "execute_result"
    }
   ],
   "source": [
    "df2[df2['primaryid'] == 198785571]['pt'].unique()"
   ]
  },
  {
   "cell_type": "code",
   "execution_count": 71,
   "metadata": {
    "ExecuteTime": {
     "end_time": "2022-03-08T22:54:36.050952Z",
     "start_time": "2022-03-08T22:54:36.042065Z"
    }
   },
   "outputs": [
    {
     "data": {
      "text/plain": [
       "1595"
      ]
     },
     "execution_count": 71,
     "metadata": {},
     "output_type": "execute_result"
    }
   ],
   "source": [
    "len(df2['pt'].unique())"
   ]
  },
  {
   "cell_type": "code",
   "execution_count": 81,
   "metadata": {
    "ExecuteTime": {
     "end_time": "2022-03-08T23:12:53.639226Z",
     "start_time": "2022-03-08T23:12:52.022811Z"
    }
   },
   "outputs": [
    {
     "name": "stdout",
     "output_type": "stream",
     "text": [
      "1\n",
      "3\n",
      "1\n",
      "1\n",
      "1\n",
      "1\n",
      "1\n",
      "1\n",
      "1\n",
      "1\n",
      "1\n",
      "1\n",
      "1\n",
      "1\n",
      "1\n",
      "1\n",
      "1\n",
      "1\n",
      "1\n",
      "2\n",
      "2\n",
      "1\n",
      "1\n",
      "1\n",
      "1\n",
      "1\n",
      "1\n",
      "2\n",
      "1\n",
      "1\n",
      "1\n",
      "1\n",
      "1\n",
      "2\n",
      "1\n",
      "1\n",
      "1\n",
      "2\n",
      "1\n",
      "1\n",
      "2\n",
      "1\n",
      "1\n",
      "1\n",
      "1\n",
      "1\n",
      "1\n",
      "1\n",
      "1\n",
      "1\n",
      "2\n",
      "1\n",
      "1\n",
      "2\n",
      "1\n",
      "1\n",
      "2\n",
      "1\n",
      "1\n",
      "1\n",
      "1\n",
      "1\n",
      "1\n",
      "1\n",
      "1\n",
      "2\n",
      "1\n",
      "2\n",
      "1\n",
      "1\n",
      "1\n",
      "1\n",
      "2\n",
      "1\n",
      "2\n",
      "1\n",
      "1\n",
      "1\n",
      "2\n",
      "2\n",
      "1\n",
      "1\n",
      "1\n",
      "2\n",
      "2\n",
      "1\n",
      "1\n",
      "1\n",
      "1\n",
      "1\n",
      "1\n",
      "1\n",
      "1\n",
      "1\n",
      "1\n",
      "1\n",
      "3\n",
      "1\n",
      "1\n",
      "1\n",
      "1\n",
      "1\n",
      "2\n",
      "1\n",
      "1\n",
      "2\n",
      "1\n",
      "1\n",
      "1\n",
      "2\n",
      "1\n",
      "1\n",
      "1\n",
      "1\n",
      "2\n",
      "1\n",
      "1\n",
      "1\n",
      "2\n",
      "1\n",
      "1\n",
      "1\n",
      "1\n",
      "1\n",
      "1\n",
      "2\n",
      "1\n",
      "1\n",
      "1\n",
      "1\n",
      "1\n",
      "1\n",
      "1\n",
      "1\n",
      "1\n",
      "1\n",
      "1\n",
      "1\n",
      "1\n",
      "2\n",
      "2\n",
      "2\n",
      "1\n",
      "1\n",
      "2\n",
      "2\n",
      "1\n",
      "1\n",
      "1\n",
      "2\n",
      "1\n",
      "1\n",
      "1\n",
      "1\n",
      "2\n",
      "1\n",
      "1\n",
      "1\n",
      "1\n",
      "1\n",
      "2\n",
      "1\n",
      "1\n",
      "1\n",
      "1\n",
      "2\n",
      "2\n",
      "1\n",
      "1\n",
      "1\n",
      "2\n",
      "1\n",
      "1\n",
      "1\n",
      "1\n",
      "1\n",
      "1\n",
      "1\n",
      "1\n",
      "1\n",
      "1\n",
      "1\n",
      "1\n",
      "1\n",
      "1\n",
      "1\n",
      "2\n",
      "1\n",
      "1\n",
      "1\n",
      "1\n",
      "1\n",
      "2\n",
      "1\n",
      "1\n",
      "2\n",
      "2\n",
      "1\n",
      "1\n",
      "1\n",
      "1\n",
      "3\n",
      "1\n",
      "1\n",
      "1\n",
      "1\n",
      "1\n",
      "1\n",
      "1\n",
      "1\n",
      "2\n",
      "1\n",
      "1\n",
      "1\n",
      "1\n",
      "1\n",
      "1\n",
      "2\n",
      "2\n",
      "1\n",
      "2\n",
      "1\n",
      "1\n",
      "1\n",
      "2\n",
      "1\n",
      "1\n",
      "1\n",
      "1\n",
      "1\n",
      "1\n",
      "2\n",
      "1\n",
      "2\n",
      "1\n",
      "2\n",
      "2\n",
      "1\n",
      "1\n",
      "1\n",
      "1\n",
      "1\n",
      "1\n",
      "1\n",
      "1\n",
      "1\n",
      "2\n",
      "1\n",
      "1\n",
      "1\n",
      "1\n",
      "2\n",
      "2\n",
      "1\n",
      "3\n",
      "1\n",
      "1\n",
      "1\n",
      "2\n",
      "1\n",
      "1\n",
      "1\n",
      "1\n",
      "1\n",
      "1\n",
      "1\n",
      "2\n",
      "1\n",
      "1\n",
      "1\n",
      "1\n",
      "1\n",
      "1\n",
      "1\n",
      "1\n",
      "2\n",
      "3\n",
      "1\n",
      "1\n",
      "2\n",
      "1\n",
      "2\n",
      "1\n",
      "1\n",
      "2\n",
      "1\n",
      "1\n",
      "1\n",
      "1\n",
      "1\n",
      "2\n",
      "1\n",
      "2\n",
      "2\n",
      "1\n",
      "2\n",
      "2\n",
      "1\n",
      "1\n",
      "1\n",
      "2\n",
      "1\n",
      "2\n",
      "1\n",
      "1\n",
      "1\n",
      "1\n",
      "2\n",
      "1\n",
      "1\n",
      "1\n",
      "1\n",
      "1\n",
      "1\n",
      "1\n",
      "1\n",
      "2\n",
      "1\n",
      "1\n",
      "1\n",
      "1\n",
      "1\n",
      "1\n",
      "1\n",
      "1\n",
      "1\n",
      "1\n",
      "1\n",
      "1\n",
      "1\n",
      "2\n",
      "2\n",
      "1\n",
      "1\n",
      "2\n",
      "1\n",
      "1\n",
      "1\n",
      "1\n",
      "1\n",
      "1\n",
      "1\n",
      "1\n",
      "1\n",
      "1\n",
      "1\n",
      "1\n",
      "1\n",
      "2\n",
      "1\n",
      "2\n",
      "1\n",
      "1\n",
      "1\n",
      "1\n",
      "1\n",
      "1\n",
      "1\n",
      "1\n",
      "1\n",
      "2\n",
      "2\n",
      "1\n",
      "1\n",
      "2\n",
      "1\n",
      "2\n",
      "1\n",
      "2\n",
      "2\n",
      "2\n",
      "1\n",
      "1\n",
      "1\n",
      "1\n",
      "1\n",
      "1\n",
      "1\n",
      "1\n",
      "1\n",
      "2\n",
      "1\n",
      "1\n",
      "1\n",
      "2\n",
      "2\n",
      "1\n",
      "2\n",
      "1\n",
      "1\n",
      "1\n",
      "2\n",
      "1\n",
      "1\n",
      "1\n",
      "2\n",
      "2\n",
      "1\n",
      "2\n",
      "1\n",
      "2\n",
      "2\n",
      "1\n",
      "1\n",
      "1\n",
      "1\n",
      "1\n",
      "1\n",
      "2\n",
      "1\n",
      "1\n",
      "1\n",
      "1\n",
      "2\n",
      "1\n",
      "1\n",
      "2\n",
      "1\n",
      "1\n",
      "1\n",
      "1\n",
      "2\n",
      "2\n",
      "1\n",
      "1\n",
      "1\n",
      "1\n",
      "1\n",
      "1\n",
      "1\n",
      "1\n",
      "1\n",
      "2\n",
      "3\n",
      "1\n",
      "1\n",
      "2\n",
      "1\n",
      "1\n",
      "1\n",
      "1\n",
      "1\n",
      "4\n",
      "2\n",
      "1\n",
      "1\n",
      "1\n",
      "2\n",
      "1\n",
      "1\n",
      "2\n",
      "1\n",
      "1\n",
      "1\n",
      "2\n",
      "2\n",
      "1\n",
      "1\n",
      "1\n",
      "1\n",
      "1\n",
      "1\n",
      "2\n",
      "1\n",
      "1\n",
      "1\n",
      "2\n",
      "1\n",
      "1\n",
      "1\n",
      "2\n",
      "1\n",
      "1\n",
      "1\n",
      "2\n",
      "1\n",
      "2\n",
      "1\n",
      "2\n",
      "1\n",
      "2\n",
      "1\n",
      "1\n",
      "1\n",
      "2\n",
      "2\n",
      "1\n",
      "1\n",
      "1\n",
      "1\n",
      "1\n",
      "2\n",
      "2\n",
      "1\n",
      "1\n",
      "1\n",
      "1\n",
      "2\n",
      "1\n",
      "1\n",
      "1\n",
      "1\n",
      "1\n",
      "1\n",
      "2\n",
      "1\n",
      "1\n",
      "1\n",
      "1\n",
      "1\n",
      "1\n",
      "1\n",
      "1\n",
      "1\n",
      "1\n",
      "2\n",
      "2\n",
      "1\n",
      "2\n",
      "1\n",
      "1\n",
      "1\n",
      "2\n",
      "1\n",
      "1\n",
      "1\n",
      "1\n",
      "1\n",
      "1\n",
      "1\n",
      "1\n",
      "2\n",
      "1\n",
      "1\n",
      "2\n",
      "1\n",
      "1\n",
      "1\n",
      "1\n",
      "3\n",
      "1\n",
      "2\n",
      "2\n",
      "1\n",
      "1\n",
      "1\n",
      "1\n",
      "2\n",
      "1\n",
      "1\n",
      "3\n",
      "2\n",
      "3\n",
      "2\n",
      "1\n",
      "2\n",
      "1\n",
      "1\n",
      "2\n",
      "2\n",
      "2\n",
      "1\n",
      "1\n",
      "2\n",
      "2\n",
      "1\n",
      "1\n",
      "1\n",
      "1\n",
      "1\n",
      "1\n",
      "1\n",
      "1\n",
      "1\n",
      "1\n",
      "2\n",
      "1\n",
      "1\n",
      "2\n",
      "2\n",
      "1\n",
      "1\n",
      "1\n",
      "1\n",
      "1\n",
      "1\n",
      "2\n",
      "1\n",
      "1\n",
      "1\n",
      "1\n",
      "1\n",
      "1\n",
      "1\n",
      "1\n",
      "1\n",
      "2\n",
      "2\n",
      "2\n",
      "1\n",
      "1\n",
      "1\n",
      "1\n",
      "1\n",
      "1\n",
      "2\n",
      "1\n",
      "2\n",
      "1\n",
      "1\n",
      "1\n",
      "1\n",
      "2\n",
      "1\n",
      "1\n",
      "2\n",
      "1\n",
      "2\n",
      "1\n",
      "1\n",
      "1\n",
      "1\n",
      "2\n",
      "2\n",
      "1\n",
      "2\n",
      "2\n",
      "1\n",
      "2\n",
      "1\n",
      "1\n",
      "1\n",
      "1\n",
      "1\n",
      "1\n",
      "1\n",
      "1\n",
      "1\n",
      "1\n",
      "1\n",
      "1\n",
      "1\n",
      "1\n",
      "1\n",
      "1\n",
      "1\n",
      "2\n",
      "1\n",
      "1\n",
      "2\n",
      "1\n",
      "1\n",
      "1\n",
      "1\n",
      "1\n",
      "2\n",
      "1\n",
      "1\n",
      "1\n",
      "1\n",
      "1\n",
      "2\n",
      "1\n",
      "2\n",
      "1\n",
      "2\n",
      "1\n",
      "2\n",
      "2\n",
      "1\n",
      "1\n",
      "1\n",
      "1\n",
      "1\n",
      "1\n",
      "1\n",
      "1\n",
      "1\n",
      "1\n",
      "1\n",
      "1\n",
      "2\n",
      "1\n",
      "1\n",
      "1\n",
      "1\n",
      "1\n",
      "2\n",
      "2\n",
      "2\n",
      "1\n",
      "1\n",
      "2\n",
      "1\n",
      "1\n",
      "3\n",
      "1\n",
      "4\n",
      "1\n",
      "1\n",
      "2\n",
      "1\n",
      "2\n",
      "2\n",
      "2\n",
      "1\n",
      "2\n",
      "1\n",
      "1\n",
      "1\n",
      "1\n",
      "1\n",
      "1\n",
      "2\n",
      "1\n",
      "1\n",
      "1\n",
      "2\n",
      "2\n",
      "1\n",
      "1\n",
      "1\n",
      "2\n",
      "1\n",
      "1\n",
      "1\n",
      "1\n",
      "1\n",
      "1\n",
      "3\n",
      "1\n",
      "1\n",
      "1\n",
      "1\n",
      "1\n",
      "1\n",
      "1\n",
      "1\n",
      "1\n",
      "1\n",
      "1\n",
      "1\n",
      "2\n",
      "1\n",
      "1\n",
      "1\n",
      "1\n",
      "1\n",
      "1\n",
      "1\n",
      "1\n",
      "1\n",
      "1\n",
      "1\n",
      "1\n",
      "1\n",
      "1\n",
      "2\n",
      "1\n",
      "2\n",
      "1\n",
      "1\n",
      "1\n",
      "1\n",
      "1\n",
      "1\n",
      "1\n",
      "1\n",
      "2\n",
      "1\n",
      "1\n",
      "1\n",
      "1\n",
      "1\n",
      "1\n",
      "2\n",
      "1\n",
      "1\n",
      "3\n",
      "2\n",
      "1\n",
      "1\n",
      "1\n",
      "1\n",
      "1\n",
      "1\n",
      "2\n",
      "1\n",
      "1\n",
      "1\n",
      "1\n",
      "1\n",
      "1\n",
      "2\n",
      "1\n",
      "1\n",
      "2\n",
      "2\n",
      "2\n",
      "1\n",
      "1\n",
      "1\n",
      "2\n",
      "1\n",
      "1\n",
      "1\n",
      "1\n",
      "1\n",
      "1\n",
      "1\n",
      "1\n",
      "1\n",
      "1\n",
      "2\n",
      "1\n",
      "1\n",
      "1\n",
      "2\n",
      "1\n",
      "1\n",
      "1\n",
      "1\n",
      "1\n",
      "1\n",
      "2\n",
      "1\n",
      "1\n",
      "1\n",
      "2\n",
      "1\n",
      "4\n",
      "1\n",
      "1\n",
      "1\n",
      "1\n",
      "1\n",
      "2\n",
      "2\n",
      "1\n",
      "1\n",
      "1\n",
      "1\n",
      "1\n",
      "1\n",
      "1\n",
      "2\n",
      "1\n",
      "2\n",
      "2\n",
      "2\n",
      "1\n",
      "1\n",
      "1\n",
      "1\n",
      "1\n",
      "1\n",
      "1\n",
      "1\n",
      "1\n",
      "1\n",
      "1\n",
      "1\n",
      "1\n",
      "2\n",
      "1\n",
      "1\n",
      "2\n",
      "2\n",
      "1\n",
      "1\n",
      "2\n",
      "1\n",
      "1\n",
      "1\n",
      "1\n",
      "2\n",
      "1\n",
      "1\n",
      "1\n",
      "2\n",
      "1\n",
      "1\n",
      "1\n",
      "1\n",
      "1\n",
      "1\n",
      "1\n",
      "2\n",
      "1\n",
      "1\n",
      "1\n",
      "1\n",
      "1\n",
      "1\n",
      "1\n",
      "1\n",
      "1\n",
      "1\n",
      "2\n",
      "1\n",
      "1\n",
      "1\n",
      "1\n",
      "1\n",
      "1\n",
      "1\n",
      "1\n",
      "1\n",
      "2\n",
      "1\n",
      "1\n",
      "1\n",
      "1\n",
      "1\n",
      "1\n",
      "1\n",
      "1\n",
      "1\n",
      "2\n",
      "1\n",
      "3\n",
      "1\n",
      "1\n",
      "1\n",
      "1\n",
      "1\n",
      "2\n",
      "1\n",
      "1\n",
      "1\n",
      "1\n",
      "1\n",
      "1\n",
      "1\n",
      "1\n",
      "1\n",
      "2\n",
      "2\n",
      "2\n",
      "2\n",
      "1\n",
      "2\n",
      "1\n",
      "1\n",
      "1\n",
      "1\n",
      "1\n",
      "1\n",
      "1\n",
      "1\n",
      "1\n",
      "1\n",
      "1\n",
      "2\n",
      "2\n",
      "1\n",
      "1\n",
      "1\n",
      "2\n",
      "2\n",
      "1\n",
      "1\n",
      "1\n",
      "2\n",
      "1\n",
      "1\n",
      "2\n",
      "1\n",
      "1\n",
      "2\n",
      "1\n",
      "2\n",
      "1\n",
      "1\n",
      "1\n",
      "1\n",
      "1\n",
      "1\n",
      "2\n",
      "2\n",
      "1\n",
      "1\n",
      "1\n",
      "1\n",
      "3\n",
      "1\n",
      "2\n",
      "1\n",
      "1\n",
      "1\n",
      "1\n",
      "2\n",
      "1\n",
      "1\n",
      "1\n",
      "1\n",
      "2\n",
      "1\n",
      "1\n",
      "1\n",
      "1\n",
      "1\n",
      "2\n",
      "1\n",
      "1\n",
      "1\n",
      "1\n",
      "1\n",
      "1\n",
      "1\n",
      "1\n",
      "1\n",
      "2\n",
      "2\n",
      "1\n",
      "1\n",
      "1\n",
      "2\n",
      "1\n",
      "1\n",
      "1\n",
      "1\n",
      "1\n",
      "1\n",
      "1\n",
      "3\n",
      "2\n",
      "1\n",
      "1\n",
      "1\n",
      "1\n",
      "1\n",
      "1\n",
      "1\n",
      "1\n",
      "2\n",
      "1\n",
      "1\n",
      "1\n",
      "1\n",
      "1\n",
      "2\n",
      "1\n",
      "1\n",
      "1\n",
      "1\n",
      "1\n",
      "1\n",
      "1\n",
      "1\n",
      "2\n",
      "1\n",
      "1\n",
      "1\n",
      "1\n",
      "1\n",
      "2\n",
      "1\n",
      "1\n",
      "1\n",
      "1\n",
      "1\n",
      "1\n",
      "1\n",
      "1\n",
      "1\n",
      "1\n",
      "1\n",
      "2\n",
      "1\n",
      "1\n",
      "1\n",
      "1\n",
      "1\n",
      "1\n",
      "1\n",
      "1\n",
      "1\n",
      "1\n",
      "1\n",
      "1\n",
      "2\n",
      "1\n",
      "1\n",
      "1\n",
      "2\n",
      "1\n",
      "1\n",
      "1\n",
      "1\n",
      "2\n",
      "1\n",
      "1\n",
      "1\n",
      "2\n",
      "1\n",
      "1\n",
      "1\n",
      "2\n",
      "1\n",
      "1\n",
      "1\n",
      "1\n",
      "2\n",
      "1\n",
      "1\n",
      "2\n",
      "1\n",
      "1\n",
      "1\n",
      "1\n",
      "3\n",
      "2\n",
      "1\n",
      "2\n",
      "1\n",
      "1\n",
      "1\n",
      "1\n",
      "1\n",
      "1\n",
      "1\n",
      "1\n",
      "2\n",
      "1\n",
      "2\n",
      "2\n",
      "2\n",
      "1\n",
      "2\n",
      "2\n",
      "1\n",
      "2\n",
      "2\n",
      "1\n",
      "1\n",
      "1\n",
      "1\n",
      "1\n",
      "2\n",
      "1\n",
      "1\n",
      "2\n",
      "1\n",
      "2\n",
      "2\n",
      "1\n",
      "1\n",
      "1\n",
      "1\n",
      "1\n",
      "1\n",
      "1\n",
      "1\n",
      "1\n",
      "1\n",
      "1\n",
      "1\n",
      "1\n",
      "1\n",
      "1\n",
      "3\n",
      "2\n",
      "1\n",
      "1\n",
      "1\n",
      "1\n",
      "1\n",
      "1\n",
      "1\n",
      "1\n",
      "1\n",
      "1\n",
      "1\n",
      "1\n",
      "1\n",
      "1\n",
      "1\n",
      "1\n",
      "1\n",
      "1\n",
      "3\n",
      "1\n",
      "1\n",
      "1\n",
      "1\n",
      "1\n",
      "1\n",
      "1\n",
      "2\n",
      "2\n",
      "1\n",
      "2\n",
      "1\n",
      "1\n",
      "4\n",
      "1\n",
      "1\n",
      "1\n",
      "1\n",
      "2\n",
      "1\n",
      "1\n",
      "1\n",
      "2\n",
      "1\n",
      "1\n",
      "2\n",
      "1\n",
      "1\n",
      "1\n",
      "1\n",
      "1\n",
      "1\n",
      "2\n",
      "1\n",
      "1\n",
      "2\n",
      "1\n",
      "2\n",
      "1\n",
      "1\n",
      "2\n",
      "1\n",
      "1\n",
      "1\n",
      "1\n",
      "1\n",
      "2\n",
      "1\n",
      "1\n",
      "1\n",
      "3\n",
      "1\n",
      "1\n",
      "1\n",
      "1\n",
      "2\n",
      "1\n",
      "2\n",
      "1\n",
      "1\n",
      "1\n",
      "1\n",
      "2\n",
      "1\n",
      "1\n",
      "1\n",
      "1\n",
      "1\n",
      "1\n",
      "1\n",
      "1\n",
      "1\n",
      "2\n",
      "1\n",
      "1\n",
      "1\n",
      "1\n",
      "1\n",
      "1\n",
      "1\n",
      "1\n",
      "1\n",
      "1\n",
      "2\n",
      "2\n",
      "2\n",
      "1\n",
      "1\n",
      "1\n",
      "1\n",
      "1\n",
      "2\n",
      "1\n",
      "1\n",
      "1\n",
      "2\n",
      "1\n",
      "1\n",
      "1\n",
      "1\n",
      "2\n",
      "1\n",
      "1\n",
      "2\n",
      "1\n",
      "1\n",
      "1\n",
      "1\n",
      "1\n",
      "1\n",
      "2\n",
      "1\n",
      "2\n",
      "1\n",
      "1\n",
      "1\n",
      "1\n",
      "1\n",
      "1\n",
      "1\n",
      "2\n",
      "1\n",
      "1\n",
      "1\n",
      "1\n",
      "1\n",
      "3\n",
      "1\n",
      "1\n",
      "1\n",
      "1\n",
      "1\n",
      "1\n",
      "1\n",
      "2\n",
      "1\n",
      "2\n",
      "2\n",
      "2\n",
      "1\n",
      "1\n",
      "2\n",
      "2\n",
      "1\n",
      "2\n",
      "1\n",
      "1\n",
      "1\n",
      "1\n",
      "1\n",
      "1\n",
      "1\n",
      "1\n",
      "1\n",
      "2\n",
      "1\n",
      "1\n",
      "1\n",
      "2\n",
      "2\n",
      "1\n",
      "1\n",
      "2\n",
      "1\n",
      "1\n",
      "2\n",
      "1\n",
      "1\n",
      "1\n",
      "1\n",
      "1\n",
      "1\n",
      "1\n",
      "2\n",
      "2\n",
      "1\n",
      "1\n",
      "1\n",
      "1\n",
      "1\n",
      "1\n",
      "1\n",
      "1\n"
     ]
    }
   ],
   "source": [
    "for i in df1['primaryid'].unique():\n",
    "    if "
   ]
  },
  {
   "cell_type": "code",
   "execution_count": 74,
   "metadata": {
    "ExecuteTime": {
     "end_time": "2022-03-08T23:09:58.742319Z",
     "start_time": "2022-03-08T23:09:58.731052Z"
    }
   },
   "outputs": [
    {
     "data": {
      "text/html": [
       "<div>\n",
       "<style scoped>\n",
       "    .dataframe tbody tr th:only-of-type {\n",
       "        vertical-align: middle;\n",
       "    }\n",
       "\n",
       "    .dataframe tbody tr th {\n",
       "        vertical-align: top;\n",
       "    }\n",
       "\n",
       "    .dataframe thead th {\n",
       "        text-align: right;\n",
       "    }\n",
       "</style>\n",
       "<table border=\"1\" class=\"dataframe\">\n",
       "  <thead>\n",
       "    <tr style=\"text-align: right;\">\n",
       "      <th></th>\n",
       "      <th>primaryid</th>\n",
       "      <th>start_dt</th>\n",
       "      <th>drugname</th>\n",
       "      <th>fda_dt</th>\n",
       "      <th>outc_cod</th>\n",
       "    </tr>\n",
       "  </thead>\n",
       "  <tbody>\n",
       "    <tr>\n",
       "      <th>4462</th>\n",
       "      <td>198984821</td>\n",
       "      <td>NaN</td>\n",
       "      <td>Infliximab</td>\n",
       "      <td>20210929.0</td>\n",
       "      <td>NaN</td>\n",
       "    </tr>\n",
       "  </tbody>\n",
       "</table>\n",
       "</div>"
      ],
      "text/plain": [
       "      primaryid  start_dt    drugname      fda_dt outc_cod\n",
       "4462  198984821       NaN  Infliximab  20210929.0      NaN"
      ]
     },
     "execution_count": 74,
     "metadata": {},
     "output_type": "execute_result"
    }
   ],
   "source": [
    "dfz"
   ]
  },
  {
   "cell_type": "code",
   "execution_count": 133,
   "metadata": {
    "ExecuteTime": {
     "end_time": "2022-03-09T17:15:35.099025Z",
     "start_time": "2022-03-09T17:15:35.078302Z"
    }
   },
   "outputs": [
    {
     "data": {
      "text/html": [
       "<div>\n",
       "<style scoped>\n",
       "    .dataframe tbody tr th:only-of-type {\n",
       "        vertical-align: middle;\n",
       "    }\n",
       "\n",
       "    .dataframe tbody tr th {\n",
       "        vertical-align: top;\n",
       "    }\n",
       "\n",
       "    .dataframe thead th {\n",
       "        text-align: right;\n",
       "    }\n",
       "</style>\n",
       "<table border=\"1\" class=\"dataframe\">\n",
       "  <thead>\n",
       "    <tr style=\"text-align: right;\">\n",
       "      <th></th>\n",
       "      <th>primaryid</th>\n",
       "      <th>start_dt</th>\n",
       "      <th>drugname</th>\n",
       "      <th>fda_dt</th>\n",
       "      <th>outc_cod</th>\n",
       "    </tr>\n",
       "  </thead>\n",
       "  <tbody>\n",
       "    <tr>\n",
       "      <th>0</th>\n",
       "      <td>160735425</td>\n",
       "      <td>NaN</td>\n",
       "      <td>Infliximab</td>\n",
       "      <td>20210929.0</td>\n",
       "      <td>OT</td>\n",
       "    </tr>\n",
       "    <tr>\n",
       "      <th>1</th>\n",
       "      <td>160735425</td>\n",
       "      <td>NaN</td>\n",
       "      <td>Infliximab</td>\n",
       "      <td>20210929.0</td>\n",
       "      <td>OT</td>\n",
       "    </tr>\n",
       "    <tr>\n",
       "      <th>2</th>\n",
       "      <td>160799174</td>\n",
       "      <td>NaN</td>\n",
       "      <td>Infliximab</td>\n",
       "      <td>20210907.0</td>\n",
       "      <td>DE</td>\n",
       "    </tr>\n",
       "    <tr>\n",
       "      <th>3</th>\n",
       "      <td>160799174</td>\n",
       "      <td>NaN</td>\n",
       "      <td>Infliximab</td>\n",
       "      <td>20210907.0</td>\n",
       "      <td>HO</td>\n",
       "    </tr>\n",
       "    <tr>\n",
       "      <th>4</th>\n",
       "      <td>160799174</td>\n",
       "      <td>NaN</td>\n",
       "      <td>Infliximab</td>\n",
       "      <td>20210907.0</td>\n",
       "      <td>OT</td>\n",
       "    </tr>\n",
       "    <tr>\n",
       "      <th>...</th>\n",
       "      <td>...</td>\n",
       "      <td>...</td>\n",
       "      <td>...</td>\n",
       "      <td>...</td>\n",
       "      <td>...</td>\n",
       "    </tr>\n",
       "    <tr>\n",
       "      <th>4458</th>\n",
       "      <td>198785631</td>\n",
       "      <td>NaN</td>\n",
       "      <td>Infliximab</td>\n",
       "      <td>20210924.0</td>\n",
       "      <td>OT</td>\n",
       "    </tr>\n",
       "    <tr>\n",
       "      <th>4459</th>\n",
       "      <td>198804391</td>\n",
       "      <td>NaN</td>\n",
       "      <td>Infliximab</td>\n",
       "      <td>20210924.0</td>\n",
       "      <td>OT</td>\n",
       "    </tr>\n",
       "    <tr>\n",
       "      <th>4460</th>\n",
       "      <td>198867251</td>\n",
       "      <td>NaN</td>\n",
       "      <td>Infliximab Pfizer (Unknown)</td>\n",
       "      <td>20210928.0</td>\n",
       "      <td>OT</td>\n",
       "    </tr>\n",
       "    <tr>\n",
       "      <th>4461</th>\n",
       "      <td>198915771</td>\n",
       "      <td>NaN</td>\n",
       "      <td>Infliximab Hospira</td>\n",
       "      <td>20210928.0</td>\n",
       "      <td>OT</td>\n",
       "    </tr>\n",
       "    <tr>\n",
       "      <th>4462</th>\n",
       "      <td>198984821</td>\n",
       "      <td>NaN</td>\n",
       "      <td>Infliximab</td>\n",
       "      <td>20210929.0</td>\n",
       "      <td>NaN</td>\n",
       "    </tr>\n",
       "  </tbody>\n",
       "</table>\n",
       "<p>4463 rows × 5 columns</p>\n",
       "</div>"
      ],
      "text/plain": [
       "      primaryid  start_dt                     drugname      fda_dt outc_cod\n",
       "0     160735425       NaN                   Infliximab  20210929.0       OT\n",
       "1     160735425       NaN                   Infliximab  20210929.0       OT\n",
       "2     160799174       NaN                   Infliximab  20210907.0       DE\n",
       "3     160799174       NaN                   Infliximab  20210907.0       HO\n",
       "4     160799174       NaN                   Infliximab  20210907.0       OT\n",
       "...         ...       ...                          ...         ...      ...\n",
       "4458  198785631       NaN                   Infliximab  20210924.0       OT\n",
       "4459  198804391       NaN                   Infliximab  20210924.0       OT\n",
       "4460  198867251       NaN  Infliximab Pfizer (Unknown)  20210928.0       OT\n",
       "4461  198915771       NaN           Infliximab Hospira  20210928.0       OT\n",
       "4462  198984821       NaN                   Infliximab  20210929.0      NaN\n",
       "\n",
       "[4463 rows x 5 columns]"
      ]
     },
     "execution_count": 133,
     "metadata": {},
     "output_type": "execute_result"
    }
   ],
   "source": [
    "df1"
   ]
  },
  {
   "cell_type": "code",
   "execution_count": 85,
   "metadata": {
    "ExecuteTime": {
     "end_time": "2022-03-09T16:49:50.051236Z",
     "start_time": "2022-03-09T16:49:50.044882Z"
    }
   },
   "outputs": [
    {
     "data": {
      "text/plain": [
       "array(['DE', 'HO', 'OT'], dtype=object)"
      ]
     },
     "execution_count": 85,
     "metadata": {},
     "output_type": "execute_result"
    }
   ],
   "source": [
    "df1[df1['primaryid'] == 160799174]['outc_cod'].unique()"
   ]
  },
  {
   "cell_type": "code",
   "execution_count": 102,
   "metadata": {
    "ExecuteTime": {
     "end_time": "2022-03-09T16:53:25.127661Z",
     "start_time": "2022-03-09T16:53:25.120579Z"
    }
   },
   "outputs": [
    {
     "data": {
      "text/plain": [
       "1161"
      ]
     },
     "execution_count": 102,
     "metadata": {},
     "output_type": "execute_result"
    }
   ],
   "source": [
    "len(df1[df1['outc_cod'] == 'OT']['primaryid'].unique())"
   ]
  },
  {
   "cell_type": "code",
   "execution_count": 107,
   "metadata": {
    "ExecuteTime": {
     "end_time": "2022-03-09T16:57:05.311425Z",
     "start_time": "2022-03-09T16:57:05.308487Z"
    }
   },
   "outputs": [],
   "source": [
    "#append the top 15 adverse effects to this list\n",
    "column_names = ['primaryid','start_dt','fda_dt','outc_cod']"
   ]
  },
  {
   "cell_type": "code",
   "execution_count": 105,
   "metadata": {
    "ExecuteTime": {
     "end_time": "2022-03-09T16:56:52.696107Z",
     "start_time": "2022-03-09T16:56:52.693043Z"
    }
   },
   "outputs": [],
   "source": [
    "column_names.append(x.index.values)"
   ]
  },
  {
   "cell_type": "code",
   "execution_count": 112,
   "metadata": {
    "ExecuteTime": {
     "end_time": "2022-03-09T16:57:53.041482Z",
     "start_time": "2022-03-09T16:57:53.037043Z"
    }
   },
   "outputs": [
    {
     "data": {
      "text/plain": [
       "'Off label use'"
      ]
     },
     "execution_count": 112,
     "metadata": {},
     "output_type": "execute_result"
    }
   ],
   "source": [
    "x.index.values[0]"
   ]
  },
  {
   "cell_type": "code",
   "execution_count": 106,
   "metadata": {
    "ExecuteTime": {
     "end_time": "2022-03-09T16:56:58.376626Z",
     "start_time": "2022-03-09T16:56:58.372185Z"
    }
   },
   "outputs": [
    {
     "data": {
      "text/plain": [
       "['primaryid',\n",
       " 'start_dt',\n",
       " 'fda_dt',\n",
       " 'outc_cod',\n",
       " array(['Off label use', 'Condition aggravated',\n",
       "        'Intentional product use issue',\n",
       "        'Inappropriate schedule of product administration',\n",
       "        'Product use issue', 'Blood pressure fluctuation',\n",
       "        'Drug ineffective', 'Arthralgia', 'Weight increased', 'Fatigue',\n",
       "        'Blood pressure increased', 'Nausea', 'Weight decreased',\n",
       "        'Malaise', 'Diarrhoea'], dtype=object)]"
      ]
     },
     "execution_count": 106,
     "metadata": {},
     "output_type": "execute_result"
    }
   ],
   "source": [
    "column_names"
   ]
  },
  {
   "cell_type": "code",
   "execution_count": 134,
   "metadata": {
    "ExecuteTime": {
     "end_time": "2022-03-09T17:15:43.538809Z",
     "start_time": "2022-03-09T17:15:43.529159Z"
    }
   },
   "outputs": [
    {
     "data": {
      "text/html": [
       "<div>\n",
       "<style scoped>\n",
       "    .dataframe tbody tr th:only-of-type {\n",
       "        vertical-align: middle;\n",
       "    }\n",
       "\n",
       "    .dataframe tbody tr th {\n",
       "        vertical-align: top;\n",
       "    }\n",
       "\n",
       "    .dataframe thead th {\n",
       "        text-align: right;\n",
       "    }\n",
       "</style>\n",
       "<table border=\"1\" class=\"dataframe\">\n",
       "  <thead>\n",
       "    <tr style=\"text-align: right;\">\n",
       "      <th></th>\n",
       "      <th>primaryid</th>\n",
       "      <th>start_dt</th>\n",
       "      <th>drugname</th>\n",
       "      <th>fda_dt</th>\n",
       "      <th>outc_cod</th>\n",
       "    </tr>\n",
       "  </thead>\n",
       "  <tbody>\n",
       "  </tbody>\n",
       "</table>\n",
       "</div>"
      ],
      "text/plain": [
       "Empty DataFrame\n",
       "Columns: [primaryid, start_dt, drugname, fda_dt, outc_cod]\n",
       "Index: []"
      ]
     },
     "execution_count": 134,
     "metadata": {},
     "output_type": "execute_result"
    }
   ],
   "source": [
    "df1[df1['start_dt'] < 2021]"
   ]
  },
  {
   "cell_type": "code",
   "execution_count": 117,
   "metadata": {
    "ExecuteTime": {
     "end_time": "2022-03-09T17:03:38.339586Z",
     "start_time": "2022-03-09T17:03:38.332789Z"
    }
   },
   "outputs": [
    {
     "data": {
      "text/plain": [
       "array([20210907.])"
      ]
     },
     "execution_count": 117,
     "metadata": {},
     "output_type": "execute_result"
    }
   ],
   "source": [
    "df1[df1['primaryid'] == 160799174]['fda_dt'].unique()"
   ]
  },
  {
   "cell_type": "code",
   "execution_count": 118,
   "metadata": {
    "ExecuteTime": {
     "end_time": "2022-03-09T17:03:56.976395Z",
     "start_time": "2022-03-09T17:03:56.971246Z"
    }
   },
   "outputs": [
    {
     "data": {
      "text/plain": [
       "20180131.0"
      ]
     },
     "execution_count": 118,
     "metadata": {},
     "output_type": "execute_result"
    }
   ],
   "source": [
    "df1['start_dt'].isna()"
   ]
  },
  {
   "cell_type": "code",
   "execution_count": 132,
   "metadata": {
    "ExecuteTime": {
     "end_time": "2022-03-09T17:15:28.879050Z",
     "start_time": "2022-03-09T17:15:28.872372Z"
    }
   },
   "outputs": [
    {
     "data": {
      "text/plain": [
       "1266"
      ]
     },
     "execution_count": 132,
     "metadata": {},
     "output_type": "execute_result"
    }
   ],
   "source": [
    "len(df1[df1['start_dt'].isna()]['primaryid'].unique())"
   ]
  },
  {
   "cell_type": "code",
   "execution_count": 127,
   "metadata": {
    "ExecuteTime": {
     "end_time": "2022-03-09T17:12:11.705821Z",
     "start_time": "2022-03-09T17:12:11.701057Z"
    }
   },
   "outputs": [
    {
     "data": {
      "text/plain": [
       "20170621.0"
      ]
     },
     "execution_count": 127,
     "metadata": {},
     "output_type": "execute_result"
    }
   ],
   "source": [
    "df1['start_dt'][290]"
   ]
  },
  {
   "cell_type": "code",
   "execution_count": 131,
   "metadata": {
    "ExecuteTime": {
     "end_time": "2022-03-09T17:15:21.020357Z",
     "start_time": "2022-03-09T17:15:20.968056Z"
    }
   },
   "outputs": [],
   "source": [
    "for i in range(len(df1['start_dt'])):\n",
    "    if df1['start_dt'][i] < 2021:\n",
    "        df1['start_dt'][i] = (df1['start_dt'][i] * 10000) + 101\n"
   ]
  },
  {
   "cell_type": "code",
   "execution_count": 151,
   "metadata": {
    "ExecuteTime": {
     "end_time": "2022-03-09T17:32:01.119820Z",
     "start_time": "2022-03-09T17:32:01.114704Z"
    }
   },
   "outputs": [
    {
     "data": {
      "text/plain": [
       "0"
      ]
     },
     "execution_count": 151,
     "metadata": {},
     "output_type": "execute_result"
    }
   ],
   "source": [
    "df1['start_dt'].isna().sum()"
   ]
  },
  {
   "cell_type": "code",
   "execution_count": 149,
   "metadata": {
    "ExecuteTime": {
     "end_time": "2022-03-09T17:30:34.717888Z",
     "start_time": "2022-03-09T17:30:34.712566Z"
    }
   },
   "outputs": [
    {
     "data": {
      "text/plain": [
       "20180266.5"
      ]
     },
     "execution_count": 149,
     "metadata": {},
     "output_type": "execute_result"
    }
   ],
   "source": [
    "df1['start_dt'].median()\n",
    "#convert this 66 days into proper date it will be 20180407.0"
   ]
  },
  {
   "cell_type": "code",
   "execution_count": 150,
   "metadata": {
    "ExecuteTime": {
     "end_time": "2022-03-09T17:31:56.664749Z",
     "start_time": "2022-03-09T17:31:56.658275Z"
    }
   },
   "outputs": [],
   "source": [
    "df1['start_dt'].fillna(value=float(20180407.0),inplace=True)"
   ]
  },
  {
   "cell_type": "code",
   "execution_count": 155,
   "metadata": {
    "ExecuteTime": {
     "end_time": "2022-03-09T17:40:45.713871Z",
     "start_time": "2022-03-09T17:40:45.708601Z"
    }
   },
   "outputs": [
    {
     "data": {
      "text/plain": [
       "0"
      ]
     },
     "execution_count": 155,
     "metadata": {},
     "output_type": "execute_result"
    }
   ],
   "source": [
    "df1['fda_dt'].isna().sum()"
   ]
  },
  {
   "cell_type": "code",
   "execution_count": 153,
   "metadata": {
    "ExecuteTime": {
     "end_time": "2022-03-09T17:39:45.216845Z",
     "start_time": "2022-03-09T17:39:45.211119Z"
    }
   },
   "outputs": [
    {
     "data": {
      "text/plain": [
       "20210806.0"
      ]
     },
     "execution_count": 153,
     "metadata": {},
     "output_type": "execute_result"
    }
   ],
   "source": [
    "df1['fda_dt'].median()"
   ]
  },
  {
   "cell_type": "code",
   "execution_count": 154,
   "metadata": {
    "ExecuteTime": {
     "end_time": "2022-03-09T17:40:42.576853Z",
     "start_time": "2022-03-09T17:40:42.571675Z"
    }
   },
   "outputs": [],
   "source": [
    "df1['fda_dt'].fillna(value=float(df1['fda_dt'].median()),inplace=True)"
   ]
  },
  {
   "cell_type": "code",
   "execution_count": 156,
   "metadata": {
    "ExecuteTime": {
     "end_time": "2022-03-09T17:40:54.960571Z",
     "start_time": "2022-03-09T17:40:54.939355Z"
    }
   },
   "outputs": [
    {
     "data": {
      "text/html": [
       "<div>\n",
       "<style scoped>\n",
       "    .dataframe tbody tr th:only-of-type {\n",
       "        vertical-align: middle;\n",
       "    }\n",
       "\n",
       "    .dataframe tbody tr th {\n",
       "        vertical-align: top;\n",
       "    }\n",
       "\n",
       "    .dataframe thead th {\n",
       "        text-align: right;\n",
       "    }\n",
       "</style>\n",
       "<table border=\"1\" class=\"dataframe\">\n",
       "  <thead>\n",
       "    <tr style=\"text-align: right;\">\n",
       "      <th></th>\n",
       "      <th>primaryid</th>\n",
       "      <th>start_dt</th>\n",
       "      <th>drugname</th>\n",
       "      <th>fda_dt</th>\n",
       "      <th>outc_cod</th>\n",
       "    </tr>\n",
       "  </thead>\n",
       "  <tbody>\n",
       "    <tr>\n",
       "      <th>0</th>\n",
       "      <td>160735425</td>\n",
       "      <td>20180407.0</td>\n",
       "      <td>Infliximab</td>\n",
       "      <td>20210929.0</td>\n",
       "      <td>OT</td>\n",
       "    </tr>\n",
       "    <tr>\n",
       "      <th>1</th>\n",
       "      <td>160735425</td>\n",
       "      <td>20180407.0</td>\n",
       "      <td>Infliximab</td>\n",
       "      <td>20210929.0</td>\n",
       "      <td>OT</td>\n",
       "    </tr>\n",
       "    <tr>\n",
       "      <th>2</th>\n",
       "      <td>160799174</td>\n",
       "      <td>20180407.0</td>\n",
       "      <td>Infliximab</td>\n",
       "      <td>20210907.0</td>\n",
       "      <td>DE</td>\n",
       "    </tr>\n",
       "    <tr>\n",
       "      <th>3</th>\n",
       "      <td>160799174</td>\n",
       "      <td>20180407.0</td>\n",
       "      <td>Infliximab</td>\n",
       "      <td>20210907.0</td>\n",
       "      <td>HO</td>\n",
       "    </tr>\n",
       "    <tr>\n",
       "      <th>4</th>\n",
       "      <td>160799174</td>\n",
       "      <td>20180407.0</td>\n",
       "      <td>Infliximab</td>\n",
       "      <td>20210907.0</td>\n",
       "      <td>OT</td>\n",
       "    </tr>\n",
       "    <tr>\n",
       "      <th>...</th>\n",
       "      <td>...</td>\n",
       "      <td>...</td>\n",
       "      <td>...</td>\n",
       "      <td>...</td>\n",
       "      <td>...</td>\n",
       "    </tr>\n",
       "    <tr>\n",
       "      <th>4458</th>\n",
       "      <td>198785631</td>\n",
       "      <td>20180407.0</td>\n",
       "      <td>Infliximab</td>\n",
       "      <td>20210924.0</td>\n",
       "      <td>OT</td>\n",
       "    </tr>\n",
       "    <tr>\n",
       "      <th>4459</th>\n",
       "      <td>198804391</td>\n",
       "      <td>20180407.0</td>\n",
       "      <td>Infliximab</td>\n",
       "      <td>20210924.0</td>\n",
       "      <td>OT</td>\n",
       "    </tr>\n",
       "    <tr>\n",
       "      <th>4460</th>\n",
       "      <td>198867251</td>\n",
       "      <td>20180407.0</td>\n",
       "      <td>Infliximab Pfizer (Unknown)</td>\n",
       "      <td>20210928.0</td>\n",
       "      <td>OT</td>\n",
       "    </tr>\n",
       "    <tr>\n",
       "      <th>4461</th>\n",
       "      <td>198915771</td>\n",
       "      <td>20180407.0</td>\n",
       "      <td>Infliximab Hospira</td>\n",
       "      <td>20210928.0</td>\n",
       "      <td>OT</td>\n",
       "    </tr>\n",
       "    <tr>\n",
       "      <th>4462</th>\n",
       "      <td>198984821</td>\n",
       "      <td>20180407.0</td>\n",
       "      <td>Infliximab</td>\n",
       "      <td>20210929.0</td>\n",
       "      <td>NaN</td>\n",
       "    </tr>\n",
       "  </tbody>\n",
       "</table>\n",
       "<p>4463 rows × 5 columns</p>\n",
       "</div>"
      ],
      "text/plain": [
       "      primaryid    start_dt                     drugname      fda_dt outc_cod\n",
       "0     160735425  20180407.0                   Infliximab  20210929.0       OT\n",
       "1     160735425  20180407.0                   Infliximab  20210929.0       OT\n",
       "2     160799174  20180407.0                   Infliximab  20210907.0       DE\n",
       "3     160799174  20180407.0                   Infliximab  20210907.0       HO\n",
       "4     160799174  20180407.0                   Infliximab  20210907.0       OT\n",
       "...         ...         ...                          ...         ...      ...\n",
       "4458  198785631  20180407.0                   Infliximab  20210924.0       OT\n",
       "4459  198804391  20180407.0                   Infliximab  20210924.0       OT\n",
       "4460  198867251  20180407.0  Infliximab Pfizer (Unknown)  20210928.0       OT\n",
       "4461  198915771  20180407.0           Infliximab Hospira  20210928.0       OT\n",
       "4462  198984821  20180407.0                   Infliximab  20210929.0      NaN\n",
       "\n",
       "[4463 rows x 5 columns]"
      ]
     },
     "execution_count": 156,
     "metadata": {},
     "output_type": "execute_result"
    }
   ],
   "source": [
    "df1"
   ]
  },
  {
   "cell_type": "code",
   "execution_count": 157,
   "metadata": {
    "ExecuteTime": {
     "end_time": "2022-03-09T17:45:18.661252Z",
     "start_time": "2022-03-09T17:45:18.656324Z"
    }
   },
   "outputs": [],
   "source": [
    "df1['duration'] = df1['fda_dt'] - df1['start_dt']"
   ]
  },
  {
   "cell_type": "code",
   "execution_count": 198,
   "metadata": {
    "ExecuteTime": {
     "end_time": "2022-03-09T18:20:07.909715Z",
     "start_time": "2022-03-09T18:20:07.894272Z"
    }
   },
   "outputs": [
    {
     "data": {
      "text/html": [
       "<div>\n",
       "<style scoped>\n",
       "    .dataframe tbody tr th:only-of-type {\n",
       "        vertical-align: middle;\n",
       "    }\n",
       "\n",
       "    .dataframe tbody tr th {\n",
       "        vertical-align: top;\n",
       "    }\n",
       "\n",
       "    .dataframe thead th {\n",
       "        text-align: right;\n",
       "    }\n",
       "</style>\n",
       "<table border=\"1\" class=\"dataframe\">\n",
       "  <thead>\n",
       "    <tr style=\"text-align: right;\">\n",
       "      <th></th>\n",
       "      <th>primaryid</th>\n",
       "      <th>start_dt</th>\n",
       "      <th>drugname</th>\n",
       "      <th>fda_dt</th>\n",
       "      <th>outc_cod</th>\n",
       "      <th>duration</th>\n",
       "      <th>outcome</th>\n",
       "    </tr>\n",
       "  </thead>\n",
       "  <tbody>\n",
       "    <tr>\n",
       "      <th>0</th>\n",
       "      <td>160735425</td>\n",
       "      <td>2018-04-07</td>\n",
       "      <td>Infliximab</td>\n",
       "      <td>2021-09-29</td>\n",
       "      <td>OT</td>\n",
       "      <td>1271.0</td>\n",
       "      <td>1</td>\n",
       "    </tr>\n",
       "    <tr>\n",
       "      <th>1</th>\n",
       "      <td>160735425</td>\n",
       "      <td>2018-04-07</td>\n",
       "      <td>Infliximab</td>\n",
       "      <td>2021-09-29</td>\n",
       "      <td>OT</td>\n",
       "      <td>1271.0</td>\n",
       "      <td>1</td>\n",
       "    </tr>\n",
       "    <tr>\n",
       "      <th>2</th>\n",
       "      <td>160799174</td>\n",
       "      <td>2018-04-07</td>\n",
       "      <td>Infliximab</td>\n",
       "      <td>2021-09-07</td>\n",
       "      <td>DE</td>\n",
       "      <td>1249.0</td>\n",
       "      <td>1</td>\n",
       "    </tr>\n",
       "    <tr>\n",
       "      <th>3</th>\n",
       "      <td>160799174</td>\n",
       "      <td>2018-04-07</td>\n",
       "      <td>Infliximab</td>\n",
       "      <td>2021-09-07</td>\n",
       "      <td>HO</td>\n",
       "      <td>1249.0</td>\n",
       "      <td>0</td>\n",
       "    </tr>\n",
       "    <tr>\n",
       "      <th>4</th>\n",
       "      <td>160799174</td>\n",
       "      <td>2018-04-07</td>\n",
       "      <td>Infliximab</td>\n",
       "      <td>2021-09-07</td>\n",
       "      <td>OT</td>\n",
       "      <td>1249.0</td>\n",
       "      <td>1</td>\n",
       "    </tr>\n",
       "  </tbody>\n",
       "</table>\n",
       "</div>"
      ],
      "text/plain": [
       "   primaryid   start_dt    drugname     fda_dt outc_cod  duration outcome\n",
       "0  160735425 2018-04-07  Infliximab 2021-09-29       OT    1271.0       1\n",
       "1  160735425 2018-04-07  Infliximab 2021-09-29       OT    1271.0       1\n",
       "2  160799174 2018-04-07  Infliximab 2021-09-07       DE    1249.0       1\n",
       "3  160799174 2018-04-07  Infliximab 2021-09-07       HO    1249.0       0\n",
       "4  160799174 2018-04-07  Infliximab 2021-09-07       OT    1249.0       1"
      ]
     },
     "execution_count": 198,
     "metadata": {},
     "output_type": "execute_result"
    }
   ],
   "source": [
    "df1.head()"
   ]
  },
  {
   "cell_type": "code",
   "execution_count": 171,
   "metadata": {
    "ExecuteTime": {
     "end_time": "2022-03-09T17:54:07.585546Z",
     "start_time": "2022-03-09T17:54:07.577856Z"
    }
   },
   "outputs": [],
   "source": [
    "df1['start_dt'] = pd.to_datetime(df1['start_dt'], format='%Y%m%d')"
   ]
  },
  {
   "cell_type": "code",
   "execution_count": 173,
   "metadata": {
    "ExecuteTime": {
     "end_time": "2022-03-09T17:54:59.576698Z",
     "start_time": "2022-03-09T17:54:59.570221Z"
    }
   },
   "outputs": [],
   "source": [
    "df1['fda_dt'] = pd.to_datetime(df1['fda_dt'], format='%Y%m%d')"
   ]
  },
  {
   "cell_type": "code",
   "execution_count": 167,
   "metadata": {
    "ExecuteTime": {
     "end_time": "2022-03-09T17:53:43.606345Z",
     "start_time": "2022-03-09T17:53:43.553852Z"
    }
   },
   "outputs": [],
   "source": [
    "for i in range(len(df1['start_dt'])):\n",
    "    if df1['start_dt'][i] < 202112:\n",
    "        df1['start_dt'][i] = (df1['start_dt'][i] * 100) + 1"
   ]
  },
  {
   "cell_type": "code",
   "execution_count": 179,
   "metadata": {
    "ExecuteTime": {
     "end_time": "2022-03-09T18:01:34.966226Z",
     "start_time": "2022-03-09T18:01:34.961306Z"
    }
   },
   "outputs": [],
   "source": [
    "df1 = df1.drop('duration', 1)"
   ]
  },
  {
   "cell_type": "code",
   "execution_count": 180,
   "metadata": {
    "ExecuteTime": {
     "end_time": "2022-03-09T18:01:48.480288Z",
     "start_time": "2022-03-09T18:01:48.474226Z"
    }
   },
   "outputs": [],
   "source": [
    "df1['duration'] = (df1['fda_dt'] - df1['start_dt'])/ np.timedelta64(1,'D')"
   ]
  },
  {
   "cell_type": "code",
   "execution_count": 186,
   "metadata": {
    "ExecuteTime": {
     "end_time": "2022-03-09T18:05:33.691693Z",
     "start_time": "2022-03-09T18:05:33.686608Z"
    }
   },
   "outputs": [
    {
     "data": {
      "text/plain": [
       "15.0"
      ]
     },
     "execution_count": 186,
     "metadata": {},
     "output_type": "execute_result"
    }
   ],
   "source": [
    "df1['duration'].min()"
   ]
  },
  {
   "cell_type": "code",
   "execution_count": 183,
   "metadata": {
    "ExecuteTime": {
     "end_time": "2022-03-09T18:02:22.462454Z",
     "start_time": "2022-03-09T18:02:22.458297Z"
    }
   },
   "outputs": [
    {
     "data": {
      "text/plain": [
       "238.2"
      ]
     },
     "execution_count": 183,
     "metadata": {},
     "output_type": "execute_result"
    }
   ],
   "source": [
    "7146/30"
   ]
  },
  {
   "cell_type": "code",
   "execution_count": 184,
   "metadata": {
    "ExecuteTime": {
     "end_time": "2022-03-09T18:02:30.750155Z",
     "start_time": "2022-03-09T18:02:30.745846Z"
    }
   },
   "outputs": [
    {
     "data": {
      "text/plain": [
       "19.833333333333332"
      ]
     },
     "execution_count": 184,
     "metadata": {},
     "output_type": "execute_result"
    }
   ],
   "source": []
  },
  {
   "cell_type": "code",
   "execution_count": 185,
   "metadata": {
    "ExecuteTime": {
     "end_time": "2022-03-09T18:02:48.311461Z",
     "start_time": "2022-03-09T18:02:48.306609Z"
    }
   },
   "outputs": [
    {
     "data": {
      "text/plain": [
       "Timestamp('2002-01-01 00:00:00')"
      ]
     },
     "execution_count": 185,
     "metadata": {},
     "output_type": "execute_result"
    }
   ],
   "source": [
    "df1['start_dt'].min()"
   ]
  },
  {
   "cell_type": "code",
   "execution_count": 196,
   "metadata": {
    "ExecuteTime": {
     "end_time": "2022-03-09T18:19:58.457706Z",
     "start_time": "2022-03-09T18:19:58.453574Z"
    }
   },
   "outputs": [],
   "source": [
    "df1['outcome'] = ''"
   ]
  },
  {
   "cell_type": "code",
   "execution_count": 194,
   "metadata": {
    "ExecuteTime": {
     "end_time": "2022-03-09T18:13:17.747924Z",
     "start_time": "2022-03-09T18:13:17.741632Z"
    }
   },
   "outputs": [
    {
     "data": {
      "text/plain": [
       "93"
      ]
     },
     "execution_count": 194,
     "metadata": {},
     "output_type": "execute_result"
    }
   ],
   "source": [
    "len(df1[df1['outc_cod'] == 'DE'])"
   ]
  },
  {
   "cell_type": "code",
   "execution_count": 197,
   "metadata": {
    "ExecuteTime": {
     "end_time": "2022-03-09T18:20:02.081517Z",
     "start_time": "2022-03-09T18:20:01.350391Z"
    }
   },
   "outputs": [
    {
     "name": "stderr",
     "output_type": "stream",
     "text": [
      "/home/ubuntu/anaconda3/lib/python3.6/site-packages/ipykernel_launcher.py:4: SettingWithCopyWarning: \n",
      "A value is trying to be set on a copy of a slice from a DataFrame\n",
      "\n",
      "See the caveats in the documentation: https://pandas.pydata.org/pandas-docs/stable/user_guide/indexing.html#returning-a-view-versus-a-copy\n",
      "  after removing the cwd from sys.path.\n",
      "/home/ubuntu/anaconda3/lib/python3.6/site-packages/ipykernel_launcher.py:6: SettingWithCopyWarning: \n",
      "A value is trying to be set on a copy of a slice from a DataFrame\n",
      "\n",
      "See the caveats in the documentation: https://pandas.pydata.org/pandas-docs/stable/user_guide/indexing.html#returning-a-view-versus-a-copy\n",
      "  \n"
     ]
    }
   ],
   "source": [
    "#assumimng OT,RI,DS,LT,DE as outcomes with value 1 and CA,HO with value 0\n",
    "for i in range(len(df1['outc_cod'])):\n",
    "    if df1['outc_cod'][i] in ['OT','RI','DS','LT','DE']:\n",
    "        df1['outcome'][i] = 1\n",
    "    else:\n",
    "        df1['outcome'][i] = 0"
   ]
  },
  {
   "cell_type": "code",
   "execution_count": 204,
   "metadata": {
    "ExecuteTime": {
     "end_time": "2022-03-09T19:25:23.744349Z",
     "start_time": "2022-03-09T19:25:23.738904Z"
    }
   },
   "outputs": [
    {
     "data": {
      "text/plain": [
       "0"
      ]
     },
     "execution_count": 204,
     "metadata": {},
     "output_type": "execute_result"
    }
   ],
   "source": [
    "df1['outcome'].isna().sum()"
   ]
  },
  {
   "cell_type": "code",
   "execution_count": 209,
   "metadata": {
    "ExecuteTime": {
     "end_time": "2022-03-09T19:26:41.699119Z",
     "start_time": "2022-03-09T19:26:41.692283Z"
    }
   },
   "outputs": [
    {
     "data": {
      "text/plain": [
       "1249.0"
      ]
     },
     "execution_count": 209,
     "metadata": {},
     "output_type": "execute_result"
    }
   ],
   "source": [
    "df1[df1['primaryid'] == 160799174]['duration'].max()"
   ]
  },
  {
   "cell_type": "code",
   "execution_count": 205,
   "metadata": {
    "ExecuteTime": {
     "end_time": "2022-03-09T19:25:35.306706Z",
     "start_time": "2022-03-09T19:25:35.291319Z"
    }
   },
   "outputs": [
    {
     "data": {
      "text/html": [
       "<div>\n",
       "<style scoped>\n",
       "    .dataframe tbody tr th:only-of-type {\n",
       "        vertical-align: middle;\n",
       "    }\n",
       "\n",
       "    .dataframe tbody tr th {\n",
       "        vertical-align: top;\n",
       "    }\n",
       "\n",
       "    .dataframe thead th {\n",
       "        text-align: right;\n",
       "    }\n",
       "</style>\n",
       "<table border=\"1\" class=\"dataframe\">\n",
       "  <thead>\n",
       "    <tr style=\"text-align: right;\">\n",
       "      <th></th>\n",
       "      <th>primaryid</th>\n",
       "      <th>start_dt</th>\n",
       "      <th>drugname</th>\n",
       "      <th>fda_dt</th>\n",
       "      <th>outc_cod</th>\n",
       "      <th>duration</th>\n",
       "      <th>outcome</th>\n",
       "    </tr>\n",
       "  </thead>\n",
       "  <tbody>\n",
       "    <tr>\n",
       "      <th>0</th>\n",
       "      <td>160735425</td>\n",
       "      <td>2018-04-07</td>\n",
       "      <td>Infliximab</td>\n",
       "      <td>2021-09-29</td>\n",
       "      <td>OT</td>\n",
       "      <td>1271.0</td>\n",
       "      <td>1</td>\n",
       "    </tr>\n",
       "    <tr>\n",
       "      <th>1</th>\n",
       "      <td>160735425</td>\n",
       "      <td>2018-04-07</td>\n",
       "      <td>Infliximab</td>\n",
       "      <td>2021-09-29</td>\n",
       "      <td>OT</td>\n",
       "      <td>1271.0</td>\n",
       "      <td>1</td>\n",
       "    </tr>\n",
       "    <tr>\n",
       "      <th>2</th>\n",
       "      <td>160799174</td>\n",
       "      <td>2018-04-07</td>\n",
       "      <td>Infliximab</td>\n",
       "      <td>2021-09-07</td>\n",
       "      <td>DE</td>\n",
       "      <td>1249.0</td>\n",
       "      <td>1</td>\n",
       "    </tr>\n",
       "    <tr>\n",
       "      <th>3</th>\n",
       "      <td>160799174</td>\n",
       "      <td>2018-04-07</td>\n",
       "      <td>Infliximab</td>\n",
       "      <td>2021-09-07</td>\n",
       "      <td>HO</td>\n",
       "      <td>1249.0</td>\n",
       "      <td>0</td>\n",
       "    </tr>\n",
       "    <tr>\n",
       "      <th>4</th>\n",
       "      <td>160799174</td>\n",
       "      <td>2018-04-07</td>\n",
       "      <td>Infliximab</td>\n",
       "      <td>2021-09-07</td>\n",
       "      <td>OT</td>\n",
       "      <td>1249.0</td>\n",
       "      <td>1</td>\n",
       "    </tr>\n",
       "  </tbody>\n",
       "</table>\n",
       "</div>"
      ],
      "text/plain": [
       "   primaryid   start_dt    drugname     fda_dt outc_cod  duration outcome\n",
       "0  160735425 2018-04-07  Infliximab 2021-09-29       OT    1271.0       1\n",
       "1  160735425 2018-04-07  Infliximab 2021-09-29       OT    1271.0       1\n",
       "2  160799174 2018-04-07  Infliximab 2021-09-07       DE    1249.0       1\n",
       "3  160799174 2018-04-07  Infliximab 2021-09-07       HO    1249.0       0\n",
       "4  160799174 2018-04-07  Infliximab 2021-09-07       OT    1249.0       1"
      ]
     },
     "execution_count": 205,
     "metadata": {},
     "output_type": "execute_result"
    }
   ],
   "source": [
    "df1.head()"
   ]
  },
  {
   "cell_type": "code",
   "execution_count": 211,
   "metadata": {
    "ExecuteTime": {
     "end_time": "2022-03-09T19:38:36.583174Z",
     "start_time": "2022-03-09T19:38:36.578293Z"
    }
   },
   "outputs": [
    {
     "data": {
      "text/plain": [
       "1365"
      ]
     },
     "execution_count": 211,
     "metadata": {},
     "output_type": "execute_result"
    }
   ],
   "source": [
    "len(df1['primaryid'].unique())"
   ]
  },
  {
   "cell_type": "code",
   "execution_count": 212,
   "metadata": {
    "ExecuteTime": {
     "end_time": "2022-03-09T19:46:33.606301Z",
     "start_time": "2022-03-09T19:46:33.601251Z"
    }
   },
   "outputs": [
    {
     "data": {
      "text/plain": [
       "160735425"
      ]
     },
     "execution_count": 212,
     "metadata": {},
     "output_type": "execute_result"
    }
   ],
   "source": [
    "df1['primaryid'].unique()[0]"
   ]
  },
  {
   "cell_type": "code",
   "execution_count": 215,
   "metadata": {
    "ExecuteTime": {
     "end_time": "2022-03-09T19:47:40.409291Z",
     "start_time": "2022-03-09T19:47:40.402492Z"
    }
   },
   "outputs": [
    {
     "data": {
      "text/plain": [
       "1"
      ]
     },
     "execution_count": 215,
     "metadata": {},
     "output_type": "execute_result"
    }
   ],
   "source": [
    "df1[df1['primaryid'] == 160799174]['outcome'].unique().max()"
   ]
  },
  {
   "cell_type": "code",
   "execution_count": 225,
   "metadata": {
    "ExecuteTime": {
     "end_time": "2022-03-09T20:04:30.546283Z",
     "start_time": "2022-03-09T20:04:30.540008Z"
    }
   },
   "outputs": [],
   "source": [
    "col_names = ['primaryid','duration','outcome']\n",
    "df_su = pd.DataFrame(columns = col_names)"
   ]
  },
  {
   "cell_type": "code",
   "execution_count": 216,
   "metadata": {
    "ExecuteTime": {
     "end_time": "2022-03-09T19:47:55.073359Z",
     "start_time": "2022-03-09T19:47:55.066566Z"
    }
   },
   "outputs": [
    {
     "data": {
      "text/plain": [
       "1249.0"
      ]
     },
     "execution_count": 216,
     "metadata": {},
     "output_type": "execute_result"
    }
   ],
   "source": [
    "df1[df1['primaryid'] == 160799174]['duration'].unique().min()"
   ]
  },
  {
   "cell_type": "code",
   "execution_count": 226,
   "metadata": {
    "ExecuteTime": {
     "end_time": "2022-03-09T20:04:41.613469Z",
     "start_time": "2022-03-09T20:04:34.699866Z"
    }
   },
   "outputs": [],
   "source": [
    "for i in range(len(df1['primaryid'].unique())):\n",
    "    pid = df1['primaryid'].unique()[i]\n",
    "    out = df1[df1['primaryid'] == pid]['outcome'].unique().max()\n",
    "    dur = df1[df1['primaryid'] == pid]['duration'].unique().min()\n",
    "    df_su.loc[i] = [pid,dur,out]"
   ]
  },
  {
   "cell_type": "code",
   "execution_count": 227,
   "metadata": {
    "ExecuteTime": {
     "end_time": "2022-03-09T20:04:49.497838Z",
     "start_time": "2022-03-09T20:04:49.492751Z"
    }
   },
   "outputs": [
    {
     "data": {
      "text/plain": [
       "1365"
      ]
     },
     "execution_count": 227,
     "metadata": {},
     "output_type": "execute_result"
    }
   ],
   "source": [
    "len(df_su['primaryid'].unique())"
   ]
  },
  {
   "cell_type": "code",
   "execution_count": 230,
   "metadata": {
    "ExecuteTime": {
     "end_time": "2022-03-09T20:05:17.204382Z",
     "start_time": "2022-03-09T20:05:16.853615Z"
    }
   },
   "outputs": [
    {
     "data": {
      "image/png": "[encoded data removed]",
      "text/plain": [
       "<Figure size 432x288 with 1 Axes>"
      ]
     },
     "metadata": {
      "needs_background": "light"
     },
     "output_type": "display_data"
    }
   ],
   "source": [
    "from matplotlib import pyplot as plt\n",
    "from lifelines import KaplanMeierFitter\n",
    "# Initiate and fit\n",
    "kmf = KaplanMeierFitter()\n",
    "kmf.fit(durations=df_su.duration, event_observed=df_su.outcome)\n",
    "# Plot the survival function\n",
    "kmf.survival_function_.plot()\n",
    "plt.title('Survival Curve estimated with Kaplan-Meier Fitter')\n",
    "plt.show()"
   ]
  },
  {
   "cell_type": "code",
   "execution_count": 228,
   "metadata": {
    "ExecuteTime": {
     "end_time": "2022-03-09T20:04:57.657055Z",
     "start_time": "2022-03-09T20:04:57.652778Z"
    }
   },
   "outputs": [],
   "source": [
    "df_su['duration'] = df_su['duration']/365"
   ]
  },
  {
   "cell_type": "code",
   "execution_count": 229,
   "metadata": {
    "ExecuteTime": {
     "end_time": "2022-03-09T20:05:09.280175Z",
     "start_time": "2022-03-09T20:05:09.268698Z"
    }
   },
   "outputs": [
    {
     "data": {
      "text/html": [
       "<div>\n",
       "<style scoped>\n",
       "    .dataframe tbody tr th:only-of-type {\n",
       "        vertical-align: middle;\n",
       "    }\n",
       "\n",
       "    .dataframe tbody tr th {\n",
       "        vertical-align: top;\n",
       "    }\n",
       "\n",
       "    .dataframe thead th {\n",
       "        text-align: right;\n",
       "    }\n",
       "</style>\n",
       "<table border=\"1\" class=\"dataframe\">\n",
       "  <thead>\n",
       "    <tr style=\"text-align: right;\">\n",
       "      <th></th>\n",
       "      <th>primaryid</th>\n",
       "      <th>duration</th>\n",
       "      <th>outcome</th>\n",
       "    </tr>\n",
       "  </thead>\n",
       "  <tbody>\n",
       "    <tr>\n",
       "      <th>0</th>\n",
       "      <td>160735425.0</td>\n",
       "      <td>3.482192</td>\n",
       "      <td>1.0</td>\n",
       "    </tr>\n",
       "    <tr>\n",
       "      <th>1</th>\n",
       "      <td>160799174.0</td>\n",
       "      <td>3.421918</td>\n",
       "      <td>1.0</td>\n",
       "    </tr>\n",
       "    <tr>\n",
       "      <th>2</th>\n",
       "      <td>160821476.0</td>\n",
       "      <td>3.323288</td>\n",
       "      <td>1.0</td>\n",
       "    </tr>\n",
       "    <tr>\n",
       "      <th>3</th>\n",
       "      <td>164779503.0</td>\n",
       "      <td>3.408219</td>\n",
       "      <td>1.0</td>\n",
       "    </tr>\n",
       "    <tr>\n",
       "      <th>4</th>\n",
       "      <td>166888634.0</td>\n",
       "      <td>3.306849</td>\n",
       "      <td>1.0</td>\n",
       "    </tr>\n",
       "  </tbody>\n",
       "</table>\n",
       "</div>"
      ],
      "text/plain": [
       "     primaryid  duration  outcome\n",
       "0  160735425.0  3.482192      1.0\n",
       "1  160799174.0  3.421918      1.0\n",
       "2  160821476.0  3.323288      1.0\n",
       "3  164779503.0  3.408219      1.0\n",
       "4  166888634.0  3.306849      1.0"
      ]
     },
     "execution_count": 229,
     "metadata": {},
     "output_type": "execute_result"
    }
   ],
   "source": [
    "df_su.head()"
   ]
  },
  {
   "cell_type": "code",
   "execution_count": 231,
   "metadata": {
    "ExecuteTime": {
     "end_time": "2022-03-09T20:27:22.425464Z",
     "start_time": "2022-03-09T20:27:22.413765Z"
    }
   },
   "outputs": [
    {
     "data": {
      "text/html": [
       "<div>\n",
       "<style scoped>\n",
       "    .dataframe tbody tr th:only-of-type {\n",
       "        vertical-align: middle;\n",
       "    }\n",
       "\n",
       "    .dataframe tbody tr th {\n",
       "        vertical-align: top;\n",
       "    }\n",
       "\n",
       "    .dataframe thead th {\n",
       "        text-align: right;\n",
       "    }\n",
       "</style>\n",
       "<table border=\"1\" class=\"dataframe\">\n",
       "  <thead>\n",
       "    <tr style=\"text-align: right;\">\n",
       "      <th></th>\n",
       "      <th>primaryid</th>\n",
       "      <th>drugname</th>\n",
       "      <th>pt</th>\n",
       "      <th>outc_cod</th>\n",
       "    </tr>\n",
       "  </thead>\n",
       "  <tbody>\n",
       "    <tr>\n",
       "      <th>0</th>\n",
       "      <td>160821476</td>\n",
       "      <td>Infliximab</td>\n",
       "      <td>Skin infection</td>\n",
       "      <td>OT</td>\n",
       "    </tr>\n",
       "    <tr>\n",
       "      <th>1</th>\n",
       "      <td>160821476</td>\n",
       "      <td>Infliximab</td>\n",
       "      <td>Sinusitis</td>\n",
       "      <td>OT</td>\n",
       "    </tr>\n",
       "    <tr>\n",
       "      <th>2</th>\n",
       "      <td>160821476</td>\n",
       "      <td>Infliximab</td>\n",
       "      <td>Pain</td>\n",
       "      <td>OT</td>\n",
       "    </tr>\n",
       "    <tr>\n",
       "      <th>3</th>\n",
       "      <td>160821476</td>\n",
       "      <td>Infliximab</td>\n",
       "      <td>Off label use</td>\n",
       "      <td>OT</td>\n",
       "    </tr>\n",
       "    <tr>\n",
       "      <th>4</th>\n",
       "      <td>160821476</td>\n",
       "      <td>Infliximab</td>\n",
       "      <td>Joint swelling</td>\n",
       "      <td>OT</td>\n",
       "    </tr>\n",
       "  </tbody>\n",
       "</table>\n",
       "</div>"
      ],
      "text/plain": [
       "   primaryid    drugname              pt outc_cod\n",
       "0  160821476  Infliximab  Skin infection       OT\n",
       "1  160821476  Infliximab       Sinusitis       OT\n",
       "2  160821476  Infliximab            Pain       OT\n",
       "3  160821476  Infliximab   Off label use       OT\n",
       "4  160821476  Infliximab  Joint swelling       OT"
      ]
     },
     "execution_count": 231,
     "metadata": {},
     "output_type": "execute_result"
    }
   ],
   "source": [
    "df2.head()"
   ]
  },
  {
   "cell_type": "code",
   "execution_count": 233,
   "metadata": {
    "ExecuteTime": {
     "end_time": "2022-03-09T20:28:04.792032Z",
     "start_time": "2022-03-09T20:28:04.785099Z"
    }
   },
   "outputs": [
    {
     "data": {
      "text/plain": [
       "array(['Treatment failure', 'Synovitis', 'Rheumatoid arthritis',\n",
       "       'Product use issue', 'Nervous system disorder', 'Nausea',\n",
       "       'Joint arthroplasty', 'Hypersensitivity', 'Drug intolerance',\n",
       "       'Drug ineffective', 'Drug hypersensitivity',\n",
       "       'Condition aggravated', 'Arthropathy', 'Amnesia'], dtype=object)"
      ]
     },
     "execution_count": 233,
     "metadata": {},
     "output_type": "execute_result"
    }
   ],
   "source": [
    "df2[df2['primaryid'] == 160735425]['pt'].unique()"
   ]
  },
  {
   "cell_type": "code",
   "execution_count": 234,
   "metadata": {
    "ExecuteTime": {
     "end_time": "2022-03-09T20:32:32.191188Z",
     "start_time": "2022-03-09T20:32:32.186454Z"
    }
   },
   "outputs": [
    {
     "data": {
      "text/plain": [
       "array(['Off label use', 'Condition aggravated',\n",
       "       'Intentional product use issue',\n",
       "       'Inappropriate schedule of product administration',\n",
       "       'Product use issue', 'Blood pressure fluctuation',\n",
       "       'Drug ineffective', 'Arthralgia', 'Weight increased', 'Fatigue',\n",
       "       'Blood pressure increased', 'Nausea', 'Weight decreased',\n",
       "       'Malaise', 'Diarrhoea'], dtype=object)"
      ]
     },
     "execution_count": 234,
     "metadata": {},
     "output_type": "execute_result"
    }
   ],
   "source": [
    "x.index.values"
   ]
  },
  {
   "cell_type": "code",
   "execution_count": 235,
   "metadata": {
    "ExecuteTime": {
     "end_time": "2022-03-09T20:46:08.549857Z",
     "start_time": "2022-03-09T20:46:08.545297Z"
    }
   },
   "outputs": [
    {
     "data": {
      "text/plain": [
       "False"
      ]
     },
     "execution_count": 235,
     "metadata": {},
     "output_type": "execute_result"
    }
   ],
   "source": [
    "'Treatment failure' in x.index.values"
   ]
  },
  {
   "cell_type": "code",
   "execution_count": 262,
   "metadata": {
    "ExecuteTime": {
     "end_time": "2022-03-09T23:18:46.930859Z",
     "start_time": "2022-03-09T23:18:46.907593Z"
    }
   },
   "outputs": [],
   "source": [
    "a = []\n",
    "for i in range(len(x.index.values)):\n",
    "    val = x.index.values[i] in df2[df2['primaryid'] == 160735425]['pt'].unique()\n",
    "    a.append(val)"
   ]
  },
  {
   "cell_type": "code",
   "execution_count": 263,
   "metadata": {
    "ExecuteTime": {
     "end_time": "2022-03-09T23:18:48.940978Z",
     "start_time": "2022-03-09T23:18:48.936397Z"
    }
   },
   "outputs": [
    {
     "data": {
      "text/plain": [
       "[False,\n",
       " True,\n",
       " False,\n",
       " False,\n",
       " True,\n",
       " False,\n",
       " True,\n",
       " False,\n",
       " False,\n",
       " False,\n",
       " False,\n",
       " True,\n",
       " False,\n",
       " False,\n",
       " False]"
      ]
     },
     "execution_count": 263,
     "metadata": {},
     "output_type": "execute_result"
    }
   ],
   "source": [
    "a"
   ]
  },
  {
   "cell_type": "code",
   "execution_count": 239,
   "metadata": {
    "ExecuteTime": {
     "end_time": "2022-03-09T21:17:34.272212Z",
     "start_time": "2022-03-09T21:17:34.267230Z"
    }
   },
   "outputs": [
    {
     "data": {
      "text/plain": [
       "3.3183481358823825"
      ]
     },
     "execution_count": 239,
     "metadata": {},
     "output_type": "execute_result"
    }
   ],
   "source": [
    "df_su['duration'].mean()"
   ]
  },
  {
   "cell_type": "code",
   "execution_count": 240,
   "metadata": {
    "ExecuteTime": {
     "end_time": "2022-03-09T23:03:18.563624Z",
     "start_time": "2022-03-09T23:03:18.560899Z"
    }
   },
   "outputs": [],
   "source": [
    "#have to create a dataframe using df2 for hazard ratios"
   ]
  },
  {
   "cell_type": "code",
   "execution_count": 266,
   "metadata": {
    "ExecuteTime": {
     "end_time": "2022-03-09T23:20:25.235939Z",
     "start_time": "2022-03-09T23:19:51.117631Z"
    }
   },
   "outputs": [],
   "source": [
    "l = []\n",
    "for i in range(len(df2['primaryid'].unique())):\n",
    "\n",
    "    k = []\n",
    "    for m in range(len(x.index.values)):\n",
    "        val = x.index.values[m] in df2[df2['primaryid'] == df2['primaryid'].unique()[i]]['pt'].unique()\n",
    "        k.append(val)\n",
    "        l.append(k)\n",
    "    \n"
   ]
  },
  {
   "cell_type": "code",
   "execution_count": 273,
   "metadata": {
    "ExecuteTime": {
     "end_time": "2022-03-09T23:27:19.101631Z",
     "start_time": "2022-03-09T23:27:19.093977Z"
    }
   },
   "outputs": [
    {
     "data": {
      "text/plain": [
       "1359    3.468493\n",
       "Name: duration, dtype: float64"
      ]
     },
     "execution_count": 273,
     "metadata": {},
     "output_type": "execute_result"
    }
   ],
   "source": [
    "df_su[df_su['primaryid'] == df2['primaryid'].unique()[i]]['duration']"
   ]
  },
  {
   "cell_type": "code",
   "execution_count": 265,
   "metadata": {
    "ExecuteTime": {
     "end_time": "2022-03-09T23:19:38.970651Z",
     "start_time": "2022-03-09T23:19:38.965687Z"
    }
   },
   "outputs": [
    {
     "data": {
      "text/plain": [
       "160821476"
      ]
     },
     "execution_count": 265,
     "metadata": {},
     "output_type": "execute_result"
    }
   ],
   "source": [
    "df2['primaryid'].unique()[0]"
   ]
  },
  {
   "cell_type": "code",
   "execution_count": 274,
   "metadata": {
    "ExecuteTime": {
     "end_time": "2022-03-10T16:37:10.479430Z",
     "start_time": "2022-03-10T16:37:10.472010Z"
    }
   },
   "outputs": [
    {
     "data": {
      "text/html": [
       "<div>\n",
       "<style scoped>\n",
       "    .dataframe tbody tr th:only-of-type {\n",
       "        vertical-align: middle;\n",
       "    }\n",
       "\n",
       "    .dataframe tbody tr th {\n",
       "        vertical-align: top;\n",
       "    }\n",
       "\n",
       "    .dataframe thead th {\n",
       "        text-align: right;\n",
       "    }\n",
       "</style>\n",
       "<table border=\"1\" class=\"dataframe\">\n",
       "  <thead>\n",
       "    <tr style=\"text-align: right;\">\n",
       "      <th></th>\n",
       "      <th>primaryid</th>\n",
       "      <th>drugname</th>\n",
       "      <th>pt</th>\n",
       "      <th>outc_cod</th>\n",
       "    </tr>\n",
       "  </thead>\n",
       "  <tbody>\n",
       "    <tr>\n",
       "      <th>0</th>\n",
       "      <td>160821476</td>\n",
       "      <td>Infliximab</td>\n",
       "      <td>Skin infection</td>\n",
       "      <td>OT</td>\n",
       "    </tr>\n",
       "    <tr>\n",
       "      <th>1</th>\n",
       "      <td>160821476</td>\n",
       "      <td>Infliximab</td>\n",
       "      <td>Sinusitis</td>\n",
       "      <td>OT</td>\n",
       "    </tr>\n",
       "    <tr>\n",
       "      <th>2</th>\n",
       "      <td>160821476</td>\n",
       "      <td>Infliximab</td>\n",
       "      <td>Pain</td>\n",
       "      <td>OT</td>\n",
       "    </tr>\n",
       "    <tr>\n",
       "      <th>3</th>\n",
       "      <td>160821476</td>\n",
       "      <td>Infliximab</td>\n",
       "      <td>Off label use</td>\n",
       "      <td>OT</td>\n",
       "    </tr>\n",
       "    <tr>\n",
       "      <th>4</th>\n",
       "      <td>160821476</td>\n",
       "      <td>Infliximab</td>\n",
       "      <td>Joint swelling</td>\n",
       "      <td>OT</td>\n",
       "    </tr>\n",
       "  </tbody>\n",
       "</table>\n",
       "</div>"
      ],
      "text/plain": [
       "   primaryid    drugname              pt outc_cod\n",
       "0  160821476  Infliximab  Skin infection       OT\n",
       "1  160821476  Infliximab       Sinusitis       OT\n",
       "2  160821476  Infliximab            Pain       OT\n",
       "3  160821476  Infliximab   Off label use       OT\n",
       "4  160821476  Infliximab  Joint swelling       OT"
      ]
     },
     "execution_count": 274,
     "metadata": {},
     "output_type": "execute_result"
    }
   ],
   "source": [
    "df2.head()"
   ]
  },
  {
   "cell_type": "code",
   "execution_count": 275,
   "metadata": {
    "ExecuteTime": {
     "end_time": "2022-03-10T16:47:54.664365Z",
     "start_time": "2022-03-10T16:47:54.661139Z"
    }
   },
   "outputs": [
    {
     "data": {
      "text/plain": [
       "array(['Off label use', 'Condition aggravated',\n",
       "       'Intentional product use issue',\n",
       "       'Inappropriate schedule of product administration',\n",
       "       'Product use issue', 'Blood pressure fluctuation',\n",
       "       'Drug ineffective', 'Arthralgia', 'Weight increased', 'Fatigue',\n",
       "       'Blood pressure increased', 'Nausea', 'Weight decreased',\n",
       "       'Malaise', 'Diarrhoea'], dtype=object)"
      ]
     },
     "execution_count": 275,
     "metadata": {},
     "output_type": "execute_result"
    }
   ],
   "source": [
    "x.index.values"
   ]
  },
  {
   "cell_type": "code",
   "execution_count": 278,
   "metadata": {
    "ExecuteTime": {
     "end_time": "2022-03-10T17:01:15.203720Z",
     "start_time": "2022-03-10T17:01:15.200334Z"
    }
   },
   "outputs": [
    {
     "data": {
      "text/plain": [
       "'Off label use'"
      ]
     },
     "execution_count": 278,
     "metadata": {},
     "output_type": "execute_result"
    }
   ],
   "source": [
    "x.index.values[0]"
   ]
  },
  {
   "cell_type": "code",
   "execution_count": 280,
   "metadata": {
    "ExecuteTime": {
     "end_time": "2022-03-10T17:04:33.898477Z",
     "start_time": "2022-03-10T17:04:33.895106Z"
    }
   },
   "outputs": [
    {
     "data": {
      "text/plain": [
       "['primaryid',\n",
       " 'duration',\n",
       " 'outcome',\n",
       " 'Off label use',\n",
       " 'Condition aggravated',\n",
       " 'Intentional product use issue',\n",
       " 'Inappropriate schedule of product administration',\n",
       " 'Product use issue',\n",
       " 'Blood pressure fluctuation',\n",
       " 'Drug ineffective',\n",
       " 'Arthralgia',\n",
       " 'Weight increased',\n",
       " 'Fatigue',\n",
       " 'Blood pressure increased',\n",
       " 'Nausea',\n",
       " 'Weight decreased',\n",
       " 'Malaise',\n",
       " 'Diarrhoea']"
      ]
     },
     "execution_count": 280,
     "metadata": {},
     "output_type": "execute_result"
    }
   ],
   "source": [
    "col_names1"
   ]
  },
  {
   "cell_type": "code",
   "execution_count": 279,
   "metadata": {
    "ExecuteTime": {
     "end_time": "2022-03-10T17:04:20.466532Z",
     "start_time": "2022-03-10T17:04:20.463557Z"
    }
   },
   "outputs": [],
   "source": [
    "col_names1 = ['primaryid','duration','outcome']\n",
    "for i in range(len(x.index.values)):\n",
    "    col_names1.append(x.index.values[i])"
   ]
  },
  {
   "cell_type": "code",
   "execution_count": 300,
   "metadata": {
    "ExecuteTime": {
     "end_time": "2022-03-10T18:56:51.474609Z",
     "start_time": "2022-03-10T18:56:51.469841Z"
    }
   },
   "outputs": [],
   "source": [
    "df_hz = pd.DataFrame(columns = col_names1)"
   ]
  },
  {
   "cell_type": "code",
   "execution_count": 323,
   "metadata": {
    "ExecuteTime": {
     "end_time": "2022-03-10T19:09:07.810333Z",
     "start_time": "2022-03-10T19:09:07.791731Z"
    }
   },
   "outputs": [
    {
     "data": {
      "text/html": [
       "<div>\n",
       "<style scoped>\n",
       "    .dataframe tbody tr th:only-of-type {\n",
       "        vertical-align: middle;\n",
       "    }\n",
       "\n",
       "    .dataframe tbody tr th {\n",
       "        vertical-align: top;\n",
       "    }\n",
       "\n",
       "    .dataframe thead th {\n",
       "        text-align: right;\n",
       "    }\n",
       "</style>\n",
       "<table border=\"1\" class=\"dataframe\">\n",
       "  <thead>\n",
       "    <tr style=\"text-align: right;\">\n",
       "      <th></th>\n",
       "      <th>primaryid</th>\n",
       "      <th>duration</th>\n",
       "      <th>outcome</th>\n",
       "      <th>Off label use</th>\n",
       "      <th>Condition aggravated</th>\n",
       "      <th>Intentional product use issue</th>\n",
       "      <th>Inappropriate schedule of product administration</th>\n",
       "      <th>Product use issue</th>\n",
       "      <th>Blood pressure fluctuation</th>\n",
       "      <th>Drug ineffective</th>\n",
       "      <th>Arthralgia</th>\n",
       "      <th>Weight increased</th>\n",
       "      <th>Fatigue</th>\n",
       "      <th>Blood pressure increased</th>\n",
       "      <th>Nausea</th>\n",
       "      <th>Weight decreased</th>\n",
       "      <th>Malaise</th>\n",
       "      <th>Diarrhoea</th>\n",
       "    </tr>\n",
       "  </thead>\n",
       "  <tbody>\n",
       "    <tr>\n",
       "      <th>0</th>\n",
       "      <td>160821476.0</td>\n",
       "      <td>3.323288</td>\n",
       "      <td>1.0</td>\n",
       "      <td>1.0</td>\n",
       "      <td>1.0</td>\n",
       "      <td>0.0</td>\n",
       "      <td>0.0</td>\n",
       "      <td>0.0</td>\n",
       "      <td>1.0</td>\n",
       "      <td>0.0</td>\n",
       "      <td>0.0</td>\n",
       "      <td>0.0</td>\n",
       "      <td>0.0</td>\n",
       "      <td>1.0</td>\n",
       "      <td>0.0</td>\n",
       "      <td>0.0</td>\n",
       "      <td>0.0</td>\n",
       "      <td>0.0</td>\n",
       "    </tr>\n",
       "    <tr>\n",
       "      <th>1</th>\n",
       "      <td>166888634.0</td>\n",
       "      <td>3.306849</td>\n",
       "      <td>1.0</td>\n",
       "      <td>1.0</td>\n",
       "      <td>1.0</td>\n",
       "      <td>0.0</td>\n",
       "      <td>0.0</td>\n",
       "      <td>1.0</td>\n",
       "      <td>1.0</td>\n",
       "      <td>1.0</td>\n",
       "      <td>0.0</td>\n",
       "      <td>1.0</td>\n",
       "      <td>0.0</td>\n",
       "      <td>1.0</td>\n",
       "      <td>0.0</td>\n",
       "      <td>0.0</td>\n",
       "      <td>1.0</td>\n",
       "      <td>1.0</td>\n",
       "    </tr>\n",
       "    <tr>\n",
       "      <th>2</th>\n",
       "      <td>166924285.0</td>\n",
       "      <td>3.345205</td>\n",
       "      <td>1.0</td>\n",
       "      <td>1.0</td>\n",
       "      <td>1.0</td>\n",
       "      <td>1.0</td>\n",
       "      <td>1.0</td>\n",
       "      <td>1.0</td>\n",
       "      <td>1.0</td>\n",
       "      <td>1.0</td>\n",
       "      <td>0.0</td>\n",
       "      <td>0.0</td>\n",
       "      <td>1.0</td>\n",
       "      <td>0.0</td>\n",
       "      <td>0.0</td>\n",
       "      <td>0.0</td>\n",
       "      <td>0.0</td>\n",
       "      <td>0.0</td>\n",
       "    </tr>\n",
       "    <tr>\n",
       "      <th>3</th>\n",
       "      <td>167830657.0</td>\n",
       "      <td>2.449315</td>\n",
       "      <td>0.0</td>\n",
       "      <td>0.0</td>\n",
       "      <td>0.0</td>\n",
       "      <td>0.0</td>\n",
       "      <td>0.0</td>\n",
       "      <td>0.0</td>\n",
       "      <td>0.0</td>\n",
       "      <td>0.0</td>\n",
       "      <td>0.0</td>\n",
       "      <td>0.0</td>\n",
       "      <td>0.0</td>\n",
       "      <td>0.0</td>\n",
       "      <td>0.0</td>\n",
       "      <td>0.0</td>\n",
       "      <td>0.0</td>\n",
       "      <td>0.0</td>\n",
       "    </tr>\n",
       "    <tr>\n",
       "      <th>4</th>\n",
       "      <td>168388644.0</td>\n",
       "      <td>3.468493</td>\n",
       "      <td>1.0</td>\n",
       "      <td>1.0</td>\n",
       "      <td>0.0</td>\n",
       "      <td>0.0</td>\n",
       "      <td>0.0</td>\n",
       "      <td>0.0</td>\n",
       "      <td>0.0</td>\n",
       "      <td>1.0</td>\n",
       "      <td>0.0</td>\n",
       "      <td>0.0</td>\n",
       "      <td>0.0</td>\n",
       "      <td>0.0</td>\n",
       "      <td>0.0</td>\n",
       "      <td>0.0</td>\n",
       "      <td>0.0</td>\n",
       "      <td>0.0</td>\n",
       "    </tr>\n",
       "  </tbody>\n",
       "</table>\n",
       "</div>"
      ],
      "text/plain": [
       "     primaryid  duration  outcome  Off label use  Condition aggravated  \\\n",
       "0  160821476.0  3.323288      1.0            1.0                   1.0   \n",
       "1  166888634.0  3.306849      1.0            1.0                   1.0   \n",
       "2  166924285.0  3.345205      1.0            1.0                   1.0   \n",
       "3  167830657.0  2.449315      0.0            0.0                   0.0   \n",
       "4  168388644.0  3.468493      1.0            1.0                   0.0   \n",
       "\n",
       "   Intentional product use issue  \\\n",
       "0                            0.0   \n",
       "1                            0.0   \n",
       "2                            1.0   \n",
       "3                            0.0   \n",
       "4                            0.0   \n",
       "\n",
       "   Inappropriate schedule of product administration  Product use issue  \\\n",
       "0                                               0.0                0.0   \n",
       "1                                               0.0                1.0   \n",
       "2                                               1.0                1.0   \n",
       "3                                               0.0                0.0   \n",
       "4                                               0.0                0.0   \n",
       "\n",
       "   Blood pressure fluctuation  Drug ineffective  Arthralgia  Weight increased  \\\n",
       "0                         1.0               0.0         0.0               0.0   \n",
       "1                         1.0               1.0         0.0               1.0   \n",
       "2                         1.0               1.0         0.0               0.0   \n",
       "3                         0.0               0.0         0.0               0.0   \n",
       "4                         0.0               1.0         0.0               0.0   \n",
       "\n",
       "   Fatigue  Blood pressure increased  Nausea  Weight decreased  Malaise  \\\n",
       "0      0.0                       1.0     0.0               0.0      0.0   \n",
       "1      0.0                       1.0     0.0               0.0      1.0   \n",
       "2      1.0                       0.0     0.0               0.0      0.0   \n",
       "3      0.0                       0.0     0.0               0.0      0.0   \n",
       "4      0.0                       0.0     0.0               0.0      0.0   \n",
       "\n",
       "   Diarrhoea  \n",
       "0        0.0  \n",
       "1        1.0  \n",
       "2        0.0  \n",
       "3        0.0  \n",
       "4        0.0  "
      ]
     },
     "execution_count": 323,
     "metadata": {},
     "output_type": "execute_result"
    }
   ],
   "source": [
    "df_hz.head()"
   ]
  },
  {
   "cell_type": "code",
   "execution_count": 287,
   "metadata": {
    "ExecuteTime": {
     "end_time": "2022-03-10T18:46:31.941389Z",
     "start_time": "2022-03-10T18:46:31.937857Z"
    }
   },
   "outputs": [
    {
     "data": {
      "text/plain": [
       "160821476"
      ]
     },
     "execution_count": 287,
     "metadata": {},
     "output_type": "execute_result"
    }
   ],
   "source": [
    "df2.iloc[0]['primaryid']"
   ]
  },
  {
   "cell_type": "code",
   "execution_count": 322,
   "metadata": {
    "ExecuteTime": {
     "end_time": "2022-03-10T19:09:02.768278Z",
     "start_time": "2022-03-10T19:08:38.236434Z"
    }
   },
   "outputs": [],
   "source": [
    "l = []\n",
    "for i in range(len(df2['primaryid'].unique())):\n",
    "    k = df_su[df_su['primaryid'] == df2['primaryid'].unique()[i]].values[0]\n",
    "    for m in range(len(x.index.values)):\n",
    "        val = x.index.values[m] in df2[df2['primaryid'] == df2['primaryid'].unique()[i]]['pt'].unique()\n",
    "        k = np.append(k,val)\n",
    "    df_hz.loc[i] = k"
   ]
  },
  {
   "cell_type": "code",
   "execution_count": 311,
   "metadata": {
    "ExecuteTime": {
     "end_time": "2022-03-10T18:59:59.448644Z",
     "start_time": "2022-03-10T18:59:59.443981Z"
    }
   },
   "outputs": [
    {
     "data": {
      "text/plain": [
       "0.0"
      ]
     },
     "execution_count": 311,
     "metadata": {},
     "output_type": "execute_result"
    }
   ],
   "source": [
    "df_su[df_su['primaryid'] == df2['primaryid'].unique()[i]].values[0][2]"
   ]
  },
  {
   "cell_type": "code",
   "execution_count": null,
   "metadata": {},
   "outputs": [],
   "source": [
    "df_su[df_su['primaryid'] == df2['primaryid'].unique()[i]]['duration'].value"
   ]
  },
  {
   "cell_type": "code",
   "execution_count": 312,
   "metadata": {
    "ExecuteTime": {
     "end_time": "2022-03-10T19:02:50.314421Z",
     "start_time": "2022-03-10T19:02:50.310638Z"
    }
   },
   "outputs": [],
   "source": [
    "k = df_su[df_su['primaryid'] == df2['primaryid'].unique()[i]].values[0]"
   ]
  },
  {
   "cell_type": "code",
   "execution_count": 313,
   "metadata": {
    "ExecuteTime": {
     "end_time": "2022-03-10T19:02:52.144599Z",
     "start_time": "2022-03-10T19:02:52.141277Z"
    }
   },
   "outputs": [
    {
     "data": {
      "text/plain": [
       "array([1.98785571e+08, 3.46849315e+00, 0.00000000e+00])"
      ]
     },
     "execution_count": 313,
     "metadata": {},
     "output_type": "execute_result"
    }
   ],
   "source": [
    "k"
   ]
  },
  {
   "cell_type": "code",
   "execution_count": 316,
   "metadata": {
    "ExecuteTime": {
     "end_time": "2022-03-10T19:03:59.033405Z",
     "start_time": "2022-03-10T19:03:59.030088Z"
    }
   },
   "outputs": [
    {
     "data": {
      "text/plain": [
       "array(['198785571.0', '3.4684931506849317', '0.0', 'bob'], dtype='<U32')"
      ]
     },
     "execution_count": 316,
     "metadata": {},
     "output_type": "execute_result"
    }
   ],
   "source": [
    "np.append(k,'bob')"
   ]
  },
  {
   "cell_type": "code",
   "execution_count": 318,
   "metadata": {
    "ExecuteTime": {
     "end_time": "2022-03-10T19:07:58.086446Z",
     "start_time": "2022-03-10T19:07:58.083203Z"
    }
   },
   "outputs": [
    {
     "data": {
      "text/plain": [
       "array([1.60821476e+08, 3.32328767e+00, 1.00000000e+00])"
      ]
     },
     "execution_count": 318,
     "metadata": {},
     "output_type": "execute_result"
    }
   ],
   "source": [
    "k"
   ]
  },
  {
   "cell_type": "code",
   "execution_count": 319,
   "metadata": {
    "ExecuteTime": {
     "end_time": "2022-03-10T19:08:12.105886Z",
     "start_time": "2022-03-10T19:08:12.103073Z"
    }
   },
   "outputs": [
    {
     "data": {
      "text/plain": [
       "False"
      ]
     },
     "execution_count": 319,
     "metadata": {},
     "output_type": "execute_result"
    }
   ],
   "source": [
    "val"
   ]
  },
  {
   "cell_type": "code",
   "execution_count": 320,
   "metadata": {
    "ExecuteTime": {
     "end_time": "2022-03-10T19:08:21.575809Z",
     "start_time": "2022-03-10T19:08:21.572440Z"
    }
   },
   "outputs": [
    {
     "data": {
      "text/plain": [
       "array([1.60821476e+08, 3.32328767e+00, 1.00000000e+00, 0.00000000e+00])"
      ]
     },
     "execution_count": 320,
     "metadata": {},
     "output_type": "execute_result"
    }
   ],
   "source": [
    "np.append(k,val)"
   ]
  },
  {
   "cell_type": "code",
   "execution_count": 321,
   "metadata": {
    "ExecuteTime": {
     "end_time": "2022-03-10T19:08:24.447428Z",
     "start_time": "2022-03-10T19:08:24.444236Z"
    }
   },
   "outputs": [
    {
     "data": {
      "text/plain": [
       "array([1.60821476e+08, 3.32328767e+00, 1.00000000e+00])"
      ]
     },
     "execution_count": 321,
     "metadata": {},
     "output_type": "execute_result"
    }
   ],
   "source": [
    "k"
   ]
  },
  {
   "cell_type": "code",
   "execution_count": 324,
   "metadata": {
    "ExecuteTime": {
     "end_time": "2022-03-10T19:20:36.796000Z",
     "start_time": "2022-03-10T19:20:36.793694Z"
    }
   },
   "outputs": [],
   "source": [
    "from lifelines import CoxPHFitter"
   ]
  },
  {
   "cell_type": "code",
   "execution_count": 350,
   "metadata": {
    "ExecuteTime": {
     "end_time": "2022-03-10T19:28:43.969356Z",
     "start_time": "2022-03-10T19:28:43.571117Z"
    }
   },
   "outputs": [
    {
     "data": {
      "text/html": [
       "<div>\n",
       "<style scoped>\n",
       "    .dataframe tbody tr th:only-of-type {\n",
       "        vertical-align: middle;\n",
       "    }\n",
       "\n",
       "    .dataframe tbody tr th {\n",
       "        vertical-align: top;\n",
       "    }\n",
       "\n",
       "    .dataframe thead th {\n",
       "        text-align: right;\n",
       "    }\n",
       "</style>\n",
       "<table border=\"1\" class=\"dataframe\">\n",
       "  <tbody>\n",
       "    <tr>\n",
       "      <th>model</th>\n",
       "      <td>lifelines.CoxPHFitter</td>\n",
       "    </tr>\n",
       "    <tr>\n",
       "      <th>duration col</th>\n",
       "      <td>'duration'</td>\n",
       "    </tr>\n",
       "    <tr>\n",
       "      <th>event col</th>\n",
       "      <td>'outcome'</td>\n",
       "    </tr>\n",
       "    <tr>\n",
       "      <th>baseline estimation</th>\n",
       "      <td>breslow</td>\n",
       "    </tr>\n",
       "    <tr>\n",
       "      <th>number of observations</th>\n",
       "      <td>1365</td>\n",
       "    </tr>\n",
       "    <tr>\n",
       "      <th>number of events observed</th>\n",
       "      <td>1198</td>\n",
       "    </tr>\n",
       "    <tr>\n",
       "      <th>partial log-likelihood</th>\n",
       "      <td>-7477.20</td>\n",
       "    </tr>\n",
       "    <tr>\n",
       "      <th>time fit was run</th>\n",
       "      <td>2022-03-10 19:28:43 UTC</td>\n",
       "    </tr>\n",
       "  </tbody>\n",
       "</table>\n",
       "</div><table border=\"1\" class=\"dataframe\">\n",
       "  <thead>\n",
       "    <tr style=\"text-align: right;\">\n",
       "      <th style=\"min-width: 12px;\"></th>\n",
       "      <th style=\"min-width: 12px;\">coef</th>\n",
       "      <th style=\"min-width: 12px;\">exp(coef)</th>\n",
       "      <th style=\"min-width: 12px;\">se(coef)</th>\n",
       "      <th style=\"min-width: 12px;\">coef lower 95%</th>\n",
       "      <th style=\"min-width: 12px;\">coef upper 95%</th>\n",
       "      <th style=\"min-width: 12px;\">exp(coef) lower 95%</th>\n",
       "      <th style=\"min-width: 12px;\">exp(coef) upper 95%</th>\n",
       "      <th style=\"min-width: 12px;\">z</th>\n",
       "      <th style=\"min-width: 12px;\">p</th>\n",
       "      <th style=\"min-width: 12px;\">-log2(p)</th>\n",
       "    </tr>\n",
       "  </thead>\n",
       "  <tbody>\n",
       "    <tr>\n",
       "      <th>Off label use</th>\n",
       "      <td>-0.14</td>\n",
       "      <td>0.87</td>\n",
       "      <td>0.08</td>\n",
       "      <td>-0.30</td>\n",
       "      <td>0.01</td>\n",
       "      <td>0.74</td>\n",
       "      <td>1.01</td>\n",
       "      <td>-1.78</td>\n",
       "      <td>0.07</td>\n",
       "      <td>3.74</td>\n",
       "    </tr>\n",
       "    <tr>\n",
       "      <th>Condition aggravated</th>\n",
       "      <td>0.06</td>\n",
       "      <td>1.06</td>\n",
       "      <td>0.07</td>\n",
       "      <td>-0.07</td>\n",
       "      <td>0.20</td>\n",
       "      <td>0.93</td>\n",
       "      <td>1.22</td>\n",
       "      <td>0.89</td>\n",
       "      <td>0.37</td>\n",
       "      <td>1.43</td>\n",
       "    </tr>\n",
       "    <tr>\n",
       "      <th>Intentional product use issue</th>\n",
       "      <td>0.19</td>\n",
       "      <td>1.21</td>\n",
       "      <td>0.07</td>\n",
       "      <td>0.05</td>\n",
       "      <td>0.34</td>\n",
       "      <td>1.05</td>\n",
       "      <td>1.40</td>\n",
       "      <td>2.61</td>\n",
       "      <td>0.01</td>\n",
       "      <td>6.78</td>\n",
       "    </tr>\n",
       "    <tr>\n",
       "      <th>Inappropriate schedule of product administration</th>\n",
       "      <td>0.01</td>\n",
       "      <td>1.01</td>\n",
       "      <td>0.07</td>\n",
       "      <td>-0.12</td>\n",
       "      <td>0.14</td>\n",
       "      <td>0.88</td>\n",
       "      <td>1.15</td>\n",
       "      <td>0.13</td>\n",
       "      <td>0.90</td>\n",
       "      <td>0.15</td>\n",
       "    </tr>\n",
       "    <tr>\n",
       "      <th>Product use issue</th>\n",
       "      <td>0.22</td>\n",
       "      <td>1.25</td>\n",
       "      <td>0.07</td>\n",
       "      <td>0.08</td>\n",
       "      <td>0.37</td>\n",
       "      <td>1.08</td>\n",
       "      <td>1.44</td>\n",
       "      <td>3.07</td>\n",
       "      <td>&lt;0.005</td>\n",
       "      <td>8.87</td>\n",
       "    </tr>\n",
       "    <tr>\n",
       "      <th>Blood pressure fluctuation</th>\n",
       "      <td>0.05</td>\n",
       "      <td>1.05</td>\n",
       "      <td>0.08</td>\n",
       "      <td>-0.10</td>\n",
       "      <td>0.20</td>\n",
       "      <td>0.91</td>\n",
       "      <td>1.22</td>\n",
       "      <td>0.70</td>\n",
       "      <td>0.49</td>\n",
       "      <td>1.04</td>\n",
       "    </tr>\n",
       "    <tr>\n",
       "      <th>Drug ineffective</th>\n",
       "      <td>-0.01</td>\n",
       "      <td>0.99</td>\n",
       "      <td>0.08</td>\n",
       "      <td>-0.16</td>\n",
       "      <td>0.15</td>\n",
       "      <td>0.85</td>\n",
       "      <td>1.16</td>\n",
       "      <td>-0.08</td>\n",
       "      <td>0.94</td>\n",
       "      <td>0.09</td>\n",
       "    </tr>\n",
       "    <tr>\n",
       "      <th>Arthralgia</th>\n",
       "      <td>-0.02</td>\n",
       "      <td>0.98</td>\n",
       "      <td>0.08</td>\n",
       "      <td>-0.18</td>\n",
       "      <td>0.13</td>\n",
       "      <td>0.84</td>\n",
       "      <td>1.14</td>\n",
       "      <td>-0.27</td>\n",
       "      <td>0.79</td>\n",
       "      <td>0.34</td>\n",
       "    </tr>\n",
       "    <tr>\n",
       "      <th>Weight increased</th>\n",
       "      <td>0.16</td>\n",
       "      <td>1.18</td>\n",
       "      <td>0.08</td>\n",
       "      <td>0.01</td>\n",
       "      <td>0.32</td>\n",
       "      <td>1.01</td>\n",
       "      <td>1.37</td>\n",
       "      <td>2.07</td>\n",
       "      <td>0.04</td>\n",
       "      <td>4.70</td>\n",
       "    </tr>\n",
       "    <tr>\n",
       "      <th>Fatigue</th>\n",
       "      <td>-0.01</td>\n",
       "      <td>0.99</td>\n",
       "      <td>0.08</td>\n",
       "      <td>-0.18</td>\n",
       "      <td>0.15</td>\n",
       "      <td>0.84</td>\n",
       "      <td>1.16</td>\n",
       "      <td>-0.15</td>\n",
       "      <td>0.88</td>\n",
       "      <td>0.19</td>\n",
       "    </tr>\n",
       "    <tr>\n",
       "      <th>Blood pressure increased</th>\n",
       "      <td>0.08</td>\n",
       "      <td>1.08</td>\n",
       "      <td>0.08</td>\n",
       "      <td>-0.08</td>\n",
       "      <td>0.24</td>\n",
       "      <td>0.93</td>\n",
       "      <td>1.27</td>\n",
       "      <td>1.01</td>\n",
       "      <td>0.31</td>\n",
       "      <td>1.67</td>\n",
       "    </tr>\n",
       "    <tr>\n",
       "      <th>Nausea</th>\n",
       "      <td>0.10</td>\n",
       "      <td>1.10</td>\n",
       "      <td>0.10</td>\n",
       "      <td>-0.09</td>\n",
       "      <td>0.29</td>\n",
       "      <td>0.91</td>\n",
       "      <td>1.33</td>\n",
       "      <td>1.02</td>\n",
       "      <td>0.31</td>\n",
       "      <td>1.71</td>\n",
       "    </tr>\n",
       "    <tr>\n",
       "      <th>Weight decreased</th>\n",
       "      <td>-0.04</td>\n",
       "      <td>0.96</td>\n",
       "      <td>0.08</td>\n",
       "      <td>-0.20</td>\n",
       "      <td>0.12</td>\n",
       "      <td>0.82</td>\n",
       "      <td>1.12</td>\n",
       "      <td>-0.54</td>\n",
       "      <td>0.59</td>\n",
       "      <td>0.76</td>\n",
       "    </tr>\n",
       "    <tr>\n",
       "      <th>Malaise</th>\n",
       "      <td>0.05</td>\n",
       "      <td>1.05</td>\n",
       "      <td>0.09</td>\n",
       "      <td>-0.12</td>\n",
       "      <td>0.22</td>\n",
       "      <td>0.88</td>\n",
       "      <td>1.25</td>\n",
       "      <td>0.55</td>\n",
       "      <td>0.58</td>\n",
       "      <td>0.79</td>\n",
       "    </tr>\n",
       "    <tr>\n",
       "      <th>Diarrhoea</th>\n",
       "      <td>0.02</td>\n",
       "      <td>1.02</td>\n",
       "      <td>0.11</td>\n",
       "      <td>-0.19</td>\n",
       "      <td>0.23</td>\n",
       "      <td>0.83</td>\n",
       "      <td>1.26</td>\n",
       "      <td>0.17</td>\n",
       "      <td>0.86</td>\n",
       "      <td>0.21</td>\n",
       "    </tr>\n",
       "  </tbody>\n",
       "</table><br><div>\n",
       "<style scoped>\n",
       "    .dataframe tbody tr th:only-of-type {\n",
       "        vertical-align: middle;\n",
       "    }\n",
       "\n",
       "    .dataframe tbody tr th {\n",
       "        vertical-align: top;\n",
       "    }\n",
       "\n",
       "    .dataframe thead th {\n",
       "        text-align: right;\n",
       "    }\n",
       "</style>\n",
       "<table border=\"1\" class=\"dataframe\">\n",
       "  <tbody>\n",
       "    <tr>\n",
       "      <th>Concordance</th>\n",
       "      <td>0.54</td>\n",
       "    </tr>\n",
       "    <tr>\n",
       "      <th>Partial AIC</th>\n",
       "      <td>14984.40</td>\n",
       "    </tr>\n",
       "    <tr>\n",
       "      <th>log-likelihood ratio test</th>\n",
       "      <td>47.71 on 15 df</td>\n",
       "    </tr>\n",
       "    <tr>\n",
       "      <th>-log2(p) of ll-ratio test</th>\n",
       "      <td>15.11</td>\n",
       "    </tr>\n",
       "  </tbody>\n",
       "</table>\n",
       "</div>"
      ],
      "text/latex": [
       "\\begin{tabular}{lrrrrrrrrrr}\n",
       "\\toprule\n",
       "{} &  coef &  exp(coef) &  se(coef) &  coef lower 95\\% &  coef upper 95\\% &  exp(coef) lower 95\\% &  exp(coef) upper 95\\% &     z &    p &  -log2(p) \\\\\n",
       "covariate                                        &       &            &           &                 &                 &                      &                      &       &      &           \\\\\n",
       "\\midrule\n",
       "Off label use                                    & -0.14 &       0.87 &      0.08 &           -0.30 &            0.01 &                 0.74 &                 1.01 & -1.78 & 0.07 &      3.74 \\\\\n",
       "Condition aggravated                             &  0.06 &       1.06 &      0.07 &           -0.07 &            0.20 &                 0.93 &                 1.22 &  0.89 & 0.37 &      1.43 \\\\\n",
       "Intentional product use issue                    &  0.19 &       1.21 &      0.07 &            0.05 &            0.34 &                 1.05 &                 1.40 &  2.61 & 0.01 &      6.78 \\\\\n",
       "Inappropriate schedule of product administration &  0.01 &       1.01 &      0.07 &           -0.12 &            0.14 &                 0.88 &                 1.15 &  0.13 & 0.90 &      0.15 \\\\\n",
       "Product use issue                                &  0.22 &       1.25 &      0.07 &            0.08 &            0.37 &                 1.08 &                 1.44 &  3.07 & 0.00 &      8.87 \\\\\n",
       "Blood pressure fluctuation                       &  0.05 &       1.05 &      0.08 &           -0.10 &            0.20 &                 0.91 &                 1.22 &  0.70 & 0.49 &      1.04 \\\\\n",
       "Drug ineffective                                 & -0.01 &       0.99 &      0.08 &           -0.16 &            0.15 &                 0.85 &                 1.16 & -0.08 & 0.94 &      0.09 \\\\\n",
       "Arthralgia                                       & -0.02 &       0.98 &      0.08 &           -0.18 &            0.13 &                 0.84 &                 1.14 & -0.27 & 0.79 &      0.34 \\\\\n",
       "Weight increased                                 &  0.16 &       1.18 &      0.08 &            0.01 &            0.32 &                 1.01 &                 1.37 &  2.07 & 0.04 &      4.70 \\\\\n",
       "Fatigue                                          & -0.01 &       0.99 &      0.08 &           -0.18 &            0.15 &                 0.84 &                 1.16 & -0.15 & 0.88 &      0.19 \\\\\n",
       "Blood pressure increased                         &  0.08 &       1.08 &      0.08 &           -0.08 &            0.24 &                 0.93 &                 1.27 &  1.01 & 0.31 &      1.67 \\\\\n",
       "Nausea                                           &  0.10 &       1.10 &      0.10 &           -0.09 &            0.29 &                 0.91 &                 1.33 &  1.02 & 0.31 &      1.71 \\\\\n",
       "Weight decreased                                 & -0.04 &       0.96 &      0.08 &           -0.20 &            0.12 &                 0.82 &                 1.12 & -0.54 & 0.59 &      0.76 \\\\\n",
       "Malaise                                          &  0.05 &       1.05 &      0.09 &           -0.12 &            0.22 &                 0.88 &                 1.25 &  0.55 & 0.58 &      0.79 \\\\\n",
       "Diarrhoea                                        &  0.02 &       1.02 &      0.11 &           -0.19 &            0.23 &                 0.83 &                 1.26 &  0.17 & 0.86 &      0.21 \\\\\n",
       "\\bottomrule\n",
       "\\end{tabular}\n"
      ],
      "text/plain": [
       "<lifelines.CoxPHFitter: fitted with 1365 total observations, 167 right-censored observations>\n",
       "             duration col = 'duration'\n",
       "                event col = 'outcome'\n",
       "      baseline estimation = breslow\n",
       "   number of observations = 1365\n",
       "number of events observed = 1198\n",
       "   partial log-likelihood = -7477.20\n",
       "         time fit was run = 2022-03-10 19:28:43 UTC\n",
       "\n",
       "---\n",
       "                                                   coef  exp(coef)   se(coef)   coef lower 95%   coef upper 95%  exp(coef) lower 95%  exp(coef) upper 95%\n",
       "covariate                                                                                                                                                \n",
       "Off label use                                     -0.14       0.87       0.08            -0.30             0.01                 0.74                 1.01\n",
       "Condition aggravated                               0.06       1.06       0.07            -0.07             0.20                 0.93                 1.22\n",
       "Intentional product use issue                      0.19       1.21       0.07             0.05             0.34                 1.05                 1.40\n",
       "Inappropriate schedule of product administration   0.01       1.01       0.07            -0.12             0.14                 0.88                 1.15\n",
       "Product use issue                                  0.22       1.25       0.07             0.08             0.37                 1.08                 1.44\n",
       "Blood pressure fluctuation                         0.05       1.05       0.08            -0.10             0.20                 0.91                 1.22\n",
       "Drug ineffective                                  -0.01       0.99       0.08            -0.16             0.15                 0.85                 1.16\n",
       "Arthralgia                                        -0.02       0.98       0.08            -0.18             0.13                 0.84                 1.14\n",
       "Weight increased                                   0.16       1.18       0.08             0.01             0.32                 1.01                 1.37\n",
       "Fatigue                                           -0.01       0.99       0.08            -0.18             0.15                 0.84                 1.16\n",
       "Blood pressure increased                           0.08       1.08       0.08            -0.08             0.24                 0.93                 1.27\n",
       "Nausea                                             0.10       1.10       0.10            -0.09             0.29                 0.91                 1.33\n",
       "Weight decreased                                  -0.04       0.96       0.08            -0.20             0.12                 0.82                 1.12\n",
       "Malaise                                            0.05       1.05       0.09            -0.12             0.22                 0.88                 1.25\n",
       "Diarrhoea                                          0.02       1.02       0.11            -0.19             0.23                 0.83                 1.26\n",
       "\n",
       "                                                     z      p   -log2(p)\n",
       "covariate                                                               \n",
       "Off label use                                    -1.78   0.07       3.74\n",
       "Condition aggravated                              0.89   0.37       1.43\n",
       "Intentional product use issue                     2.61   0.01       6.78\n",
       "Inappropriate schedule of product administration  0.13   0.90       0.15\n",
       "Product use issue                                 3.07 <0.005       8.87\n",
       "Blood pressure fluctuation                        0.70   0.49       1.04\n",
       "Drug ineffective                                 -0.08   0.94       0.09\n",
       "Arthralgia                                       -0.27   0.79       0.34\n",
       "Weight increased                                  2.07   0.04       4.70\n",
       "Fatigue                                          -0.15   0.88       0.19\n",
       "Blood pressure increased                          1.01   0.31       1.67\n",
       "Nausea                                            1.02   0.31       1.71\n",
       "Weight decreased                                 -0.54   0.59       0.76\n",
       "Malaise                                           0.55   0.58       0.79\n",
       "Diarrhoea                                         0.17   0.86       0.21\n",
       "---\n",
       "Concordance = 0.54\n",
       "Partial AIC = 14984.40\n",
       "log-likelihood ratio test = 47.71 on 15 df\n",
       "-log2(p) of ll-ratio test = 15.11"
      ]
     },
     "metadata": {},
     "output_type": "display_data"
    }
   ],
   "source": [
    "# Using Cox Proportional Hazards model\n",
    "cph = CoxPHFitter()\n",
    "cph.fit(df_hazr, 'duration', event_col='outcome')   ## Fit the data to train the model\n",
    "cph.print_summary()    ## HAve a look at the significance of the features"
   ]
  },
  {
   "cell_type": "code",
   "execution_count": 351,
   "metadata": {
    "ExecuteTime": {
     "end_time": "2022-03-10T19:28:47.669232Z",
     "start_time": "2022-03-10T19:28:47.427900Z"
    }
   },
   "outputs": [
    {
     "data": {
      "text/plain": [
       "<matplotlib.axes._subplots.AxesSubplot at 0x7f2328504780>"
      ]
     },
     "execution_count": 351,
     "metadata": {},
     "output_type": "execute_result"
    },
    {
     "data": {
      "image/png": "[encoded data removed]",
      "text/plain": [
       "<Figure size 432x288 with 1 Axes>"
      ]
     },
     "metadata": {
      "needs_background": "light"
     },
     "output_type": "display_data"
    }
   ],
   "source": [
    "cph.plot()"
   ]
  },
  {
   "cell_type": "code",
   "execution_count": 355,
   "metadata": {
    "ExecuteTime": {
     "end_time": "2022-03-10T19:31:19.985845Z",
     "start_time": "2022-03-10T19:31:19.981555Z"
    }
   },
   "outputs": [
    {
     "data": {
      "text/plain": [
       "covariate\n",
       "Off label use                                       0.866895\n",
       "Condition aggravated                                1.063919\n",
       "Intentional product use issue                       1.214108\n",
       "Inappropriate schedule of product administration    1.008724\n",
       "Product use issue                                   1.249712\n",
       "Blood pressure fluctuation                          1.054542\n",
       "Drug ineffective                                    0.993831\n",
       "Arthralgia                                          0.979108\n",
       "Weight increased                                    1.176086\n",
       "Fatigue                                             0.987125\n",
       "Blood pressure increased                            1.084213\n",
       "Nausea                                              1.102800\n",
       "Weight decreased                                    0.957119\n",
       "Malaise                                             1.049781\n",
       "Diarrhoea                                           1.018594\n",
       "Name: exp(coef), dtype: float64"
      ]
     },
     "execution_count": 355,
     "metadata": {},
     "output_type": "execute_result"
    }
   ],
   "source": [
    "cph.hazard_ratios_"
   ]
  },
  {
   "cell_type": "code",
   "execution_count": 371,
   "metadata": {
    "ExecuteTime": {
     "end_time": "2022-03-10T22:04:49.363591Z",
     "start_time": "2022-03-10T22:04:49.361362Z"
    }
   },
   "outputs": [],
   "source": [
    "ff = cph.confidence_intervals_"
   ]
  },
  {
   "cell_type": "code",
   "execution_count": 392,
   "metadata": {
    "ExecuteTime": {
     "end_time": "2022-03-10T22:24:05.805288Z",
     "start_time": "2022-03-10T22:24:05.793715Z"
    }
   },
   "outputs": [
    {
     "data": {
      "text/html": [
       "<div>\n",
       "<style scoped>\n",
       "    .dataframe tbody tr th:only-of-type {\n",
       "        vertical-align: middle;\n",
       "    }\n",
       "\n",
       "    .dataframe tbody tr th {\n",
       "        vertical-align: top;\n",
       "    }\n",
       "\n",
       "    .dataframe thead th {\n",
       "        text-align: right;\n",
       "    }\n",
       "</style>\n",
       "<table border=\"1\" class=\"dataframe\">\n",
       "  <thead>\n",
       "    <tr style=\"text-align: right;\">\n",
       "      <th></th>\n",
       "      <th>duration</th>\n",
       "      <th>Off label use</th>\n",
       "      <th>Condition aggravated</th>\n",
       "      <th>Intentional product use issue</th>\n",
       "      <th>Inappropriate schedule of product administration</th>\n",
       "      <th>Product use issue</th>\n",
       "      <th>Blood pressure fluctuation</th>\n",
       "      <th>Drug ineffective</th>\n",
       "      <th>Arthralgia</th>\n",
       "      <th>Weight increased</th>\n",
       "      <th>Fatigue</th>\n",
       "      <th>Blood pressure increased</th>\n",
       "      <th>Nausea</th>\n",
       "      <th>Weight decreased</th>\n",
       "      <th>Malaise</th>\n",
       "      <th>Diarrhoea</th>\n",
       "    </tr>\n",
       "    <tr>\n",
       "      <th>outcome</th>\n",
       "      <th></th>\n",
       "      <th></th>\n",
       "      <th></th>\n",
       "      <th></th>\n",
       "      <th></th>\n",
       "      <th></th>\n",
       "      <th></th>\n",
       "      <th></th>\n",
       "      <th></th>\n",
       "      <th></th>\n",
       "      <th></th>\n",
       "      <th></th>\n",
       "      <th></th>\n",
       "      <th></th>\n",
       "      <th></th>\n",
       "      <th></th>\n",
       "    </tr>\n",
       "  </thead>\n",
       "  <tbody>\n",
       "    <tr>\n",
       "      <th>0.0</th>\n",
       "      <td>167</td>\n",
       "      <td>167</td>\n",
       "      <td>167</td>\n",
       "      <td>167</td>\n",
       "      <td>167</td>\n",
       "      <td>167</td>\n",
       "      <td>167</td>\n",
       "      <td>167</td>\n",
       "      <td>167</td>\n",
       "      <td>167</td>\n",
       "      <td>167</td>\n",
       "      <td>167</td>\n",
       "      <td>167</td>\n",
       "      <td>167</td>\n",
       "      <td>167</td>\n",
       "      <td>167</td>\n",
       "    </tr>\n",
       "    <tr>\n",
       "      <th>1.0</th>\n",
       "      <td>1198</td>\n",
       "      <td>1198</td>\n",
       "      <td>1198</td>\n",
       "      <td>1198</td>\n",
       "      <td>1198</td>\n",
       "      <td>1198</td>\n",
       "      <td>1198</td>\n",
       "      <td>1198</td>\n",
       "      <td>1198</td>\n",
       "      <td>1198</td>\n",
       "      <td>1198</td>\n",
       "      <td>1198</td>\n",
       "      <td>1198</td>\n",
       "      <td>1198</td>\n",
       "      <td>1198</td>\n",
       "      <td>1198</td>\n",
       "    </tr>\n",
       "  </tbody>\n",
       "</table>\n",
       "</div>"
      ],
      "text/plain": [
       "         duration  Off label use  Condition aggravated  \\\n",
       "outcome                                                  \n",
       "0.0           167            167                   167   \n",
       "1.0          1198           1198                  1198   \n",
       "\n",
       "         Intentional product use issue  \\\n",
       "outcome                                  \n",
       "0.0                                167   \n",
       "1.0                               1198   \n",
       "\n",
       "         Inappropriate schedule of product administration  Product use issue  \\\n",
       "outcome                                                                        \n",
       "0.0                                                   167                167   \n",
       "1.0                                                  1198               1198   \n",
       "\n",
       "         Blood pressure fluctuation  Drug ineffective  Arthralgia  \\\n",
       "outcome                                                             \n",
       "0.0                             167               167         167   \n",
       "1.0                            1198              1198        1198   \n",
       "\n",
       "         Weight increased  Fatigue  Blood pressure increased  Nausea  \\\n",
       "outcome                                                                \n",
       "0.0                   167      167                       167     167   \n",
       "1.0                  1198     1198                      1198    1198   \n",
       "\n",
       "         Weight decreased  Malaise  Diarrhoea  \n",
       "outcome                                        \n",
       "0.0                   167      167        167  \n",
       "1.0                  1198     1198       1198  "
      ]
     },
     "execution_count": 392,
     "metadata": {},
     "output_type": "execute_result"
    }
   ],
   "source": [
    "df_hazr.groupby('outcome').count()"
   ]
  },
  {
   "cell_type": "code",
   "execution_count": 405,
   "metadata": {
    "ExecuteTime": {
     "end_time": "2022-03-11T18:00:50.787077Z",
     "start_time": "2022-03-11T18:00:50.781943Z"
    }
   },
   "outputs": [
    {
     "data": {
      "text/plain": [
       "-0.2999530775079442"
      ]
     },
     "execution_count": 405,
     "metadata": {},
     "output_type": "execute_result"
    }
   ],
   "source": [
    "ff.iloc[0][0]"
   ]
  },
  {
   "cell_type": "code",
   "execution_count": 406,
   "metadata": {
    "ExecuteTime": {
     "end_time": "2022-03-11T18:00:51.396526Z",
     "start_time": "2022-03-11T18:00:51.385376Z"
    }
   },
   "outputs": [
    {
     "data": {
      "text/html": [
       "<div>\n",
       "<style scoped>\n",
       "    .dataframe tbody tr th:only-of-type {\n",
       "        vertical-align: middle;\n",
       "    }\n",
       "\n",
       "    .dataframe tbody tr th {\n",
       "        vertical-align: top;\n",
       "    }\n",
       "\n",
       "    .dataframe thead th {\n",
       "        text-align: right;\n",
       "    }\n",
       "</style>\n",
       "<table border=\"1\" class=\"dataframe\">\n",
       "  <thead>\n",
       "    <tr style=\"text-align: right;\">\n",
       "      <th></th>\n",
       "      <th>95% lower-bound</th>\n",
       "      <th>95% upper-bound</th>\n",
       "    </tr>\n",
       "    <tr>\n",
       "      <th>covariate</th>\n",
       "      <th></th>\n",
       "      <th></th>\n",
       "    </tr>\n",
       "  </thead>\n",
       "  <tbody>\n",
       "    <tr>\n",
       "      <th>Off label use</th>\n",
       "      <td>-0.299953</td>\n",
       "      <td>0.014278</td>\n",
       "    </tr>\n",
       "    <tr>\n",
       "      <th>Condition aggravated</th>\n",
       "      <td>-0.074134</td>\n",
       "      <td>0.198054</td>\n",
       "    </tr>\n",
       "    <tr>\n",
       "      <th>Intentional product use issue</th>\n",
       "      <td>0.048260</td>\n",
       "      <td>0.339760</td>\n",
       "    </tr>\n",
       "    <tr>\n",
       "      <th>Inappropriate schedule of product administration</th>\n",
       "      <td>-0.124351</td>\n",
       "      <td>0.141724</td>\n",
       "    </tr>\n",
       "    <tr>\n",
       "      <th>Product use issue</th>\n",
       "      <td>0.080635</td>\n",
       "      <td>0.365191</td>\n",
       "    </tr>\n",
       "    <tr>\n",
       "      <th>Blood pressure fluctuation</th>\n",
       "      <td>-0.096497</td>\n",
       "      <td>0.202710</td>\n",
       "    </tr>\n",
       "    <tr>\n",
       "      <th>Drug ineffective</th>\n",
       "      <td>-0.159813</td>\n",
       "      <td>0.147438</td>\n",
       "    </tr>\n",
       "    <tr>\n",
       "      <th>Arthralgia</th>\n",
       "      <td>-0.176256</td>\n",
       "      <td>0.134029</td>\n",
       "    </tr>\n",
       "    <tr>\n",
       "      <th>Weight increased</th>\n",
       "      <td>0.008652</td>\n",
       "      <td>0.315733</td>\n",
       "    </tr>\n",
       "    <tr>\n",
       "      <th>Fatigue</th>\n",
       "      <td>-0.178396</td>\n",
       "      <td>0.152478</td>\n",
       "    </tr>\n",
       "    <tr>\n",
       "      <th>Blood pressure increased</th>\n",
       "      <td>-0.076584</td>\n",
       "      <td>0.238293</td>\n",
       "    </tr>\n",
       "    <tr>\n",
       "      <th>Nausea</th>\n",
       "      <td>-0.089752</td>\n",
       "      <td>0.285456</td>\n",
       "    </tr>\n",
       "    <tr>\n",
       "      <th>Weight decreased</th>\n",
       "      <td>-0.202693</td>\n",
       "      <td>0.115039</td>\n",
       "    </tr>\n",
       "    <tr>\n",
       "      <th>Malaise</th>\n",
       "      <td>-0.123170</td>\n",
       "      <td>0.220333</td>\n",
       "    </tr>\n",
       "    <tr>\n",
       "      <th>Diarrhoea</th>\n",
       "      <td>-0.191098</td>\n",
       "      <td>0.227944</td>\n",
       "    </tr>\n",
       "  </tbody>\n",
       "</table>\n",
       "</div>"
      ],
      "text/plain": [
       "                                                  95% lower-bound  \\\n",
       "covariate                                                           \n",
       "Off label use                                           -0.299953   \n",
       "Condition aggravated                                    -0.074134   \n",
       "Intentional product use issue                            0.048260   \n",
       "Inappropriate schedule of product administration        -0.124351   \n",
       "Product use issue                                        0.080635   \n",
       "Blood pressure fluctuation                              -0.096497   \n",
       "Drug ineffective                                        -0.159813   \n",
       "Arthralgia                                              -0.176256   \n",
       "Weight increased                                         0.008652   \n",
       "Fatigue                                                 -0.178396   \n",
       "Blood pressure increased                                -0.076584   \n",
       "Nausea                                                  -0.089752   \n",
       "Weight decreased                                        -0.202693   \n",
       "Malaise                                                 -0.123170   \n",
       "Diarrhoea                                               -0.191098   \n",
       "\n",
       "                                                  95% upper-bound  \n",
       "covariate                                                          \n",
       "Off label use                                            0.014278  \n",
       "Condition aggravated                                     0.198054  \n",
       "Intentional product use issue                            0.339760  \n",
       "Inappropriate schedule of product administration         0.141724  \n",
       "Product use issue                                        0.365191  \n",
       "Blood pressure fluctuation                               0.202710  \n",
       "Drug ineffective                                         0.147438  \n",
       "Arthralgia                                               0.134029  \n",
       "Weight increased                                         0.315733  \n",
       "Fatigue                                                  0.152478  \n",
       "Blood pressure increased                                 0.238293  \n",
       "Nausea                                                   0.285456  \n",
       "Weight decreased                                         0.115039  \n",
       "Malaise                                                  0.220333  \n",
       "Diarrhoea                                                0.227944  "
      ]
     },
     "execution_count": 406,
     "metadata": {},
     "output_type": "execute_result"
    }
   ],
   "source": [
    "ff"
   ]
  },
  {
   "cell_type": "code",
   "execution_count": 407,
   "metadata": {
    "ExecuteTime": {
     "end_time": "2022-03-11T18:00:52.367328Z",
     "start_time": "2022-03-11T18:00:52.361153Z"
    }
   },
   "outputs": [
    {
     "data": {
      "text/plain": [
       "covariate\n",
       "Off label use                                       0.866895\n",
       "Condition aggravated                                1.063919\n",
       "Intentional product use issue                       1.214108\n",
       "Inappropriate schedule of product administration    1.008724\n",
       "Product use issue                                   1.249712\n",
       "Blood pressure fluctuation                          1.054542\n",
       "Drug ineffective                                    0.993831\n",
       "Arthralgia                                          0.979108\n",
       "Weight increased                                    1.176086\n",
       "Fatigue                                             0.987125\n",
       "Blood pressure increased                            1.084213\n",
       "Nausea                                              1.102800\n",
       "Weight decreased                                    0.957119\n",
       "Malaise                                             1.049781\n",
       "Diarrhoea                                           1.018594\n",
       "Name: exp(coef), dtype: float64"
      ]
     },
     "execution_count": 407,
     "metadata": {},
     "output_type": "execute_result"
    }
   ],
   "source": [
    "cph.hazard_ratios_"
   ]
  },
  {
   "cell_type": "code",
   "execution_count": 408,
   "metadata": {
    "ExecuteTime": {
     "end_time": "2022-03-11T18:00:55.165019Z",
     "start_time": "2022-03-11T18:00:55.153419Z"
    }
   },
   "outputs": [
    {
     "data": {
      "text/html": [
       "<div>\n",
       "<style scoped>\n",
       "    .dataframe tbody tr th:only-of-type {\n",
       "        vertical-align: middle;\n",
       "    }\n",
       "\n",
       "    .dataframe tbody tr th {\n",
       "        vertical-align: top;\n",
       "    }\n",
       "\n",
       "    .dataframe thead th {\n",
       "        text-align: right;\n",
       "    }\n",
       "</style>\n",
       "<table border=\"1\" class=\"dataframe\">\n",
       "  <thead>\n",
       "    <tr style=\"text-align: right;\">\n",
       "      <th></th>\n",
       "      <th>primaryid</th>\n",
       "      <th>duration</th>\n",
       "    </tr>\n",
       "    <tr>\n",
       "      <th>outcome</th>\n",
       "      <th></th>\n",
       "      <th></th>\n",
       "    </tr>\n",
       "  </thead>\n",
       "  <tbody>\n",
       "    <tr>\n",
       "      <th>0.0</th>\n",
       "      <td>167</td>\n",
       "      <td>167</td>\n",
       "    </tr>\n",
       "    <tr>\n",
       "      <th>1.0</th>\n",
       "      <td>1198</td>\n",
       "      <td>1198</td>\n",
       "    </tr>\n",
       "  </tbody>\n",
       "</table>\n",
       "</div>"
      ],
      "text/plain": [
       "         primaryid  duration\n",
       "outcome                     \n",
       "0.0            167       167\n",
       "1.0           1198      1198"
      ]
     },
     "execution_count": 408,
     "metadata": {},
     "output_type": "execute_result"
    }
   ],
   "source": [
    "df_su.groupby('outcome').count()"
   ]
  },
  {
   "cell_type": "code",
   "execution_count": 409,
   "metadata": {
    "ExecuteTime": {
     "end_time": "2022-03-11T18:00:55.913760Z",
     "start_time": "2022-03-11T18:00:55.898162Z"
    }
   },
   "outputs": [
    {
     "data": {
      "text/html": [
       "<div>\n",
       "<style scoped>\n",
       "    .dataframe tbody tr th:only-of-type {\n",
       "        vertical-align: middle;\n",
       "    }\n",
       "\n",
       "    .dataframe tbody tr th {\n",
       "        vertical-align: top;\n",
       "    }\n",
       "\n",
       "    .dataframe thead th {\n",
       "        text-align: right;\n",
       "    }\n",
       "</style>\n",
       "<table border=\"1\" class=\"dataframe\">\n",
       "  <thead>\n",
       "    <tr style=\"text-align: right;\">\n",
       "      <th></th>\n",
       "      <th>primaryid</th>\n",
       "      <th>start_dt</th>\n",
       "      <th>drugname</th>\n",
       "      <th>fda_dt</th>\n",
       "      <th>outc_cod</th>\n",
       "      <th>duration</th>\n",
       "    </tr>\n",
       "    <tr>\n",
       "      <th>outcome</th>\n",
       "      <th></th>\n",
       "      <th></th>\n",
       "      <th></th>\n",
       "      <th></th>\n",
       "      <th></th>\n",
       "      <th></th>\n",
       "    </tr>\n",
       "  </thead>\n",
       "  <tbody>\n",
       "    <tr>\n",
       "      <th>0</th>\n",
       "      <td>1616</td>\n",
       "      <td>1616</td>\n",
       "      <td>1616</td>\n",
       "      <td>1616</td>\n",
       "      <td>1551</td>\n",
       "      <td>1616</td>\n",
       "    </tr>\n",
       "    <tr>\n",
       "      <th>1</th>\n",
       "      <td>2847</td>\n",
       "      <td>2847</td>\n",
       "      <td>2847</td>\n",
       "      <td>2847</td>\n",
       "      <td>2847</td>\n",
       "      <td>2847</td>\n",
       "    </tr>\n",
       "  </tbody>\n",
       "</table>\n",
       "</div>"
      ],
      "text/plain": [
       "         primaryid  start_dt  drugname  fda_dt  outc_cod  duration\n",
       "outcome                                                           \n",
       "0             1616      1616      1616    1616      1551      1616\n",
       "1             2847      2847      2847    2847      2847      2847"
      ]
     },
     "execution_count": 409,
     "metadata": {},
     "output_type": "execute_result"
    }
   ],
   "source": [
    "df1.groupby('outcome').count()"
   ]
  },
  {
   "cell_type": "code",
   "execution_count": 410,
   "metadata": {
    "ExecuteTime": {
     "end_time": "2022-03-11T18:00:58.258730Z",
     "start_time": "2022-03-11T18:00:58.254280Z"
    }
   },
   "outputs": [
    {
     "data": {
      "text/plain": [
       "3.2695970695970695"
      ]
     },
     "execution_count": 410,
     "metadata": {},
     "output_type": "execute_result"
    }
   ],
   "source": [
    "(2847 + 1616) /(167+1198) "
   ]
  },
  {
   "cell_type": "code",
   "execution_count": 396,
   "metadata": {
    "ExecuteTime": {
     "end_time": "2022-03-10T22:28:08.778526Z",
     "start_time": "2022-03-10T22:28:08.773376Z"
    }
   },
   "outputs": [
    {
     "data": {
      "text/plain": [
       "OT    2649\n",
       "HO    1541\n",
       "DE      93\n",
       "DS      57\n",
       "LT      48\n",
       "CA      10\n",
       "Name: outc_cod, dtype: int64"
      ]
     },
     "execution_count": 396,
     "metadata": {},
     "output_type": "execute_result"
    }
   ],
   "source": [
    "df1['outc_cod'].value_counts()"
   ]
  },
  {
   "cell_type": "code",
   "execution_count": 397,
   "metadata": {
    "ExecuteTime": {
     "end_time": "2022-03-10T22:28:22.102842Z",
     "start_time": "2022-03-10T22:28:22.095118Z"
    }
   },
   "outputs": [
    {
     "data": {
      "text/plain": [
       "OT    27087\n",
       "HO    11197\n",
       "DS     2960\n",
       "LT     1473\n",
       "DE      321\n",
       "CA       46\n",
       "Name: outc_cod, dtype: int64"
      ]
     },
     "execution_count": 397,
     "metadata": {},
     "output_type": "execute_result"
    }
   ],
   "source": [
    "df2['outc_cod'].value_counts()"
   ]
  },
  {
   "cell_type": "code",
   "execution_count": 413,
   "metadata": {
    "ExecuteTime": {
     "end_time": "2022-03-11T18:01:07.391554Z",
     "start_time": "2022-03-11T18:01:07.380641Z"
    }
   },
   "outputs": [
    {
     "data": {
      "text/html": [
       "<div>\n",
       "<style scoped>\n",
       "    .dataframe tbody tr th:only-of-type {\n",
       "        vertical-align: middle;\n",
       "    }\n",
       "\n",
       "    .dataframe tbody tr th {\n",
       "        vertical-align: top;\n",
       "    }\n",
       "\n",
       "    .dataframe thead th {\n",
       "        text-align: right;\n",
       "    }\n",
       "</style>\n",
       "<table border=\"1\" class=\"dataframe\">\n",
       "  <thead>\n",
       "    <tr style=\"text-align: right;\">\n",
       "      <th></th>\n",
       "      <th>primaryid</th>\n",
       "      <th>drugname</th>\n",
       "      <th>pt</th>\n",
       "      <th>outc_cod</th>\n",
       "    </tr>\n",
       "  </thead>\n",
       "  <tbody>\n",
       "    <tr>\n",
       "      <th>0</th>\n",
       "      <td>160821476</td>\n",
       "      <td>Infliximab</td>\n",
       "      <td>Skin infection</td>\n",
       "      <td>OT</td>\n",
       "    </tr>\n",
       "    <tr>\n",
       "      <th>1</th>\n",
       "      <td>160821476</td>\n",
       "      <td>Infliximab</td>\n",
       "      <td>Sinusitis</td>\n",
       "      <td>OT</td>\n",
       "    </tr>\n",
       "    <tr>\n",
       "      <th>2</th>\n",
       "      <td>160821476</td>\n",
       "      <td>Infliximab</td>\n",
       "      <td>Pain</td>\n",
       "      <td>OT</td>\n",
       "    </tr>\n",
       "    <tr>\n",
       "      <th>3</th>\n",
       "      <td>160821476</td>\n",
       "      <td>Infliximab</td>\n",
       "      <td>Off label use</td>\n",
       "      <td>OT</td>\n",
       "    </tr>\n",
       "    <tr>\n",
       "      <th>4</th>\n",
       "      <td>160821476</td>\n",
       "      <td>Infliximab</td>\n",
       "      <td>Joint swelling</td>\n",
       "      <td>OT</td>\n",
       "    </tr>\n",
       "  </tbody>\n",
       "</table>\n",
       "</div>"
      ],
      "text/plain": [
       "   primaryid    drugname              pt outc_cod\n",
       "0  160821476  Infliximab  Skin infection       OT\n",
       "1  160821476  Infliximab       Sinusitis       OT\n",
       "2  160821476  Infliximab            Pain       OT\n",
       "3  160821476  Infliximab   Off label use       OT\n",
       "4  160821476  Infliximab  Joint swelling       OT"
      ]
     },
     "execution_count": 413,
     "metadata": {},
     "output_type": "execute_result"
    }
   ],
   "source": [
    "df2.head()"
   ]
  },
  {
   "cell_type": "code",
   "execution_count": 411,
   "metadata": {
    "ExecuteTime": {
     "end_time": "2022-03-11T18:01:02.212987Z",
     "start_time": "2022-03-11T18:01:02.188812Z"
    }
   },
   "outputs": [
    {
     "data": {
      "text/html": [
       "<div>\n",
       "<style scoped>\n",
       "    .dataframe tbody tr th:only-of-type {\n",
       "        vertical-align: middle;\n",
       "    }\n",
       "\n",
       "    .dataframe tbody tr th {\n",
       "        vertical-align: top;\n",
       "    }\n",
       "\n",
       "    .dataframe thead th {\n",
       "        text-align: right;\n",
       "    }\n",
       "</style>\n",
       "<table border=\"1\" class=\"dataframe\">\n",
       "  <thead>\n",
       "    <tr style=\"text-align: right;\">\n",
       "      <th></th>\n",
       "      <th>drugname</th>\n",
       "      <th>pt</th>\n",
       "      <th>outc_cod</th>\n",
       "    </tr>\n",
       "    <tr>\n",
       "      <th>primaryid</th>\n",
       "      <th></th>\n",
       "      <th></th>\n",
       "      <th></th>\n",
       "    </tr>\n",
       "  </thead>\n",
       "  <tbody>\n",
       "    <tr>\n",
       "      <th>148426928</th>\n",
       "      <td>231</td>\n",
       "      <td>231</td>\n",
       "      <td>231</td>\n",
       "    </tr>\n",
       "    <tr>\n",
       "      <th>152566893</th>\n",
       "      <td>4</td>\n",
       "      <td>4</td>\n",
       "      <td>4</td>\n",
       "    </tr>\n",
       "    <tr>\n",
       "      <th>153326142</th>\n",
       "      <td>8</td>\n",
       "      <td>8</td>\n",
       "      <td>8</td>\n",
       "    </tr>\n",
       "    <tr>\n",
       "      <th>154592797</th>\n",
       "      <td>10</td>\n",
       "      <td>10</td>\n",
       "      <td>10</td>\n",
       "    </tr>\n",
       "    <tr>\n",
       "      <th>158264983</th>\n",
       "      <td>16</td>\n",
       "      <td>16</td>\n",
       "      <td>16</td>\n",
       "    </tr>\n",
       "    <tr>\n",
       "      <th>...</th>\n",
       "      <td>...</td>\n",
       "      <td>...</td>\n",
       "      <td>...</td>\n",
       "    </tr>\n",
       "    <tr>\n",
       "      <th>1311836434</th>\n",
       "      <td>675</td>\n",
       "      <td>675</td>\n",
       "      <td>675</td>\n",
       "    </tr>\n",
       "    <tr>\n",
       "      <th>1557482724</th>\n",
       "      <td>252</td>\n",
       "      <td>252</td>\n",
       "      <td>252</td>\n",
       "    </tr>\n",
       "    <tr>\n",
       "      <th>1570794320</th>\n",
       "      <td>32</td>\n",
       "      <td>32</td>\n",
       "      <td>32</td>\n",
       "    </tr>\n",
       "    <tr>\n",
       "      <th>1638803213</th>\n",
       "      <td>280</td>\n",
       "      <td>280</td>\n",
       "      <td>280</td>\n",
       "    </tr>\n",
       "    <tr>\n",
       "      <th>1836411911</th>\n",
       "      <td>10</td>\n",
       "      <td>10</td>\n",
       "      <td>10</td>\n",
       "    </tr>\n",
       "  </tbody>\n",
       "</table>\n",
       "<p>1365 rows × 3 columns</p>\n",
       "</div>"
      ],
      "text/plain": [
       "            drugname   pt  outc_cod\n",
       "primaryid                          \n",
       "148426928        231  231       231\n",
       "152566893          4    4         4\n",
       "153326142          8    8         8\n",
       "154592797         10   10        10\n",
       "158264983         16   16        16\n",
       "...              ...  ...       ...\n",
       "1311836434       675  675       675\n",
       "1557482724       252  252       252\n",
       "1570794320        32   32        32\n",
       "1638803213       280  280       280\n",
       "1836411911        10   10        10\n",
       "\n",
       "[1365 rows x 3 columns]"
      ]
     },
     "execution_count": 411,
     "metadata": {},
     "output_type": "execute_result"
    }
   ],
   "source": [
    "df2.groupby('primaryid').count()"
   ]
  },
  {
   "cell_type": "code",
   "execution_count": null,
   "metadata": {},
   "outputs": [],
   "source": []
  }
 ],
 "metadata": {
  "kernelspec": {
   "display_name": "Python 3",
   "language": "python",
   "name": "python3"
  },
  "language_info": {
   "codemirror_mode": {
    "name": "ipython",
    "version": 3
   },
   "file_extension": ".py",
   "mimetype": "text/x-python",
   "name": "python",
   "nbconvert_exporter": "python",
   "pygments_lexer": "ipython3",
   "version": "3.6.9"
  },
  "toc": {
   "base_numbering": 1,
   "nav_menu": {},
   "number_sections": true,
   "sideBar": true,
   "skip_h1_title": false,
   "title_cell": "Table of Contents",
   "title_sidebar": "Contents",
   "toc_cell": false,
   "toc_position": {},
   "toc_section_display": true,
   "toc_window_display": false
  }
 },
 "nbformat": 4,
 "nbformat_minor": 2
}
