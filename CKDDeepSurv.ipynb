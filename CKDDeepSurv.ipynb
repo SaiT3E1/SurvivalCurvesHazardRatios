{
 "cells": [
  {
   "cell_type": "code",
   "execution_count": 1,
   "metadata": {
    "ExecuteTime": {
     "end_time": "2022-03-18T15:28:30.908806Z",
     "start_time": "2022-03-18T15:28:30.571349Z"
    }
   },
   "outputs": [],
   "source": [
    "import pandas as pd\n",
    "import numpy as np"
   ]
  },
  {
   "cell_type": "code",
   "execution_count": 2,
   "metadata": {
    "ExecuteTime": {
     "end_time": "2022-03-18T15:28:58.847126Z",
     "start_time": "2022-03-18T15:28:55.218373Z"
    }
   },
   "outputs": [
    {
     "name": "stderr",
     "output_type": "stream",
     "text": [
      "/home/ubuntu/anaconda3/lib/python3.6/site-packages/IPython/core/interactiveshell.py:3058: DtypeWarning: Columns (58,59,60) have mixed types.Specify dtype option on import or set low_memory=False.\n",
      "  interactivity=interactivity, compiler=compiler, result=result)\n"
     ]
    }
   ],
   "source": [
    "df = pd.read_csv('carefirst_med_n18.csv')"
   ]
  },
  {
   "cell_type": "code",
   "execution_count": 3,
   "metadata": {
    "ExecuteTime": {
     "end_time": "2022-03-18T15:29:09.712345Z",
     "start_time": "2022-03-18T15:29:09.682669Z"
    }
   },
   "outputs": [
    {
     "data": {
      "text/html": [
       "<div>\n",
       "<style scoped>\n",
       "    .dataframe tbody tr th:only-of-type {\n",
       "        vertical-align: middle;\n",
       "    }\n",
       "\n",
       "    .dataframe tbody tr th {\n",
       "        vertical-align: top;\n",
       "    }\n",
       "\n",
       "    .dataframe thead th {\n",
       "        text-align: right;\n",
       "    }\n",
       "</style>\n",
       "<table border=\"1\" class=\"dataframe\">\n",
       "  <thead>\n",
       "    <tr style=\"text-align: right;\">\n",
       "      <th></th>\n",
       "      <th>memb_life_id</th>\n",
       "      <th>group_number</th>\n",
       "      <th>group_section_number</th>\n",
       "      <th>employer_group_id</th>\n",
       "      <th>package_code_nasco_class_code_facets</th>\n",
       "      <th>subgroup</th>\n",
       "      <th>financial_market_segment</th>\n",
       "      <th>risk_type</th>\n",
       "      <th>legal_entity</th>\n",
       "      <th>jurisdiction</th>\n",
       "      <th>...</th>\n",
       "      <th>coinsurance_amount</th>\n",
       "      <th>deductible_amount</th>\n",
       "      <th>paid_amount</th>\n",
       "      <th>allowed_amount</th>\n",
       "      <th>its_access_fees</th>\n",
       "      <th>its_supplemental_fees</th>\n",
       "      <th>surcharge_amount</th>\n",
       "      <th>medicare_paid_amount</th>\n",
       "      <th>non_covered_amount</th>\n",
       "      <th>cob_amount</th>\n",
       "    </tr>\n",
       "  </thead>\n",
       "  <tbody>\n",
       "    <tr>\n",
       "      <th>0</th>\n",
       "      <td>260993</td>\n",
       "      <td>99M1</td>\n",
       "      <td>NaN</td>\n",
       "      <td>NaN</td>\n",
       "      <td>CR07</td>\n",
       "      <td>99M1MCRN</td>\n",
       "      <td>IMD Medigap</td>\n",
       "      <td>RISK</td>\n",
       "      <td>CFMI</td>\n",
       "      <td>Maryland</td>\n",
       "      <td>...</td>\n",
       "      <td>0.0</td>\n",
       "      <td>0.0</td>\n",
       "      <td>42.05</td>\n",
       "      <td>42.05</td>\n",
       "      <td>0.0</td>\n",
       "      <td>0.0</td>\n",
       "      <td>0.0</td>\n",
       "      <td>164.84</td>\n",
       "      <td>0.0</td>\n",
       "      <td>164.84</td>\n",
       "    </tr>\n",
       "    <tr>\n",
       "      <th>1</th>\n",
       "      <td>143962</td>\n",
       "      <td>99M1</td>\n",
       "      <td>NaN</td>\n",
       "      <td>NaN</td>\n",
       "      <td>JU04</td>\n",
       "      <td>99M1MJUN</td>\n",
       "      <td>IMD Non-Medigap</td>\n",
       "      <td>RISK</td>\n",
       "      <td>CFMI</td>\n",
       "      <td>Maryland</td>\n",
       "      <td>...</td>\n",
       "      <td>0.0</td>\n",
       "      <td>0.0</td>\n",
       "      <td>0.00</td>\n",
       "      <td>0.00</td>\n",
       "      <td>0.0</td>\n",
       "      <td>0.0</td>\n",
       "      <td>0.0</td>\n",
       "      <td>0.00</td>\n",
       "      <td>0.0</td>\n",
       "      <td>0.00</td>\n",
       "    </tr>\n",
       "    <tr>\n",
       "      <th>2</th>\n",
       "      <td>143962</td>\n",
       "      <td>99M1</td>\n",
       "      <td>NaN</td>\n",
       "      <td>NaN</td>\n",
       "      <td>JU04</td>\n",
       "      <td>99M1MJUN</td>\n",
       "      <td>IMD Non-Medigap</td>\n",
       "      <td>RISK</td>\n",
       "      <td>CFMI</td>\n",
       "      <td>Maryland</td>\n",
       "      <td>...</td>\n",
       "      <td>0.0</td>\n",
       "      <td>0.0</td>\n",
       "      <td>0.00</td>\n",
       "      <td>0.00</td>\n",
       "      <td>0.0</td>\n",
       "      <td>0.0</td>\n",
       "      <td>0.0</td>\n",
       "      <td>0.00</td>\n",
       "      <td>0.0</td>\n",
       "      <td>0.00</td>\n",
       "    </tr>\n",
       "    <tr>\n",
       "      <th>3</th>\n",
       "      <td>143962</td>\n",
       "      <td>99M1</td>\n",
       "      <td>NaN</td>\n",
       "      <td>NaN</td>\n",
       "      <td>JU04</td>\n",
       "      <td>99M1MJUN</td>\n",
       "      <td>IMD Non-Medigap</td>\n",
       "      <td>RISK</td>\n",
       "      <td>CFMI</td>\n",
       "      <td>Maryland</td>\n",
       "      <td>...</td>\n",
       "      <td>0.0</td>\n",
       "      <td>0.0</td>\n",
       "      <td>0.00</td>\n",
       "      <td>0.00</td>\n",
       "      <td>0.0</td>\n",
       "      <td>0.0</td>\n",
       "      <td>0.0</td>\n",
       "      <td>0.00</td>\n",
       "      <td>0.0</td>\n",
       "      <td>0.00</td>\n",
       "    </tr>\n",
       "    <tr>\n",
       "      <th>4</th>\n",
       "      <td>143962</td>\n",
       "      <td>99M1</td>\n",
       "      <td>NaN</td>\n",
       "      <td>NaN</td>\n",
       "      <td>JU04</td>\n",
       "      <td>99M1MJUN</td>\n",
       "      <td>IMD Non-Medigap</td>\n",
       "      <td>RISK</td>\n",
       "      <td>CFMI</td>\n",
       "      <td>Maryland</td>\n",
       "      <td>...</td>\n",
       "      <td>0.0</td>\n",
       "      <td>0.0</td>\n",
       "      <td>0.00</td>\n",
       "      <td>0.00</td>\n",
       "      <td>0.0</td>\n",
       "      <td>0.0</td>\n",
       "      <td>0.0</td>\n",
       "      <td>0.00</td>\n",
       "      <td>0.0</td>\n",
       "      <td>0.00</td>\n",
       "    </tr>\n",
       "  </tbody>\n",
       "</table>\n",
       "<p>5 rows × 85 columns</p>\n",
       "</div>"
      ],
      "text/plain": [
       "   memb_life_id group_number  group_section_number  employer_group_id  \\\n",
       "0        260993         99M1                   NaN                NaN   \n",
       "1        143962         99M1                   NaN                NaN   \n",
       "2        143962         99M1                   NaN                NaN   \n",
       "3        143962         99M1                   NaN                NaN   \n",
       "4        143962         99M1                   NaN                NaN   \n",
       "\n",
       "  package_code_nasco_class_code_facets  subgroup financial_market_segment  \\\n",
       "0                                 CR07  99M1MCRN              IMD Medigap   \n",
       "1                                 JU04  99M1MJUN          IMD Non-Medigap   \n",
       "2                                 JU04  99M1MJUN          IMD Non-Medigap   \n",
       "3                                 JU04  99M1MJUN          IMD Non-Medigap   \n",
       "4                                 JU04  99M1MJUN          IMD Non-Medigap   \n",
       "\n",
       "  risk_type legal_entity jurisdiction  ... coinsurance_amount  \\\n",
       "0      RISK         CFMI     Maryland  ...                0.0   \n",
       "1      RISK         CFMI     Maryland  ...                0.0   \n",
       "2      RISK         CFMI     Maryland  ...                0.0   \n",
       "3      RISK         CFMI     Maryland  ...                0.0   \n",
       "4      RISK         CFMI     Maryland  ...                0.0   \n",
       "\n",
       "   deductible_amount paid_amount  allowed_amount its_access_fees  \\\n",
       "0                0.0       42.05           42.05             0.0   \n",
       "1                0.0        0.00            0.00             0.0   \n",
       "2                0.0        0.00            0.00             0.0   \n",
       "3                0.0        0.00            0.00             0.0   \n",
       "4                0.0        0.00            0.00             0.0   \n",
       "\n",
       "  its_supplemental_fees surcharge_amount  medicare_paid_amount  \\\n",
       "0                   0.0              0.0                164.84   \n",
       "1                   0.0              0.0                  0.00   \n",
       "2                   0.0              0.0                  0.00   \n",
       "3                   0.0              0.0                  0.00   \n",
       "4                   0.0              0.0                  0.00   \n",
       "\n",
       "   non_covered_amount  cob_amount  \n",
       "0                 0.0      164.84  \n",
       "1                 0.0        0.00  \n",
       "2                 0.0        0.00  \n",
       "3                 0.0        0.00  \n",
       "4                 0.0        0.00  \n",
       "\n",
       "[5 rows x 85 columns]"
      ]
     },
     "execution_count": 3,
     "metadata": {},
     "output_type": "execute_result"
    }
   ],
   "source": [
    "df.head()"
   ]
  },
  {
   "cell_type": "code",
   "execution_count": 29,
   "metadata": {
    "ExecuteTime": {
     "end_time": "2022-03-18T15:48:51.090340Z",
     "start_time": "2022-03-18T15:48:51.086637Z"
    }
   },
   "outputs": [
    {
     "data": {
      "text/plain": [
       "Index(['memb_life_id', 'group_number', 'group_section_number',\n",
       "       'employer_group_id', 'package_code_nasco_class_code_facets', 'subgroup',\n",
       "       'financial_market_segment', 'risk_type', 'legal_entity', 'jurisdiction',\n",
       "       'gender_code', 'relationship_code', 'relationship_description',\n",
       "       'subscriber_zip_code', 'level_of_coverage_description',\n",
       "       'claim_type_code', 'claim_number', 'line_number', 'claim_disposition',\n",
       "       'payee_code', 'network_indicator', 'bill_type',\n",
       "       'internal_provider_number', 'provider_zip_code', 'specialty_code',\n",
       "       'specialty_code_description', 'par_nonpar_code', 'product_description',\n",
       "       'place_of_service_code', 'type_of_service_code', 'cpt',\n",
       "       'cpt_modifier_1', 'cpt_modifier_2', 'revenue_code',\n",
       "       'primary_diagnosis_code_icd9', 'secondary_diagnosis_code_icd9',\n",
       "       'tertiary_diagnosis_code_icd9', 'icd9_surgical_procedure_code_1',\n",
       "       'icd9_surgical_procedure_code_2', 'icd9_surgical_procedure_code_3',\n",
       "       'icd9_surgical_procedure_code_4', 'institutional_diagnosis_1_icd9',\n",
       "       'institutional_diagnosis_2_icd9', 'institutional_diagnosis_3_icd9',\n",
       "       'institutional_diagnosis_4_icd9', 'professional_diagnosis_1_icd9',\n",
       "       'primary_diagnosis_code_icd10', 'secondary_diagnosis_code_icd10',\n",
       "       'tertiary_diagnosis_code_icd10', 'icd10_surgical_procedure_code_1',\n",
       "       'icd10_surgical_procedure_code_2', 'icd10_surgical_procedure_code_3',\n",
       "       'icd10_surgical_procedure_code_4', 'institutional_diagnosis_1_icd10',\n",
       "       'institutional_diagnosis_2_icd10', 'institutional_diagnosis_3_icd10',\n",
       "       'institutional_diagnosis_4_icd10', 'professional_diagnosis_1_icd10',\n",
       "       'primary_present_on_admission', 'secondary_present_on_admission',\n",
       "       'tertiary_present_on_admission', 'discharge_status', 'receipt_date',\n",
       "       'paid_date', 'line_service_from_date', 'line_service_thru_date',\n",
       "       'header_service_from_date', 'header_service_thru_date',\n",
       "       'admission_date', 'discharge_date',\n",
       "       'number_of_submitted_inpatient_days',\n",
       "       'number_of_covered_inpatient_days_', 'number_of_services',\n",
       "       'billed_amount', 'copay_amount', 'coinsurance_amount',\n",
       "       'deductible_amount', 'paid_amount', 'allowed_amount', 'its_access_fees',\n",
       "       'its_supplemental_fees', 'surcharge_amount', 'medicare_paid_amount',\n",
       "       'non_covered_amount', 'cob_amount'],\n",
       "      dtype='object')"
      ]
     },
     "execution_count": 29,
     "metadata": {},
     "output_type": "execute_result"
    }
   ],
   "source": [
    "df.columns"
   ]
  },
  {
   "cell_type": "code",
   "execution_count": 261,
   "metadata": {
    "ExecuteTime": {
     "end_time": "2022-03-18T21:01:27.260718Z",
     "start_time": "2022-03-18T21:01:27.257428Z"
    }
   },
   "outputs": [
    {
     "data": {
      "text/plain": [
       "62"
      ]
     },
     "execution_count": 261,
     "metadata": {},
     "output_type": "execute_result"
    }
   ],
   "source": [
    "df.columns.get_loc('receipt_date')"
   ]
  },
  {
   "cell_type": "code",
   "execution_count": 7,
   "metadata": {
    "ExecuteTime": {
     "end_time": "2022-03-18T15:30:23.820620Z",
     "start_time": "2022-03-18T15:30:23.815325Z"
    }
   },
   "outputs": [
    {
     "data": {
      "text/plain": [
       "2543"
      ]
     },
     "execution_count": 7,
     "metadata": {},
     "output_type": "execute_result"
    }
   ],
   "source": [
    "len(df['memb_life_id'].unique())"
   ]
  },
  {
   "cell_type": "code",
   "execution_count": 8,
   "metadata": {
    "ExecuteTime": {
     "end_time": "2022-03-18T15:30:34.534930Z",
     "start_time": "2022-03-18T15:30:34.531980Z"
    }
   },
   "outputs": [
    {
     "data": {
      "text/plain": [
       "406827"
      ]
     },
     "execution_count": 8,
     "metadata": {},
     "output_type": "execute_result"
    }
   ],
   "source": [
    "len(df)"
   ]
  },
  {
   "cell_type": "code",
   "execution_count": 15,
   "metadata": {
    "ExecuteTime": {
     "end_time": "2022-03-18T15:38:15.461341Z",
     "start_time": "2022-03-18T15:38:15.213533Z"
    }
   },
   "outputs": [
    {
     "data": {
      "text/plain": [
       "1         D509\n",
       "2         D509\n",
       "3         D509\n",
       "4         D509\n",
       "5         D509\n",
       "          ... \n",
       "406822    D509\n",
       "406823    D509\n",
       "406824    D509\n",
       "406825    D509\n",
       "406826    Z992\n",
       "Name: tertiary_diagnosis_code_icd10, Length: 387856, dtype: object"
      ]
     },
     "execution_count": 15,
     "metadata": {},
     "output_type": "execute_result"
    }
   ],
   "source": [
    "df[df['primary_diagnosis_code_icd10']=='N186']['tertiary_diagnosis_code_icd10']"
   ]
  },
  {
   "cell_type": "code",
   "execution_count": 16,
   "metadata": {
    "ExecuteTime": {
     "end_time": "2022-03-18T15:45:41.329860Z",
     "start_time": "2022-03-18T15:45:41.324580Z"
    }
   },
   "outputs": [
    {
     "data": {
      "text/plain": [
       "array([260993, 143962, 163477, ..., 780215,  55632, 166101])"
      ]
     },
     "execution_count": 16,
     "metadata": {},
     "output_type": "execute_result"
    }
   ],
   "source": [
    "df['memb_life_id'].unique()"
   ]
  },
  {
   "cell_type": "code",
   "execution_count": 47,
   "metadata": {
    "ExecuteTime": {
     "end_time": "2022-03-18T16:10:24.403331Z",
     "start_time": "2022-03-18T16:10:24.393885Z"
    }
   },
   "outputs": [
    {
     "data": {
      "text/html": [
       "<div>\n",
       "<style scoped>\n",
       "    .dataframe tbody tr th:only-of-type {\n",
       "        vertical-align: middle;\n",
       "    }\n",
       "\n",
       "    .dataframe tbody tr th {\n",
       "        vertical-align: top;\n",
       "    }\n",
       "\n",
       "    .dataframe thead th {\n",
       "        text-align: right;\n",
       "    }\n",
       "</style>\n",
       "<table border=\"1\" class=\"dataframe\">\n",
       "  <thead>\n",
       "    <tr style=\"text-align: right;\">\n",
       "      <th></th>\n",
       "      <th>primary_diagnosis_code_icd10</th>\n",
       "      <th>line_service_from_date</th>\n",
       "    </tr>\n",
       "  </thead>\n",
       "  <tbody>\n",
       "    <tr>\n",
       "      <th>0</th>\n",
       "      <td>N183</td>\n",
       "      <td>2017-03-24</td>\n",
       "    </tr>\n",
       "    <tr>\n",
       "      <th>21729</th>\n",
       "      <td>N189</td>\n",
       "      <td>2017-07-20</td>\n",
       "    </tr>\n",
       "    <tr>\n",
       "      <th>110691</th>\n",
       "      <td>N189</td>\n",
       "      <td>2017-07-20</td>\n",
       "    </tr>\n",
       "    <tr>\n",
       "      <th>110692</th>\n",
       "      <td>N189</td>\n",
       "      <td>2017-07-20</td>\n",
       "    </tr>\n",
       "    <tr>\n",
       "      <th>110693</th>\n",
       "      <td>N189</td>\n",
       "      <td>2017-07-20</td>\n",
       "    </tr>\n",
       "    <tr>\n",
       "      <th>110694</th>\n",
       "      <td>N183</td>\n",
       "      <td>2017-03-28</td>\n",
       "    </tr>\n",
       "    <tr>\n",
       "      <th>154744</th>\n",
       "      <td>N189</td>\n",
       "      <td>2017-07-20</td>\n",
       "    </tr>\n",
       "    <tr>\n",
       "      <th>154745</th>\n",
       "      <td>N189</td>\n",
       "      <td>2017-07-20</td>\n",
       "    </tr>\n",
       "    <tr>\n",
       "      <th>154746</th>\n",
       "      <td>N189</td>\n",
       "      <td>2017-07-20</td>\n",
       "    </tr>\n",
       "    <tr>\n",
       "      <th>154747</th>\n",
       "      <td>N189</td>\n",
       "      <td>2017-07-20</td>\n",
       "    </tr>\n",
       "    <tr>\n",
       "      <th>154748</th>\n",
       "      <td>N189</td>\n",
       "      <td>2017-07-20</td>\n",
       "    </tr>\n",
       "    <tr>\n",
       "      <th>154749</th>\n",
       "      <td>N189</td>\n",
       "      <td>2017-07-20</td>\n",
       "    </tr>\n",
       "    <tr>\n",
       "      <th>231420</th>\n",
       "      <td>N189</td>\n",
       "      <td>2017-07-20</td>\n",
       "    </tr>\n",
       "    <tr>\n",
       "      <th>246540</th>\n",
       "      <td>N183</td>\n",
       "      <td>2017-03-27</td>\n",
       "    </tr>\n",
       "    <tr>\n",
       "      <th>279195</th>\n",
       "      <td>N184</td>\n",
       "      <td>2017-08-25</td>\n",
       "    </tr>\n",
       "    <tr>\n",
       "      <th>309906</th>\n",
       "      <td>N184</td>\n",
       "      <td>2017-08-24</td>\n",
       "    </tr>\n",
       "    <tr>\n",
       "      <th>309911</th>\n",
       "      <td>N183</td>\n",
       "      <td>2017-03-25</td>\n",
       "    </tr>\n",
       "    <tr>\n",
       "      <th>309912</th>\n",
       "      <td>N183</td>\n",
       "      <td>2017-03-26</td>\n",
       "    </tr>\n",
       "    <tr>\n",
       "      <th>309913</th>\n",
       "      <td>N184</td>\n",
       "      <td>2017-08-28</td>\n",
       "    </tr>\n",
       "    <tr>\n",
       "      <th>311475</th>\n",
       "      <td>N189</td>\n",
       "      <td>2017-07-20</td>\n",
       "    </tr>\n",
       "  </tbody>\n",
       "</table>\n",
       "</div>"
      ],
      "text/plain": [
       "       primary_diagnosis_code_icd10 line_service_from_date\n",
       "0                              N183             2017-03-24\n",
       "21729                          N189             2017-07-20\n",
       "110691                         N189             2017-07-20\n",
       "110692                         N189             2017-07-20\n",
       "110693                         N189             2017-07-20\n",
       "110694                         N183             2017-03-28\n",
       "154744                         N189             2017-07-20\n",
       "154745                         N189             2017-07-20\n",
       "154746                         N189             2017-07-20\n",
       "154747                         N189             2017-07-20\n",
       "154748                         N189             2017-07-20\n",
       "154749                         N189             2017-07-20\n",
       "231420                         N189             2017-07-20\n",
       "246540                         N183             2017-03-27\n",
       "279195                         N184             2017-08-25\n",
       "309906                         N184             2017-08-24\n",
       "309911                         N183             2017-03-25\n",
       "309912                         N183             2017-03-26\n",
       "309913                         N184             2017-08-28\n",
       "311475                         N189             2017-07-20"
      ]
     },
     "execution_count": 47,
     "metadata": {},
     "output_type": "execute_result"
    }
   ],
   "source": [
    "df[df['memb_life_id'] == 260993][['primary_diagnosis_code_icd10','line_service_from_date']]"
   ]
  },
  {
   "cell_type": "code",
   "execution_count": 39,
   "metadata": {
    "ExecuteTime": {
     "end_time": "2022-03-18T16:07:01.634210Z",
     "start_time": "2022-03-18T16:07:01.621426Z"
    }
   },
   "outputs": [],
   "source": [
    "cols_needed = ['memb_life_id','primary_diagnosis_code_icd10','secondary_diagnosis_code_icd10','tertiary_diagnosis_code_icd10','line_service_thru_date']\n",
    "df_cur = df[cols_needed]"
   ]
  },
  {
   "cell_type": "code",
   "execution_count": 40,
   "metadata": {
    "ExecuteTime": {
     "end_time": "2022-03-18T16:07:06.606613Z",
     "start_time": "2022-03-18T16:07:06.598276Z"
    }
   },
   "outputs": [
    {
     "data": {
      "text/html": [
       "<div>\n",
       "<style scoped>\n",
       "    .dataframe tbody tr th:only-of-type {\n",
       "        vertical-align: middle;\n",
       "    }\n",
       "\n",
       "    .dataframe tbody tr th {\n",
       "        vertical-align: top;\n",
       "    }\n",
       "\n",
       "    .dataframe thead th {\n",
       "        text-align: right;\n",
       "    }\n",
       "</style>\n",
       "<table border=\"1\" class=\"dataframe\">\n",
       "  <thead>\n",
       "    <tr style=\"text-align: right;\">\n",
       "      <th></th>\n",
       "      <th>memb_life_id</th>\n",
       "      <th>primary_diagnosis_code_icd10</th>\n",
       "      <th>secondary_diagnosis_code_icd10</th>\n",
       "      <th>tertiary_diagnosis_code_icd10</th>\n",
       "      <th>line_service_thru_date</th>\n",
       "    </tr>\n",
       "  </thead>\n",
       "  <tbody>\n",
       "    <tr>\n",
       "      <th>0</th>\n",
       "      <td>260993</td>\n",
       "      <td>N183</td>\n",
       "      <td>L03319</td>\n",
       "      <td>D696</td>\n",
       "      <td>2017-03-24</td>\n",
       "    </tr>\n",
       "    <tr>\n",
       "      <th>1</th>\n",
       "      <td>143962</td>\n",
       "      <td>N186</td>\n",
       "      <td>N2581</td>\n",
       "      <td>D509</td>\n",
       "      <td>2018-11-21</td>\n",
       "    </tr>\n",
       "    <tr>\n",
       "      <th>2</th>\n",
       "      <td>143962</td>\n",
       "      <td>N186</td>\n",
       "      <td>N2581</td>\n",
       "      <td>D509</td>\n",
       "      <td>2018-12-07</td>\n",
       "    </tr>\n",
       "    <tr>\n",
       "      <th>3</th>\n",
       "      <td>143962</td>\n",
       "      <td>N186</td>\n",
       "      <td>N2581</td>\n",
       "      <td>D509</td>\n",
       "      <td>2018-12-17</td>\n",
       "    </tr>\n",
       "    <tr>\n",
       "      <th>4</th>\n",
       "      <td>143962</td>\n",
       "      <td>N186</td>\n",
       "      <td>N2581</td>\n",
       "      <td>D509</td>\n",
       "      <td>2018-12-05</td>\n",
       "    </tr>\n",
       "  </tbody>\n",
       "</table>\n",
       "</div>"
      ],
      "text/plain": [
       "   memb_life_id primary_diagnosis_code_icd10 secondary_diagnosis_code_icd10  \\\n",
       "0        260993                         N183                         L03319   \n",
       "1        143962                         N186                          N2581   \n",
       "2        143962                         N186                          N2581   \n",
       "3        143962                         N186                          N2581   \n",
       "4        143962                         N186                          N2581   \n",
       "\n",
       "  tertiary_diagnosis_code_icd10 line_service_thru_date  \n",
       "0                          D696             2017-03-24  \n",
       "1                          D509             2018-11-21  \n",
       "2                          D509             2018-12-07  \n",
       "3                          D509             2018-12-17  \n",
       "4                          D509             2018-12-05  "
      ]
     },
     "execution_count": 40,
     "metadata": {},
     "output_type": "execute_result"
    }
   ],
   "source": [
    "df_cur.head()"
   ]
  },
  {
   "cell_type": "code",
   "execution_count": 52,
   "metadata": {
    "ExecuteTime": {
     "end_time": "2022-03-18T16:15:20.151811Z",
     "start_time": "2022-03-18T16:15:20.109491Z"
    }
   },
   "outputs": [
    {
     "data": {
      "text/plain": [
       "404"
      ]
     },
     "execution_count": 52,
     "metadata": {},
     "output_type": "execute_result"
    }
   ],
   "source": [
    "len(df_cur[df_cur['primary_diagnosis_code_icd10'] == 'N186']['memb_life_id'].unique())"
   ]
  },
  {
   "cell_type": "code",
   "execution_count": 137,
   "metadata": {
    "ExecuteTime": {
     "end_time": "2022-03-18T18:39:43.770822Z",
     "start_time": "2022-03-18T18:39:43.765587Z"
    }
   },
   "outputs": [
    {
     "data": {
      "text/plain": [
       "array([260993, 143962, 163477, ..., 780215,  55632, 166101])"
      ]
     },
     "execution_count": 137,
     "metadata": {},
     "output_type": "execute_result"
    }
   ],
   "source": [
    "df_cur['memb_life_id'].unique()"
   ]
  },
  {
   "cell_type": "code",
   "execution_count": 69,
   "metadata": {
    "ExecuteTime": {
     "end_time": "2022-03-18T16:30:12.983035Z",
     "start_time": "2022-03-18T16:30:12.976136Z"
    }
   },
   "outputs": [
    {
     "name": "stdout",
     "output_type": "stream",
     "text": [
      "N183\n",
      "N189\n",
      "N189\n",
      "N189\n",
      "N189\n",
      "N183\n",
      "N189\n",
      "N189\n",
      "N189\n",
      "N189\n",
      "N189\n",
      "N189\n",
      "N189\n",
      "N183\n",
      "N184\n",
      "N184\n",
      "N183\n",
      "N183\n",
      "N184\n",
      "N189\n"
     ]
    }
   ],
   "source": [
    "for index,row in df_cur[df_cur['memb_life_id'] == 260993].iterrows():\n",
    "    print(row['primary_diagnosis_code_icd10'])"
   ]
  },
  {
   "cell_type": "code",
   "execution_count": 125,
   "metadata": {
    "ExecuteTime": {
     "end_time": "2022-03-18T17:27:08.846460Z",
     "start_time": "2022-03-18T17:27:08.809420Z"
    }
   },
   "outputs": [],
   "source": [
    "pri = df_cur['primary_diagnosis_code_icd10'].value_counts()[:10].index"
   ]
  },
  {
   "cell_type": "code",
   "execution_count": 126,
   "metadata": {
    "ExecuteTime": {
     "end_time": "2022-03-18T17:27:09.598529Z",
     "start_time": "2022-03-18T17:27:09.561155Z"
    }
   },
   "outputs": [],
   "source": [
    "sec=df_cur['secondary_diagnosis_code_icd10'].value_counts()[:9].index"
   ]
  },
  {
   "cell_type": "code",
   "execution_count": 127,
   "metadata": {
    "ExecuteTime": {
     "end_time": "2022-03-18T17:27:10.470120Z",
     "start_time": "2022-03-18T17:27:10.432942Z"
    }
   },
   "outputs": [],
   "source": [
    "ter=df_cur['tertiary_diagnosis_code_icd10'].value_counts()[:7].index"
   ]
  },
  {
   "cell_type": "code",
   "execution_count": 158,
   "metadata": {
    "ExecuteTime": {
     "end_time": "2022-03-18T19:13:36.193803Z",
     "start_time": "2022-03-18T19:13:36.188785Z"
    }
   },
   "outputs": [],
   "source": [
    "p = set()\n",
    "for index,row in df_cur[df_cur['memb_life_id'] == 166101].iterrows():\n",
    "        p.add(row['primary_diagnosis_code_icd10'])\n",
    "        p.add(row['secondary_diagnosis_code_icd10'])\n",
    "        p.add(row['tertiary_diagnosis_code_icd10'])\n",
    "    "
   ]
  },
  {
   "cell_type": "code",
   "execution_count": 159,
   "metadata": {
    "ExecuteTime": {
     "end_time": "2022-03-18T19:13:37.422438Z",
     "start_time": "2022-03-18T19:13:37.419474Z"
    }
   },
   "outputs": [
    {
     "data": {
      "text/plain": [
       "{'*', 'N183'}"
      ]
     },
     "execution_count": 159,
     "metadata": {},
     "output_type": "execute_result"
    }
   ],
   "source": [
    "p"
   ]
  },
  {
   "cell_type": "code",
   "execution_count": 160,
   "metadata": {
    "ExecuteTime": {
     "end_time": "2022-03-18T19:13:59.836935Z",
     "start_time": "2022-03-18T19:13:59.828224Z"
    }
   },
   "outputs": [
    {
     "data": {
      "text/html": [
       "<div>\n",
       "<style scoped>\n",
       "    .dataframe tbody tr th:only-of-type {\n",
       "        vertical-align: middle;\n",
       "    }\n",
       "\n",
       "    .dataframe tbody tr th {\n",
       "        vertical-align: top;\n",
       "    }\n",
       "\n",
       "    .dataframe thead th {\n",
       "        text-align: right;\n",
       "    }\n",
       "</style>\n",
       "<table border=\"1\" class=\"dataframe\">\n",
       "  <thead>\n",
       "    <tr style=\"text-align: right;\">\n",
       "      <th></th>\n",
       "      <th>memb_life_id</th>\n",
       "      <th>primary_diagnosis_code_icd10</th>\n",
       "      <th>secondary_diagnosis_code_icd10</th>\n",
       "      <th>tertiary_diagnosis_code_icd10</th>\n",
       "      <th>line_service_thru_date</th>\n",
       "    </tr>\n",
       "  </thead>\n",
       "  <tbody>\n",
       "    <tr>\n",
       "      <th>406734</th>\n",
       "      <td>166101</td>\n",
       "      <td>N183</td>\n",
       "      <td>*</td>\n",
       "      <td>*</td>\n",
       "      <td>2018-01-24</td>\n",
       "    </tr>\n",
       "  </tbody>\n",
       "</table>\n",
       "</div>"
      ],
      "text/plain": [
       "        memb_life_id primary_diagnosis_code_icd10  \\\n",
       "406734        166101                         N183   \n",
       "\n",
       "       secondary_diagnosis_code_icd10 tertiary_diagnosis_code_icd10  \\\n",
       "406734                              *                             *   \n",
       "\n",
       "       line_service_thru_date  \n",
       "406734             2018-01-24  "
      ]
     },
     "execution_count": 160,
     "metadata": {},
     "output_type": "execute_result"
    }
   ],
   "source": [
    "df_cur[df_cur['memb_life_id'] == 166101]"
   ]
  },
  {
   "cell_type": "code",
   "execution_count": 128,
   "metadata": {
    "ExecuteTime": {
     "end_time": "2022-03-18T17:27:18.811074Z",
     "start_time": "2022-03-18T17:27:18.808900Z"
    }
   },
   "outputs": [],
   "source": [
    "pri = np.append(pri,sec)"
   ]
  },
  {
   "cell_type": "code",
   "execution_count": 129,
   "metadata": {
    "ExecuteTime": {
     "end_time": "2022-03-18T17:27:19.483406Z",
     "start_time": "2022-03-18T17:27:19.481175Z"
    }
   },
   "outputs": [],
   "source": [
    "pri = np.append(pri,ter)"
   ]
  },
  {
   "cell_type": "code",
   "execution_count": 130,
   "metadata": {
    "ExecuteTime": {
     "end_time": "2022-03-18T17:27:20.194792Z",
     "start_time": "2022-03-18T17:27:20.192657Z"
    }
   },
   "outputs": [],
   "source": [
    "pri = set(pri)"
   ]
  },
  {
   "cell_type": "code",
   "execution_count": 131,
   "metadata": {
    "ExecuteTime": {
     "end_time": "2022-03-18T17:27:20.803166Z",
     "start_time": "2022-03-18T17:27:20.800335Z"
    }
   },
   "outputs": [
    {
     "data": {
      "text/plain": [
       "16"
      ]
     },
     "execution_count": 131,
     "metadata": {},
     "output_type": "execute_result"
    }
   ],
   "source": [
    "len(pri)"
   ]
  },
  {
   "cell_type": "code",
   "execution_count": 107,
   "metadata": {
    "ExecuteTime": {
     "end_time": "2022-03-18T17:25:41.477038Z",
     "start_time": "2022-03-18T17:25:41.438835Z"
    }
   },
   "outputs": [
    {
     "data": {
      "text/plain": [
       "Index(['N186', 'N183', 'N184', 'N189', 'N185', 'N182', 'N181'], dtype='object')"
      ]
     },
     "execution_count": 107,
     "metadata": {},
     "output_type": "execute_result"
    }
   ],
   "source": [
    "df_cur['primary_diagnosis_code_icd10'].value_counts()[:10].index"
   ]
  },
  {
   "cell_type": "code",
   "execution_count": 135,
   "metadata": {
    "ExecuteTime": {
     "end_time": "2022-03-18T17:29:04.455853Z",
     "start_time": "2022-03-18T17:29:04.452461Z"
    }
   },
   "outputs": [
    {
     "name": "stdout",
     "output_type": "stream",
     "text": [
      "N181\n",
      "N182\n",
      "I10\n",
      "N185\n",
      "N183\n",
      "D509\n",
      "N184\n",
      "L299\n",
      "E7143\n",
      "N2581\n",
      "E611\n",
      "N186\n",
      "D631\n",
      "Z992\n",
      "*\n",
      "N189\n"
     ]
    }
   ],
   "source": [
    "pri = list(pri)\n",
    "for i in range(len(pri)):\n",
    "    print(pri[i])"
   ]
  },
  {
   "cell_type": "code",
   "execution_count": 172,
   "metadata": {
    "ExecuteTime": {
     "end_time": "2022-03-18T19:28:28.934416Z",
     "start_time": "2022-03-18T19:28:28.931057Z"
    }
   },
   "outputs": [
    {
     "data": {
      "text/plain": [
       "['N181',\n",
       " 'N182',\n",
       " 'I10',\n",
       " 'N185',\n",
       " 'N183',\n",
       " 'D509',\n",
       " 'N184',\n",
       " 'L299',\n",
       " 'E7143',\n",
       " 'N2581',\n",
       " 'E611',\n",
       " 'N186',\n",
       " 'D631',\n",
       " 'Z992',\n",
       " 'NA',\n",
       " 'N189']"
      ]
     },
     "execution_count": 172,
     "metadata": {},
     "output_type": "execute_result"
    }
   ],
   "source": [
    "pri"
   ]
  },
  {
   "cell_type": "code",
   "execution_count": 223,
   "metadata": {
    "ExecuteTime": {
     "end_time": "2022-03-18T20:14:25.306101Z",
     "start_time": "2022-03-18T20:13:43.302425Z"
    }
   },
   "outputs": [],
   "source": [
    "\n",
    "for i in df_cur['memb_life_id'].unique():\n",
    "    mid = set()\n",
    "    d = []\n",
    "    p = set()\n",
    "    drow = []\n",
    "    r_row = []\n",
    "    cons = []\n",
    "    for index,row in df_cur[df_cur['memb_life_id'] == i].iterrows():\n",
    "        p.add(row['primary_diagnosis_code_icd10'])\n",
    "        p.add(row['secondary_diagnosis_code_icd10'])\n",
    "        p.add(row['tertiary_diagnosis_code_icd10'])\n",
    "        d.append(row['line_service_thru_date'])\n",
    "        mid.add(row['memb_life_id'])\n",
    "    duration = max(d) - min(d)\n",
    "    mid = list(mid)\n",
    "    drow.append(mid)\n",
    "    drow.append(duration)\n",
    "    p = list(p)\n",
    "    drow.append(p)\n",
    "    r_row.append(drow[0][0])\n",
    "    r_row.append(drow[1])\n",
    "    for pp in range(len(pri)):\n",
    "        val = pri[pp] in p\n",
    "        r_row.append(val)\n",
    "        "
   ]
  },
  {
   "cell_type": "code",
   "execution_count": 217,
   "metadata": {
    "ExecuteTime": {
     "end_time": "2022-03-18T20:10:03.599073Z",
     "start_time": "2022-03-18T20:10:03.596077Z"
    }
   },
   "outputs": [
    {
     "data": {
      "text/plain": [
       "True"
      ]
     },
     "execution_count": 217,
     "metadata": {},
     "output_type": "execute_result"
    }
   ],
   "source": [
    "p = list(p)\n",
    "p[1] in pri"
   ]
  },
  {
   "cell_type": "code",
   "execution_count": 227,
   "metadata": {
    "ExecuteTime": {
     "end_time": "2022-03-18T20:16:17.667311Z",
     "start_time": "2022-03-18T20:16:17.665060Z"
    }
   },
   "outputs": [],
   "source": [
    "import datetime"
   ]
  },
  {
   "cell_type": "code",
   "execution_count": 228,
   "metadata": {
    "ExecuteTime": {
     "end_time": "2022-03-18T20:16:46.156700Z",
     "start_time": "2022-03-18T20:16:46.153140Z"
    }
   },
   "outputs": [
    {
     "data": {
      "text/plain": [
       "True"
      ]
     },
     "execution_count": 228,
     "metadata": {},
     "output_type": "execute_result"
    }
   ],
   "source": [
    "r_row[1] == datetime.timedelta(days=0)"
   ]
  },
  {
   "cell_type": "code",
   "execution_count": 143,
   "metadata": {
    "ExecuteTime": {
     "end_time": "2022-03-18T18:54:01.445807Z",
     "start_time": "2022-03-18T18:54:01.389887Z"
    }
   },
   "outputs": [
    {
     "name": "stderr",
     "output_type": "stream",
     "text": [
      "/home/ubuntu/anaconda3/lib/python3.6/site-packages/ipykernel_launcher.py:1: SettingWithCopyWarning: \n",
      "A value is trying to be set on a copy of a slice from a DataFrame.\n",
      "Try using .loc[row_indexer,col_indexer] = value instead\n",
      "\n",
      "See the caveats in the documentation: https://pandas.pydata.org/pandas-docs/stable/user_guide/indexing.html#returning-a-view-versus-a-copy\n",
      "  \"\"\"Entry point for launching an IPython kernel.\n"
     ]
    }
   ],
   "source": [
    "df_cur['line_service_thru_date'] = pd.to_datetime(df_cur['line_service_thru_date'])"
   ]
  },
  {
   "cell_type": "code",
   "execution_count": 183,
   "metadata": {
    "ExecuteTime": {
     "end_time": "2022-03-18T19:43:26.488927Z",
     "start_time": "2022-03-18T19:43:26.486635Z"
    }
   },
   "outputs": [],
   "source": [
    "cols_= ['primary_diagnosis_code_icd10','secondary_diagnosis_code_icd10','tertiary_diagnosis_code_icd10']"
   ]
  },
  {
   "cell_type": "code",
   "execution_count": 229,
   "metadata": {
    "ExecuteTime": {
     "end_time": "2022-03-18T20:20:19.665412Z",
     "start_time": "2022-03-18T20:20:19.662100Z"
    }
   },
   "outputs": [
    {
     "data": {
      "text/plain": [
       "['N181',\n",
       " 'N182',\n",
       " 'I10',\n",
       " 'N185',\n",
       " 'N183',\n",
       " 'D509',\n",
       " 'N184',\n",
       " 'L299',\n",
       " 'E7143',\n",
       " 'N2581',\n",
       " 'E611',\n",
       " 'N186',\n",
       " 'D631',\n",
       " 'Z992',\n",
       " 'NA',\n",
       " 'N189']"
      ]
     },
     "execution_count": 229,
     "metadata": {},
     "output_type": "execute_result"
    }
   ],
   "source": [
    "pri"
   ]
  },
  {
   "cell_type": "code",
   "execution_count": 230,
   "metadata": {
    "ExecuteTime": {
     "end_time": "2022-03-18T20:22:49.283232Z",
     "start_time": "2022-03-18T20:22:49.279827Z"
    }
   },
   "outputs": [
    {
     "data": {
      "text/plain": [
       "[166101,\n",
       " Timedelta('0 days 00:00:00'),\n",
       " False,\n",
       " False,\n",
       " False,\n",
       " False,\n",
       " True,\n",
       " False,\n",
       " False,\n",
       " False,\n",
       " False,\n",
       " False,\n",
       " False,\n",
       " False,\n",
       " False,\n",
       " False,\n",
       " False,\n",
       " False]"
      ]
     },
     "execution_count": 230,
     "metadata": {},
     "output_type": "execute_result"
    }
   ],
   "source": [
    "r_row"
   ]
  },
  {
   "cell_type": "code",
   "execution_count": 231,
   "metadata": {
    "ExecuteTime": {
     "end_time": "2022-03-18T20:32:08.291830Z",
     "start_time": "2022-03-18T20:32:08.289464Z"
    }
   },
   "outputs": [],
   "source": [
    "df_cols = ['member_id','duration']"
   ]
  },
  {
   "cell_type": "code",
   "execution_count": 232,
   "metadata": {
    "ExecuteTime": {
     "end_time": "2022-03-18T20:32:41.309256Z",
     "start_time": "2022-03-18T20:32:41.306787Z"
    }
   },
   "outputs": [],
   "source": [
    "for ppp in range(len(pri)):\n",
    "    df_cols.append(pri[ppp])"
   ]
  },
  {
   "cell_type": "code",
   "execution_count": 233,
   "metadata": {
    "ExecuteTime": {
     "end_time": "2022-03-18T20:32:45.909633Z",
     "start_time": "2022-03-18T20:32:45.906416Z"
    }
   },
   "outputs": [
    {
     "data": {
      "text/plain": [
       "['member_id',\n",
       " 'duration',\n",
       " 'N181',\n",
       " 'N182',\n",
       " 'I10',\n",
       " 'N185',\n",
       " 'N183',\n",
       " 'D509',\n",
       " 'N184',\n",
       " 'L299',\n",
       " 'E7143',\n",
       " 'N2581',\n",
       " 'E611',\n",
       " 'N186',\n",
       " 'D631',\n",
       " 'Z992',\n",
       " 'NA',\n",
       " 'N189']"
      ]
     },
     "execution_count": 233,
     "metadata": {},
     "output_type": "execute_result"
    }
   ],
   "source": [
    "df_cols"
   ]
  },
  {
   "cell_type": "code",
   "execution_count": 234,
   "metadata": {
    "ExecuteTime": {
     "end_time": "2022-03-18T20:34:13.727925Z",
     "start_time": "2022-03-18T20:34:13.701646Z"
    }
   },
   "outputs": [],
   "source": [
    "df_cur = df_cur.replace('*','NA')"
   ]
  },
  {
   "cell_type": "code",
   "execution_count": 239,
   "metadata": {
    "ExecuteTime": {
     "end_time": "2022-03-18T20:35:21.900578Z",
     "start_time": "2022-03-18T20:35:21.892987Z"
    }
   },
   "outputs": [
    {
     "data": {
      "text/html": [
       "<div>\n",
       "<style scoped>\n",
       "    .dataframe tbody tr th:only-of-type {\n",
       "        vertical-align: middle;\n",
       "    }\n",
       "\n",
       "    .dataframe tbody tr th {\n",
       "        vertical-align: top;\n",
       "    }\n",
       "\n",
       "    .dataframe thead th {\n",
       "        text-align: right;\n",
       "    }\n",
       "</style>\n",
       "<table border=\"1\" class=\"dataframe\">\n",
       "  <thead>\n",
       "    <tr style=\"text-align: right;\">\n",
       "      <th></th>\n",
       "      <th>memb_life_id</th>\n",
       "      <th>primary_diagnosis_code_icd10</th>\n",
       "      <th>secondary_diagnosis_code_icd10</th>\n",
       "      <th>tertiary_diagnosis_code_icd10</th>\n",
       "      <th>line_service_thru_date</th>\n",
       "    </tr>\n",
       "  </thead>\n",
       "  <tbody>\n",
       "  </tbody>\n",
       "</table>\n",
       "</div>"
      ],
      "text/plain": [
       "Empty DataFrame\n",
       "Columns: [memb_life_id, primary_diagnosis_code_icd10, secondary_diagnosis_code_icd10, tertiary_diagnosis_code_icd10, line_service_thru_date]\n",
       "Index: []"
      ]
     },
     "execution_count": 239,
     "metadata": {},
     "output_type": "execute_result"
    }
   ],
   "source": [
    "df_cur[df_cur['line_service_thru_date']=='*']"
   ]
  },
  {
   "cell_type": "code",
   "execution_count": 240,
   "metadata": {
    "ExecuteTime": {
     "end_time": "2022-03-18T20:42:34.491270Z",
     "start_time": "2022-03-18T20:42:34.484905Z"
    }
   },
   "outputs": [],
   "source": [
    "df_main = pd.DataFrame(columns = df_cols)"
   ]
  },
  {
   "cell_type": "code",
   "execution_count": 241,
   "metadata": {
    "ExecuteTime": {
     "end_time": "2022-03-18T20:44:16.003705Z",
     "start_time": "2022-03-18T20:43:18.781836Z"
    }
   },
   "outputs": [],
   "source": [
    "for i in df_cur['memb_life_id'].unique():\n",
    "    mid = set()\n",
    "    d = []\n",
    "    p = set()\n",
    "    drow = []\n",
    "    r_row = []\n",
    "    cons = []\n",
    "    for index,row in df_cur[df_cur['memb_life_id'] == i].iterrows():\n",
    "        p.add(row['primary_diagnosis_code_icd10'])\n",
    "        p.add(row['secondary_diagnosis_code_icd10'])\n",
    "        p.add(row['tertiary_diagnosis_code_icd10'])\n",
    "        d.append(row['line_service_thru_date'])\n",
    "        mid.add(row['memb_life_id'])\n",
    "    duration = max(d) - min(d)\n",
    "    mid = list(mid)\n",
    "    drow.append(mid)\n",
    "    drow.append(duration)\n",
    "    p = list(p)\n",
    "    drow.append(p)\n",
    "    r_row.append(drow[0][0])\n",
    "    r_row.append(drow[1])\n",
    "    for pp in range(len(pri)):\n",
    "        val = pri[pp] in p\n",
    "        r_row.append(val)\n",
    "    df_main.loc[i] = r_row"
   ]
  },
  {
   "cell_type": "code",
   "execution_count": 279,
   "metadata": {
    "ExecuteTime": {
     "end_time": "2022-03-18T21:10:31.176115Z",
     "start_time": "2022-03-18T21:10:31.171102Z"
    }
   },
   "outputs": [
    {
     "data": {
      "text/plain": [
       "Int64Index([  356497,   739976,   645607,   267245,  1816004,   709325,\n",
       "              817062,   211592, 24046190,   732335,\n",
       "            ...\n",
       "              589689,   835068,  1925390, 25557525,    60128, 23519561,\n",
       "            24318571,   780215,    55632,   166101],\n",
       "           dtype='int64', length=772)"
      ]
     },
     "execution_count": 279,
     "metadata": {},
     "output_type": "execute_result"
    }
   ],
   "source": [
    "df_main_copy[df_main_copy['duration'] == zer].index"
   ]
  },
  {
   "cell_type": "code",
   "execution_count": 257,
   "metadata": {
    "ExecuteTime": {
     "end_time": "2022-03-18T20:58:35.064620Z",
     "start_time": "2022-03-18T20:58:35.062049Z"
    }
   },
   "outputs": [],
   "source": [
    "zer = datetime.timedelta(days=0, hours=0,minutes=0, seconds=0)"
   ]
  },
  {
   "cell_type": "code",
   "execution_count": 274,
   "metadata": {
    "ExecuteTime": {
     "end_time": "2022-03-18T21:04:43.482370Z",
     "start_time": "2022-03-18T21:04:43.469273Z"
    }
   },
   "outputs": [
    {
     "data": {
      "text/html": [
       "<div>\n",
       "<style scoped>\n",
       "    .dataframe tbody tr th:only-of-type {\n",
       "        vertical-align: middle;\n",
       "    }\n",
       "\n",
       "    .dataframe tbody tr th {\n",
       "        vertical-align: top;\n",
       "    }\n",
       "\n",
       "    .dataframe thead th {\n",
       "        text-align: right;\n",
       "    }\n",
       "</style>\n",
       "<table border=\"1\" class=\"dataframe\">\n",
       "  <thead>\n",
       "    <tr style=\"text-align: right;\">\n",
       "      <th></th>\n",
       "      <th>discharge_status</th>\n",
       "      <th>receipt_date</th>\n",
       "      <th>paid_date</th>\n",
       "      <th>line_service_from_date</th>\n",
       "      <th>line_service_thru_date</th>\n",
       "      <th>header_service_from_date</th>\n",
       "      <th>header_service_thru_date</th>\n",
       "      <th>admission_date</th>\n",
       "      <th>discharge_date</th>\n",
       "      <th>number_of_submitted_inpatient_days</th>\n",
       "    </tr>\n",
       "  </thead>\n",
       "  <tbody>\n",
       "    <tr>\n",
       "      <th>217</th>\n",
       "      <td>NaN</td>\n",
       "      <td>2018-03-08</td>\n",
       "      <td>2018-03-13</td>\n",
       "      <td>2018-02-16</td>\n",
       "      <td>2018-02-16</td>\n",
       "      <td>2018-02-16</td>\n",
       "      <td>2018-02-16</td>\n",
       "      <td>9999-12-31</td>\n",
       "      <td>NaN</td>\n",
       "      <td>0</td>\n",
       "    </tr>\n",
       "    <tr>\n",
       "      <th>387216</th>\n",
       "      <td>NaN</td>\n",
       "      <td>2018-03-08</td>\n",
       "      <td>2018-03-13</td>\n",
       "      <td>2018-02-16</td>\n",
       "      <td>2018-02-16</td>\n",
       "      <td>2018-02-16</td>\n",
       "      <td>2018-02-16</td>\n",
       "      <td>9999-12-31</td>\n",
       "      <td>NaN</td>\n",
       "      <td>0</td>\n",
       "    </tr>\n",
       "    <tr>\n",
       "      <th>387217</th>\n",
       "      <td>NaN</td>\n",
       "      <td>2018-03-08</td>\n",
       "      <td>2018-03-13</td>\n",
       "      <td>2018-02-16</td>\n",
       "      <td>2018-02-16</td>\n",
       "      <td>2018-02-16</td>\n",
       "      <td>2018-02-16</td>\n",
       "      <td>9999-12-31</td>\n",
       "      <td>NaN</td>\n",
       "      <td>0</td>\n",
       "    </tr>\n",
       "  </tbody>\n",
       "</table>\n",
       "</div>"
      ],
      "text/plain": [
       "        discharge_status receipt_date   paid_date line_service_from_date  \\\n",
       "217                  NaN   2018-03-08  2018-03-13             2018-02-16   \n",
       "387216               NaN   2018-03-08  2018-03-13             2018-02-16   \n",
       "387217               NaN   2018-03-08  2018-03-13             2018-02-16   \n",
       "\n",
       "       line_service_thru_date header_service_from_date  \\\n",
       "217                2018-02-16               2018-02-16   \n",
       "387216             2018-02-16               2018-02-16   \n",
       "387217             2018-02-16               2018-02-16   \n",
       "\n",
       "       header_service_thru_date admission_date discharge_date  \\\n",
       "217                  2018-02-16     9999-12-31            NaN   \n",
       "387216               2018-02-16     9999-12-31            NaN   \n",
       "387217               2018-02-16     9999-12-31            NaN   \n",
       "\n",
       "        number_of_submitted_inpatient_days  \n",
       "217                                      0  \n",
       "387216                                   0  \n",
       "387217                                   0  "
      ]
     },
     "execution_count": 274,
     "metadata": {},
     "output_type": "execute_result"
    }
   ],
   "source": [
    "df[df['memb_life_id'] == 739976].iloc[:,61:71]"
   ]
  },
  {
   "cell_type": "code",
   "execution_count": 275,
   "metadata": {
    "ExecuteTime": {
     "end_time": "2022-03-18T21:09:25.764488Z",
     "start_time": "2022-03-18T21:09:25.761747Z"
    }
   },
   "outputs": [],
   "source": [
    "df_main_copy = df_main.copy(deep=True)"
   ]
  },
  {
   "cell_type": "code",
   "execution_count": 277,
   "metadata": {
    "ExecuteTime": {
     "end_time": "2022-03-18T21:10:14.687874Z",
     "start_time": "2022-03-18T21:10:14.683019Z"
    }
   },
   "outputs": [],
   "source": [
    "df_main = df_main.drop(df_main[df_main['duration'] == zer].index)"
   ]
  },
  {
   "cell_type": "code",
   "execution_count": 297,
   "metadata": {
    "ExecuteTime": {
     "end_time": "2022-03-18T21:19:59.989068Z",
     "start_time": "2022-03-18T21:19:59.964887Z"
    }
   },
   "outputs": [
    {
     "data": {
      "text/html": [
       "<div>\n",
       "<style scoped>\n",
       "    .dataframe tbody tr th:only-of-type {\n",
       "        vertical-align: middle;\n",
       "    }\n",
       "\n",
       "    .dataframe tbody tr th {\n",
       "        vertical-align: top;\n",
       "    }\n",
       "\n",
       "    .dataframe thead th {\n",
       "        text-align: right;\n",
       "    }\n",
       "</style>\n",
       "<table border=\"1\" class=\"dataframe\">\n",
       "  <thead>\n",
       "    <tr style=\"text-align: right;\">\n",
       "      <th></th>\n",
       "      <th>member_id</th>\n",
       "      <th>duration</th>\n",
       "      <th>N181</th>\n",
       "      <th>N182</th>\n",
       "      <th>I10</th>\n",
       "      <th>N185</th>\n",
       "      <th>N183</th>\n",
       "      <th>D509</th>\n",
       "      <th>N184</th>\n",
       "      <th>L299</th>\n",
       "      <th>E7143</th>\n",
       "      <th>N2581</th>\n",
       "      <th>E611</th>\n",
       "      <th>N186</th>\n",
       "      <th>D631</th>\n",
       "      <th>Z992</th>\n",
       "      <th>NA</th>\n",
       "      <th>N189</th>\n",
       "    </tr>\n",
       "  </thead>\n",
       "  <tbody>\n",
       "    <tr>\n",
       "      <th>143962</th>\n",
       "      <td>143962</td>\n",
       "      <td>606 days</td>\n",
       "      <td>True</td>\n",
       "      <td>False</td>\n",
       "      <td>True</td>\n",
       "      <td>False</td>\n",
       "      <td>False</td>\n",
       "      <td>True</td>\n",
       "      <td>True</td>\n",
       "      <td>False</td>\n",
       "      <td>False</td>\n",
       "      <td>True</td>\n",
       "      <td>False</td>\n",
       "      <td>True</td>\n",
       "      <td>True</td>\n",
       "      <td>True</td>\n",
       "      <td>True</td>\n",
       "      <td>True</td>\n",
       "    </tr>\n",
       "    <tr>\n",
       "      <th>1882108</th>\n",
       "      <td>1882108</td>\n",
       "      <td>102 days</td>\n",
       "      <td>False</td>\n",
       "      <td>False</td>\n",
       "      <td>False</td>\n",
       "      <td>False</td>\n",
       "      <td>False</td>\n",
       "      <td>True</td>\n",
       "      <td>False</td>\n",
       "      <td>False</td>\n",
       "      <td>False</td>\n",
       "      <td>False</td>\n",
       "      <td>False</td>\n",
       "      <td>True</td>\n",
       "      <td>True</td>\n",
       "      <td>True</td>\n",
       "      <td>True</td>\n",
       "      <td>False</td>\n",
       "    </tr>\n",
       "    <tr>\n",
       "      <th>6950281</th>\n",
       "      <td>6950281</td>\n",
       "      <td>728 days</td>\n",
       "      <td>False</td>\n",
       "      <td>False</td>\n",
       "      <td>True</td>\n",
       "      <td>False</td>\n",
       "      <td>False</td>\n",
       "      <td>True</td>\n",
       "      <td>False</td>\n",
       "      <td>False</td>\n",
       "      <td>False</td>\n",
       "      <td>True</td>\n",
       "      <td>False</td>\n",
       "      <td>True</td>\n",
       "      <td>True</td>\n",
       "      <td>True</td>\n",
       "      <td>True</td>\n",
       "      <td>False</td>\n",
       "    </tr>\n",
       "    <tr>\n",
       "      <th>277792</th>\n",
       "      <td>277792</td>\n",
       "      <td>727 days</td>\n",
       "      <td>False</td>\n",
       "      <td>False</td>\n",
       "      <td>True</td>\n",
       "      <td>False</td>\n",
       "      <td>False</td>\n",
       "      <td>True</td>\n",
       "      <td>False</td>\n",
       "      <td>False</td>\n",
       "      <td>False</td>\n",
       "      <td>True</td>\n",
       "      <td>True</td>\n",
       "      <td>True</td>\n",
       "      <td>True</td>\n",
       "      <td>True</td>\n",
       "      <td>True</td>\n",
       "      <td>True</td>\n",
       "    </tr>\n",
       "    <tr>\n",
       "      <th>214197</th>\n",
       "      <td>214197</td>\n",
       "      <td>719 days</td>\n",
       "      <td>False</td>\n",
       "      <td>False</td>\n",
       "      <td>True</td>\n",
       "      <td>True</td>\n",
       "      <td>True</td>\n",
       "      <td>True</td>\n",
       "      <td>True</td>\n",
       "      <td>False</td>\n",
       "      <td>False</td>\n",
       "      <td>True</td>\n",
       "      <td>False</td>\n",
       "      <td>True</td>\n",
       "      <td>True</td>\n",
       "      <td>True</td>\n",
       "      <td>True</td>\n",
       "      <td>False</td>\n",
       "    </tr>\n",
       "    <tr>\n",
       "      <th>...</th>\n",
       "      <td>...</td>\n",
       "      <td>...</td>\n",
       "      <td>...</td>\n",
       "      <td>...</td>\n",
       "      <td>...</td>\n",
       "      <td>...</td>\n",
       "      <td>...</td>\n",
       "      <td>...</td>\n",
       "      <td>...</td>\n",
       "      <td>...</td>\n",
       "      <td>...</td>\n",
       "      <td>...</td>\n",
       "      <td>...</td>\n",
       "      <td>...</td>\n",
       "      <td>...</td>\n",
       "      <td>...</td>\n",
       "      <td>...</td>\n",
       "      <td>...</td>\n",
       "    </tr>\n",
       "    <tr>\n",
       "      <th>270104</th>\n",
       "      <td>270104</td>\n",
       "      <td>218 days</td>\n",
       "      <td>False</td>\n",
       "      <td>False</td>\n",
       "      <td>False</td>\n",
       "      <td>False</td>\n",
       "      <td>True</td>\n",
       "      <td>False</td>\n",
       "      <td>True</td>\n",
       "      <td>False</td>\n",
       "      <td>False</td>\n",
       "      <td>False</td>\n",
       "      <td>False</td>\n",
       "      <td>True</td>\n",
       "      <td>True</td>\n",
       "      <td>True</td>\n",
       "      <td>True</td>\n",
       "      <td>True</td>\n",
       "    </tr>\n",
       "    <tr>\n",
       "      <th>167929</th>\n",
       "      <td>167929</td>\n",
       "      <td>515 days</td>\n",
       "      <td>False</td>\n",
       "      <td>False</td>\n",
       "      <td>False</td>\n",
       "      <td>False</td>\n",
       "      <td>True</td>\n",
       "      <td>False</td>\n",
       "      <td>False</td>\n",
       "      <td>False</td>\n",
       "      <td>False</td>\n",
       "      <td>False</td>\n",
       "      <td>False</td>\n",
       "      <td>True</td>\n",
       "      <td>True</td>\n",
       "      <td>True</td>\n",
       "      <td>True</td>\n",
       "      <td>False</td>\n",
       "    </tr>\n",
       "    <tr>\n",
       "      <th>183256</th>\n",
       "      <td>183256</td>\n",
       "      <td>643 days</td>\n",
       "      <td>False</td>\n",
       "      <td>False</td>\n",
       "      <td>False</td>\n",
       "      <td>False</td>\n",
       "      <td>True</td>\n",
       "      <td>False</td>\n",
       "      <td>True</td>\n",
       "      <td>False</td>\n",
       "      <td>False</td>\n",
       "      <td>False</td>\n",
       "      <td>False</td>\n",
       "      <td>False</td>\n",
       "      <td>False</td>\n",
       "      <td>True</td>\n",
       "      <td>True</td>\n",
       "      <td>False</td>\n",
       "    </tr>\n",
       "    <tr>\n",
       "      <th>713034</th>\n",
       "      <td>713034</td>\n",
       "      <td>27 days</td>\n",
       "      <td>False</td>\n",
       "      <td>False</td>\n",
       "      <td>False</td>\n",
       "      <td>False</td>\n",
       "      <td>False</td>\n",
       "      <td>False</td>\n",
       "      <td>False</td>\n",
       "      <td>False</td>\n",
       "      <td>False</td>\n",
       "      <td>False</td>\n",
       "      <td>False</td>\n",
       "      <td>True</td>\n",
       "      <td>True</td>\n",
       "      <td>True</td>\n",
       "      <td>False</td>\n",
       "      <td>False</td>\n",
       "    </tr>\n",
       "    <tr>\n",
       "      <th>845998</th>\n",
       "      <td>845998</td>\n",
       "      <td>29 days</td>\n",
       "      <td>False</td>\n",
       "      <td>False</td>\n",
       "      <td>False</td>\n",
       "      <td>False</td>\n",
       "      <td>False</td>\n",
       "      <td>False</td>\n",
       "      <td>False</td>\n",
       "      <td>False</td>\n",
       "      <td>False</td>\n",
       "      <td>True</td>\n",
       "      <td>False</td>\n",
       "      <td>True</td>\n",
       "      <td>False</td>\n",
       "      <td>True</td>\n",
       "      <td>True</td>\n",
       "      <td>False</td>\n",
       "    </tr>\n",
       "  </tbody>\n",
       "</table>\n",
       "<p>271 rows × 18 columns</p>\n",
       "</div>"
      ],
      "text/plain": [
       "        member_id duration   N181   N182    I10   N185   N183   D509   N184  \\\n",
       "143962     143962 606 days   True  False   True  False  False   True   True   \n",
       "1882108   1882108 102 days  False  False  False  False  False   True  False   \n",
       "6950281   6950281 728 days  False  False   True  False  False   True  False   \n",
       "277792     277792 727 days  False  False   True  False  False   True  False   \n",
       "214197     214197 719 days  False  False   True   True   True   True   True   \n",
       "...           ...      ...    ...    ...    ...    ...    ...    ...    ...   \n",
       "270104     270104 218 days  False  False  False  False   True  False   True   \n",
       "167929     167929 515 days  False  False  False  False   True  False  False   \n",
       "183256     183256 643 days  False  False  False  False   True  False   True   \n",
       "713034     713034  27 days  False  False  False  False  False  False  False   \n",
       "845998     845998  29 days  False  False  False  False  False  False  False   \n",
       "\n",
       "          L299  E7143  N2581   E611   N186   D631  Z992     NA   N189  \n",
       "143962   False  False   True  False   True   True  True   True   True  \n",
       "1882108  False  False  False  False   True   True  True   True  False  \n",
       "6950281  False  False   True  False   True   True  True   True  False  \n",
       "277792   False  False   True   True   True   True  True   True   True  \n",
       "214197   False  False   True  False   True   True  True   True  False  \n",
       "...        ...    ...    ...    ...    ...    ...   ...    ...    ...  \n",
       "270104   False  False  False  False   True   True  True   True   True  \n",
       "167929   False  False  False  False   True   True  True   True  False  \n",
       "183256   False  False  False  False  False  False  True   True  False  \n",
       "713034   False  False  False  False   True   True  True  False  False  \n",
       "845998   False  False   True  False   True  False  True   True  False  \n",
       "\n",
       "[271 rows x 18 columns]"
      ]
     },
     "execution_count": 297,
     "metadata": {},
     "output_type": "execute_result"
    }
   ],
   "source": [
    "df_main[df_main['Z992'] == True]"
   ]
  },
  {
   "cell_type": "code",
   "execution_count": 290,
   "metadata": {
    "ExecuteTime": {
     "end_time": "2022-03-18T21:13:19.921203Z",
     "start_time": "2022-03-18T21:13:19.918079Z"
    }
   },
   "outputs": [
    {
     "data": {
      "text/plain": [
       "(1771, 18)"
      ]
     },
     "execution_count": 290,
     "metadata": {},
     "output_type": "execute_result"
    }
   ],
   "source": [
    "df_main.shape"
   ]
  },
  {
   "cell_type": "code",
   "execution_count": 366,
   "metadata": {
    "ExecuteTime": {
     "end_time": "2022-03-18T22:25:42.379843Z",
     "start_time": "2022-03-18T22:25:42.362630Z"
    }
   },
   "outputs": [
    {
     "data": {
      "text/html": [
       "<div>\n",
       "<style scoped>\n",
       "    .dataframe tbody tr th:only-of-type {\n",
       "        vertical-align: middle;\n",
       "    }\n",
       "\n",
       "    .dataframe tbody tr th {\n",
       "        vertical-align: top;\n",
       "    }\n",
       "\n",
       "    .dataframe thead th {\n",
       "        text-align: right;\n",
       "    }\n",
       "</style>\n",
       "<table border=\"1\" class=\"dataframe\">\n",
       "  <thead>\n",
       "    <tr style=\"text-align: right;\">\n",
       "      <th></th>\n",
       "      <th>member_id</th>\n",
       "      <th>duration</th>\n",
       "      <th>N181</th>\n",
       "      <th>N182</th>\n",
       "      <th>I10</th>\n",
       "      <th>N185</th>\n",
       "      <th>N183</th>\n",
       "      <th>D509</th>\n",
       "      <th>N184</th>\n",
       "      <th>L299</th>\n",
       "      <th>E7143</th>\n",
       "      <th>N2581</th>\n",
       "      <th>E611</th>\n",
       "      <th>N186</th>\n",
       "      <th>D631</th>\n",
       "      <th>Z992</th>\n",
       "      <th>NA</th>\n",
       "      <th>N189</th>\n",
       "      <th>outcome</th>\n",
       "    </tr>\n",
       "  </thead>\n",
       "  <tbody>\n",
       "    <tr>\n",
       "      <th>260993</th>\n",
       "      <td>260993</td>\n",
       "      <td>157 days</td>\n",
       "      <td>False</td>\n",
       "      <td>False</td>\n",
       "      <td>False</td>\n",
       "      <td>False</td>\n",
       "      <td>True</td>\n",
       "      <td>False</td>\n",
       "      <td>True</td>\n",
       "      <td>False</td>\n",
       "      <td>False</td>\n",
       "      <td>False</td>\n",
       "      <td>False</td>\n",
       "      <td>False</td>\n",
       "      <td>True</td>\n",
       "      <td>False</td>\n",
       "      <td>False</td>\n",
       "      <td>True</td>\n",
       "      <td>0</td>\n",
       "    </tr>\n",
       "    <tr>\n",
       "      <th>143962</th>\n",
       "      <td>143962</td>\n",
       "      <td>606 days</td>\n",
       "      <td>True</td>\n",
       "      <td>False</td>\n",
       "      <td>True</td>\n",
       "      <td>False</td>\n",
       "      <td>False</td>\n",
       "      <td>True</td>\n",
       "      <td>True</td>\n",
       "      <td>False</td>\n",
       "      <td>False</td>\n",
       "      <td>True</td>\n",
       "      <td>False</td>\n",
       "      <td>True</td>\n",
       "      <td>True</td>\n",
       "      <td>True</td>\n",
       "      <td>True</td>\n",
       "      <td>True</td>\n",
       "      <td>1</td>\n",
       "    </tr>\n",
       "    <tr>\n",
       "      <th>163477</th>\n",
       "      <td>163477</td>\n",
       "      <td>506 days</td>\n",
       "      <td>False</td>\n",
       "      <td>False</td>\n",
       "      <td>False</td>\n",
       "      <td>False</td>\n",
       "      <td>True</td>\n",
       "      <td>False</td>\n",
       "      <td>True</td>\n",
       "      <td>False</td>\n",
       "      <td>False</td>\n",
       "      <td>False</td>\n",
       "      <td>False</td>\n",
       "      <td>True</td>\n",
       "      <td>True</td>\n",
       "      <td>False</td>\n",
       "      <td>True</td>\n",
       "      <td>False</td>\n",
       "      <td>1</td>\n",
       "    </tr>\n",
       "    <tr>\n",
       "      <th>211531</th>\n",
       "      <td>211531</td>\n",
       "      <td>2 days</td>\n",
       "      <td>False</td>\n",
       "      <td>True</td>\n",
       "      <td>False</td>\n",
       "      <td>False</td>\n",
       "      <td>False</td>\n",
       "      <td>False</td>\n",
       "      <td>False</td>\n",
       "      <td>False</td>\n",
       "      <td>False</td>\n",
       "      <td>False</td>\n",
       "      <td>False</td>\n",
       "      <td>False</td>\n",
       "      <td>False</td>\n",
       "      <td>False</td>\n",
       "      <td>False</td>\n",
       "      <td>False</td>\n",
       "      <td>0</td>\n",
       "    </tr>\n",
       "    <tr>\n",
       "      <th>1882108</th>\n",
       "      <td>1882108</td>\n",
       "      <td>102 days</td>\n",
       "      <td>False</td>\n",
       "      <td>False</td>\n",
       "      <td>False</td>\n",
       "      <td>False</td>\n",
       "      <td>False</td>\n",
       "      <td>True</td>\n",
       "      <td>False</td>\n",
       "      <td>False</td>\n",
       "      <td>False</td>\n",
       "      <td>False</td>\n",
       "      <td>False</td>\n",
       "      <td>True</td>\n",
       "      <td>True</td>\n",
       "      <td>True</td>\n",
       "      <td>True</td>\n",
       "      <td>False</td>\n",
       "      <td>1</td>\n",
       "    </tr>\n",
       "  </tbody>\n",
       "</table>\n",
       "</div>"
      ],
      "text/plain": [
       "        member_id duration   N181   N182    I10   N185   N183   D509   N184  \\\n",
       "260993     260993 157 days  False  False  False  False   True  False   True   \n",
       "143962     143962 606 days   True  False   True  False  False   True   True   \n",
       "163477     163477 506 days  False  False  False  False   True  False   True   \n",
       "211531     211531   2 days  False   True  False  False  False  False  False   \n",
       "1882108   1882108 102 days  False  False  False  False  False   True  False   \n",
       "\n",
       "          L299  E7143  N2581   E611   N186   D631   Z992     NA   N189 outcome  \n",
       "260993   False  False  False  False  False   True  False  False   True       0  \n",
       "143962   False  False   True  False   True   True   True   True   True       1  \n",
       "163477   False  False  False  False   True   True  False   True  False       1  \n",
       "211531   False  False  False  False  False  False  False  False  False       0  \n",
       "1882108  False  False  False  False   True   True   True   True  False       1  "
      ]
     },
     "execution_count": 366,
     "metadata": {},
     "output_type": "execute_result"
    }
   ],
   "source": [
    "df_main.head()"
   ]
  },
  {
   "cell_type": "code",
   "execution_count": 302,
   "metadata": {
    "ExecuteTime": {
     "end_time": "2022-03-18T21:38:31.979501Z",
     "start_time": "2022-03-18T21:38:31.976327Z"
    }
   },
   "outputs": [
    {
     "data": {
      "text/plain": [
       "260993"
      ]
     },
     "execution_count": 302,
     "metadata": {},
     "output_type": "execute_result"
    }
   ],
   "source": [
    "df_main['member_id'].iloc[0]"
   ]
  },
  {
   "cell_type": "code",
   "execution_count": 358,
   "metadata": {
    "ExecuteTime": {
     "end_time": "2022-03-18T22:23:22.227375Z",
     "start_time": "2022-03-18T22:23:20.696688Z"
    }
   },
   "outputs": [
    {
     "name": "stderr",
     "output_type": "stream",
     "text": [
      "/home/ubuntu/anaconda3/lib/python3.6/site-packages/pandas/core/indexing.py:670: SettingWithCopyWarning: \n",
      "A value is trying to be set on a copy of a slice from a DataFrame\n",
      "\n",
      "See the caveats in the documentation: https://pandas.pydata.org/pandas-docs/stable/user_guide/indexing.html#returning-a-view-versus-a-copy\n",
      "  iloc._setitem_with_indexer(indexer, value)\n"
     ]
    }
   ],
   "source": [
    "for i in range(len(df_main['member_id'].unique())):\n",
    "    df_main['outcome'].iloc[i] = ((df_main[df_main['member_id'] == df_main['member_id'].iloc[i]]['N186'].iloc[0]) and (df_main[df_main['member_id'] == df_main['member_id'].iloc[i]]['N185'].iloc[0]))\n",
    "    "
   ]
  },
  {
   "cell_type": "code",
   "execution_count": 336,
   "metadata": {
    "ExecuteTime": {
     "end_time": "2022-03-18T22:08:36.327053Z",
     "start_time": "2022-03-18T22:08:36.322119Z"
    }
   },
   "outputs": [
    {
     "data": {
      "text/plain": [
       "True"
      ]
     },
     "execution_count": 336,
     "metadata": {},
     "output_type": "execute_result"
    }
   ],
   "source": [
    "((df_main[df_main['member_id'] == 143962]['N186'].iloc[0]) or (df_main[df_main['member_id'] == 143962]['N185'].iloc[0]))"
   ]
  },
  {
   "cell_type": "code",
   "execution_count": 327,
   "metadata": {
    "ExecuteTime": {
     "end_time": "2022-03-18T22:01:43.479751Z",
     "start_time": "2022-03-18T22:01:43.476470Z"
    }
   },
   "outputs": [
    {
     "data": {
      "text/plain": [
       "464004"
      ]
     },
     "execution_count": 327,
     "metadata": {},
     "output_type": "execute_result"
    }
   ],
   "source": [
    "df_main['member_id'].iloc[i]"
   ]
  },
  {
   "cell_type": "code",
   "execution_count": 369,
   "metadata": {
    "ExecuteTime": {
     "end_time": "2022-03-18T22:26:47.137617Z",
     "start_time": "2022-03-18T22:26:47.133248Z"
    }
   },
   "outputs": [],
   "source": [
    "df_main.drop('outcome',axis=1,inplace=True)"
   ]
  },
  {
   "cell_type": "code",
   "execution_count": 350,
   "metadata": {
    "ExecuteTime": {
     "end_time": "2022-03-18T22:18:38.559904Z",
     "start_time": "2022-03-18T22:18:38.555265Z"
    }
   },
   "outputs": [
    {
     "data": {
      "text/plain": [
       "False"
      ]
     },
     "execution_count": 350,
     "metadata": {},
     "output_type": "execute_result"
    }
   ],
   "source": [
    "(df_main[df_main['member_id'] == df_main['member_id'].iloc[1]]['N185'].iloc[0])"
   ]
  },
  {
   "cell_type": "code",
   "execution_count": 351,
   "metadata": {
    "ExecuteTime": {
     "end_time": "2022-03-18T22:18:50.367637Z",
     "start_time": "2022-03-18T22:18:50.364495Z"
    }
   },
   "outputs": [
    {
     "data": {
      "text/plain": [
       "143962"
      ]
     },
     "execution_count": 351,
     "metadata": {},
     "output_type": "execute_result"
    }
   ],
   "source": [
    "df_main['member_id'].iloc[1]"
   ]
  },
  {
   "cell_type": "code",
   "execution_count": 354,
   "metadata": {
    "ExecuteTime": {
     "end_time": "2022-03-18T22:22:10.817765Z",
     "start_time": "2022-03-18T22:22:10.814414Z"
    }
   },
   "outputs": [
    {
     "data": {
      "text/plain": [
       "False"
      ]
     },
     "execution_count": 354,
     "metadata": {},
     "output_type": "execute_result"
    }
   ],
   "source": [
    "df_main['outcome'].iloc[1]"
   ]
  },
  {
   "cell_type": "code",
   "execution_count": 370,
   "metadata": {
    "ExecuteTime": {
     "end_time": "2022-03-18T22:26:49.799999Z",
     "start_time": "2022-03-18T22:26:49.797021Z"
    }
   },
   "outputs": [],
   "source": [
    "df_main['outcome'] = ''"
   ]
  },
  {
   "cell_type": "code",
   "execution_count": 360,
   "metadata": {
    "ExecuteTime": {
     "end_time": "2022-03-18T22:23:37.707523Z",
     "start_time": "2022-03-18T22:23:37.704217Z"
    }
   },
   "outputs": [
    {
     "data": {
      "text/plain": [
       "False"
      ]
     },
     "execution_count": 360,
     "metadata": {},
     "output_type": "execute_result"
    }
   ],
   "source": [
    "df_main['outcome'].iloc[i]"
   ]
  },
  {
   "cell_type": "code",
   "execution_count": 375,
   "metadata": {
    "ExecuteTime": {
     "end_time": "2022-03-18T22:29:04.794445Z",
     "start_time": "2022-03-18T22:29:04.791009Z"
    }
   },
   "outputs": [
    {
     "data": {
      "text/plain": [
       "0"
      ]
     },
     "execution_count": 375,
     "metadata": {},
     "output_type": "execute_result"
    }
   ],
   "source": [
    "df_main['member_id'].iloc[i]"
   ]
  },
  {
   "cell_type": "code",
   "execution_count": 372,
   "metadata": {
    "ExecuteTime": {
     "end_time": "2022-03-18T22:27:13.489137Z",
     "start_time": "2022-03-18T22:27:13.485792Z"
    }
   },
   "outputs": [],
   "source": [
    "df_main['outcome'] = df_main['N185'] + df_main['N186']"
   ]
  },
  {
   "cell_type": "code",
   "execution_count": 374,
   "metadata": {
    "ExecuteTime": {
     "end_time": "2022-03-18T22:28:50.494273Z",
     "start_time": "2022-03-18T22:28:50.489708Z"
    }
   },
   "outputs": [
    {
     "data": {
      "text/plain": [
       "member_id             object\n",
       "duration     timedelta64[ns]\n",
       "N181                  object\n",
       "N182                  object\n",
       "I10                   object\n",
       "N185                  object\n",
       "N183                  object\n",
       "D509                  object\n",
       "N184                  object\n",
       "L299                  object\n",
       "E7143                 object\n",
       "N2581                 object\n",
       "E611                  object\n",
       "N186                  object\n",
       "D631                  object\n",
       "Z992                  object\n",
       "NA                    object\n",
       "N189                  object\n",
       "outcome               object\n",
       "dtype: object"
      ]
     },
     "execution_count": 374,
     "metadata": {},
     "output_type": "execute_result"
    }
   ],
   "source": [
    "df_main.dtypes"
   ]
  },
  {
   "cell_type": "code",
   "execution_count": 377,
   "metadata": {
    "ExecuteTime": {
     "end_time": "2022-03-18T22:29:25.763209Z",
     "start_time": "2022-03-18T22:29:25.758723Z"
    }
   },
   "outputs": [
    {
     "data": {
      "text/plain": [
       "0    1351\n",
       "1     420\n",
       "Name: outcome, dtype: int64"
      ]
     },
     "execution_count": 377,
     "metadata": {},
     "output_type": "execute_result"
    }
   ],
   "source": [
    "df_main['outcome'].value_counts()"
   ]
  },
  {
   "cell_type": "code",
   "execution_count": 376,
   "metadata": {
    "ExecuteTime": {
     "end_time": "2022-03-18T22:29:21.269276Z",
     "start_time": "2022-03-18T22:29:21.265404Z"
    }
   },
   "outputs": [],
   "source": [
    "df_main['outcome'] = df_main['outcome'].replace(2,1)"
   ]
  },
  {
   "cell_type": "code",
   "execution_count": 391,
   "metadata": {
    "ExecuteTime": {
     "end_time": "2022-03-21T20:37:21.635767Z",
     "start_time": "2022-03-21T20:37:21.611613Z"
    }
   },
   "outputs": [
    {
     "data": {
      "text/html": [
       "<div>\n",
       "<style scoped>\n",
       "    .dataframe tbody tr th:only-of-type {\n",
       "        vertical-align: middle;\n",
       "    }\n",
       "\n",
       "    .dataframe tbody tr th {\n",
       "        vertical-align: top;\n",
       "    }\n",
       "\n",
       "    .dataframe thead th {\n",
       "        text-align: right;\n",
       "    }\n",
       "</style>\n",
       "<table border=\"1\" class=\"dataframe\">\n",
       "  <thead>\n",
       "    <tr style=\"text-align: right;\">\n",
       "      <th></th>\n",
       "      <th>duration</th>\n",
       "      <th>N181</th>\n",
       "      <th>N182</th>\n",
       "      <th>I10</th>\n",
       "      <th>N183</th>\n",
       "      <th>D509</th>\n",
       "      <th>N184</th>\n",
       "      <th>L299</th>\n",
       "      <th>E7143</th>\n",
       "      <th>N2581</th>\n",
       "      <th>E611</th>\n",
       "      <th>D631</th>\n",
       "      <th>Z992</th>\n",
       "      <th>N189</th>\n",
       "      <th>outcome</th>\n",
       "    </tr>\n",
       "  </thead>\n",
       "  <tbody>\n",
       "    <tr>\n",
       "      <th>0</th>\n",
       "      <td>157 days</td>\n",
       "      <td>0</td>\n",
       "      <td>0</td>\n",
       "      <td>0</td>\n",
       "      <td>1</td>\n",
       "      <td>0</td>\n",
       "      <td>1</td>\n",
       "      <td>0</td>\n",
       "      <td>0</td>\n",
       "      <td>0</td>\n",
       "      <td>0</td>\n",
       "      <td>1</td>\n",
       "      <td>0</td>\n",
       "      <td>1</td>\n",
       "      <td>0</td>\n",
       "    </tr>\n",
       "    <tr>\n",
       "      <th>1</th>\n",
       "      <td>606 days</td>\n",
       "      <td>1</td>\n",
       "      <td>0</td>\n",
       "      <td>1</td>\n",
       "      <td>0</td>\n",
       "      <td>1</td>\n",
       "      <td>1</td>\n",
       "      <td>0</td>\n",
       "      <td>0</td>\n",
       "      <td>1</td>\n",
       "      <td>0</td>\n",
       "      <td>1</td>\n",
       "      <td>1</td>\n",
       "      <td>1</td>\n",
       "      <td>1</td>\n",
       "    </tr>\n",
       "    <tr>\n",
       "      <th>2</th>\n",
       "      <td>506 days</td>\n",
       "      <td>0</td>\n",
       "      <td>0</td>\n",
       "      <td>0</td>\n",
       "      <td>1</td>\n",
       "      <td>0</td>\n",
       "      <td>1</td>\n",
       "      <td>0</td>\n",
       "      <td>0</td>\n",
       "      <td>0</td>\n",
       "      <td>0</td>\n",
       "      <td>1</td>\n",
       "      <td>0</td>\n",
       "      <td>0</td>\n",
       "      <td>1</td>\n",
       "    </tr>\n",
       "    <tr>\n",
       "      <th>3</th>\n",
       "      <td>2 days</td>\n",
       "      <td>0</td>\n",
       "      <td>1</td>\n",
       "      <td>0</td>\n",
       "      <td>0</td>\n",
       "      <td>0</td>\n",
       "      <td>0</td>\n",
       "      <td>0</td>\n",
       "      <td>0</td>\n",
       "      <td>0</td>\n",
       "      <td>0</td>\n",
       "      <td>0</td>\n",
       "      <td>0</td>\n",
       "      <td>0</td>\n",
       "      <td>0</td>\n",
       "    </tr>\n",
       "    <tr>\n",
       "      <th>4</th>\n",
       "      <td>102 days</td>\n",
       "      <td>0</td>\n",
       "      <td>0</td>\n",
       "      <td>0</td>\n",
       "      <td>0</td>\n",
       "      <td>1</td>\n",
       "      <td>0</td>\n",
       "      <td>0</td>\n",
       "      <td>0</td>\n",
       "      <td>0</td>\n",
       "      <td>0</td>\n",
       "      <td>1</td>\n",
       "      <td>1</td>\n",
       "      <td>0</td>\n",
       "      <td>1</td>\n",
       "    </tr>\n",
       "  </tbody>\n",
       "</table>\n",
       "</div>"
      ],
      "text/plain": [
       "  duration N181 N182 I10 N183 D509 N184 L299 E7143 N2581 E611 D631 Z992 N189  \\\n",
       "0 157 days    0    0   0    1    0    1    0     0     0    0    1    0    1   \n",
       "1 606 days    1    0   1    0    1    1    0     0     1    0    1    1    1   \n",
       "2 506 days    0    0   0    1    0    1    0     0     0    0    1    0    0   \n",
       "3   2 days    0    1   0    0    0    0    0     0     0    0    0    0    0   \n",
       "4 102 days    0    0   0    0    1    0    0     0     0    0    1    1    0   \n",
       "\n",
       "   outcome  \n",
       "0        0  \n",
       "1        1  \n",
       "2        1  \n",
       "3        0  \n",
       "4        1  "
      ]
     },
     "execution_count": 391,
     "metadata": {},
     "output_type": "execute_result"
    }
   ],
   "source": [
    "df_main.head()"
   ]
  },
  {
   "cell_type": "code",
   "execution_count": 379,
   "metadata": {
    "ExecuteTime": {
     "end_time": "2022-03-21T18:05:11.136799Z",
     "start_time": "2022-03-21T18:05:11.131151Z"
    }
   },
   "outputs": [],
   "source": [
    "df_main.drop('NA',axis=1,inplace=True)"
   ]
  },
  {
   "cell_type": "code",
   "execution_count": 383,
   "metadata": {
    "ExecuteTime": {
     "end_time": "2022-03-21T20:32:51.312911Z",
     "start_time": "2022-03-21T20:32:49.974561Z"
    }
   },
   "outputs": [],
   "source": [
    "#DeepSurv Model\n",
    "import matplotlib.pyplot as plt\n",
    "import torch\n",
    "import torchtuples as tt\n",
    "\n",
    "from pycox.datasets import metabric\n",
    "from pycox.models import CoxPH\n",
    "from pycox.evaluation import EvalSurv"
   ]
  },
  {
   "cell_type": "code",
   "execution_count": 384,
   "metadata": {
    "ExecuteTime": {
     "end_time": "2022-03-21T20:33:39.680500Z",
     "start_time": "2022-03-21T20:33:39.674917Z"
    }
   },
   "outputs": [],
   "source": [
    "df_main.drop('member_id',axis=1,inplace=True)"
   ]
  },
  {
   "cell_type": "code",
   "execution_count": 385,
   "metadata": {
    "ExecuteTime": {
     "end_time": "2022-03-21T20:34:41.211519Z",
     "start_time": "2022-03-21T20:34:41.203822Z"
    }
   },
   "outputs": [],
   "source": [
    "df_main = df_main * 1"
   ]
  },
  {
   "cell_type": "code",
   "execution_count": 387,
   "metadata": {
    "ExecuteTime": {
     "end_time": "2022-03-21T20:36:00.074331Z",
     "start_time": "2022-03-21T20:36:00.069826Z"
    }
   },
   "outputs": [],
   "source": [
    "df_main.reset_index(drop=True, inplace=True)"
   ]
  },
  {
   "cell_type": "code",
   "execution_count": 389,
   "metadata": {
    "ExecuteTime": {
     "end_time": "2022-03-21T20:37:12.137242Z",
     "start_time": "2022-03-21T20:37:12.131924Z"
    }
   },
   "outputs": [],
   "source": [
    "df_main.drop('N185',axis=1,inplace=True)"
   ]
  },
  {
   "cell_type": "code",
   "execution_count": 390,
   "metadata": {
    "ExecuteTime": {
     "end_time": "2022-03-21T20:37:18.139835Z",
     "start_time": "2022-03-21T20:37:18.134523Z"
    }
   },
   "outputs": [],
   "source": [
    "df_main.drop('N186',axis=1,inplace=True)"
   ]
  },
  {
   "cell_type": "code",
   "execution_count": 407,
   "metadata": {
    "ExecuteTime": {
     "end_time": "2022-03-21T20:44:36.290297Z",
     "start_time": "2022-03-21T20:44:36.284828Z"
    }
   },
   "outputs": [],
   "source": [
    "df_main['duration'] = df_main['duration'].dt.days.astype('int16')"
   ]
  },
  {
   "cell_type": "code",
   "execution_count": 408,
   "metadata": {
    "ExecuteTime": {
     "end_time": "2022-03-21T20:44:40.357006Z",
     "start_time": "2022-03-21T20:44:40.348596Z"
    }
   },
   "outputs": [],
   "source": [
    "df_test = df_main.sample(frac=0.2)\n",
    "df_train = df_main.drop(df_test.index)\n",
    "df_val = df_train.sample(frac=0.2)\n",
    "df_train = df_train.drop(df_val.index)"
   ]
  },
  {
   "cell_type": "code",
   "execution_count": 410,
   "metadata": {
    "ExecuteTime": {
     "end_time": "2022-03-21T20:44:47.743292Z",
     "start_time": "2022-03-21T20:44:47.739533Z"
    }
   },
   "outputs": [],
   "source": [
    "cols_leave = []\n",
    "for i in range(1,14):\n",
    "    cols_leave.append(df_main.columns[i])"
   ]
  },
  {
   "cell_type": "code",
   "execution_count": 401,
   "metadata": {
    "ExecuteTime": {
     "end_time": "2022-03-21T20:42:29.584047Z",
     "start_time": "2022-03-21T20:42:29.576555Z"
    }
   },
   "outputs": [],
   "source": [
    "from sklearn_pandas import DataFrameMapper"
   ]
  },
  {
   "cell_type": "code",
   "execution_count": 411,
   "metadata": {
    "ExecuteTime": {
     "end_time": "2022-03-21T20:44:50.561385Z",
     "start_time": "2022-03-21T20:44:50.551328Z"
    }
   },
   "outputs": [],
   "source": [
    "leave = [(col, None) for col in cols_leave]\n",
    "\n",
    "x_mapper = DataFrameMapper(leave)\n",
    "x_train = x_mapper.fit_transform(df_train).astype('float32')\n",
    "x_val = x_mapper.transform(df_val).astype('float32')\n",
    "x_test = x_mapper.transform(df_test).astype('float32')"
   ]
  },
  {
   "cell_type": "code",
   "execution_count": 412,
   "metadata": {
    "ExecuteTime": {
     "end_time": "2022-03-21T20:44:52.762512Z",
     "start_time": "2022-03-21T20:44:52.756416Z"
    }
   },
   "outputs": [],
   "source": [
    "get_target = lambda df: (df['duration'].values, df['outcome'].values)\n",
    "y_train = get_target(df_train)\n",
    "y_val = get_target(df_val)\n",
    "durations_test, events_test = get_target(df_test)\n",
    "val = x_val, y_val"
   ]
  },
  {
   "cell_type": "code",
   "execution_count": 413,
   "metadata": {
    "ExecuteTime": {
     "end_time": "2022-03-21T20:44:59.728026Z",
     "start_time": "2022-03-21T20:44:59.720972Z"
    }
   },
   "outputs": [],
   "source": [
    "in_features = x_train.shape[1]\n",
    "num_nodes = [32, 32]\n",
    "out_features = 1\n",
    "batch_norm = True\n",
    "dropout = 0.1\n",
    "output_bias = False\n",
    "\n",
    "net = tt.practical.MLPVanilla(in_features, num_nodes, out_features, batch_norm,\n",
    "                              dropout, output_bias=output_bias)"
   ]
  },
  {
   "cell_type": "code",
   "execution_count": 414,
   "metadata": {
    "ExecuteTime": {
     "end_time": "2022-03-21T20:45:01.681787Z",
     "start_time": "2022-03-21T20:45:01.677304Z"
    }
   },
   "outputs": [],
   "source": [
    "model = CoxPH(net, tt.optim.Adam)"
   ]
  },
  {
   "cell_type": "code",
   "execution_count": 415,
   "metadata": {
    "ExecuteTime": {
     "end_time": "2022-03-21T20:45:05.866209Z",
     "start_time": "2022-03-21T20:45:04.155085Z"
    }
   },
   "outputs": [
    {
     "data": {
      "image/png": "[encoded data removed]",
      "text/plain": [
       "<Figure size 432x288 with 1 Axes>"
      ]
     },
     "metadata": {
      "needs_background": "light"
     },
     "output_type": "display_data"
    }
   ],
   "source": [
    "batch_size = 128\n",
    "lrfinder = model.lr_finder(x_train, y_train, batch_size, tolerance=10)\n",
    "_ = lrfinder.plot()"
   ]
  },
  {
   "cell_type": "code",
   "execution_count": 416,
   "metadata": {
    "ExecuteTime": {
     "end_time": "2022-03-21T20:45:14.384413Z",
     "start_time": "2022-03-21T20:45:14.379559Z"
    }
   },
   "outputs": [
    {
     "data": {
      "text/plain": [
       "0.0613590727341321"
      ]
     },
     "execution_count": 416,
     "metadata": {},
     "output_type": "execute_result"
    }
   ],
   "source": [
    "lrfinder.get_best_lr()"
   ]
  },
  {
   "cell_type": "code",
   "execution_count": 417,
   "metadata": {
    "ExecuteTime": {
     "end_time": "2022-03-21T20:45:20.339057Z",
     "start_time": "2022-03-21T20:45:20.335852Z"
    }
   },
   "outputs": [],
   "source": [
    "model.optimizer.set_lr(0.01)"
   ]
  },
  {
   "cell_type": "code",
   "execution_count": 418,
   "metadata": {
    "ExecuteTime": {
     "end_time": "2022-03-21T20:45:29.157993Z",
     "start_time": "2022-03-21T20:45:29.153744Z"
    }
   },
   "outputs": [],
   "source": [
    "epochs = 512\n",
    "callbacks = [tt.callbacks.EarlyStopping()]\n",
    "verbose = True"
   ]
  },
  {
   "cell_type": "code",
   "execution_count": 419,
   "metadata": {
    "ExecuteTime": {
     "end_time": "2022-03-21T20:45:40.401316Z",
     "start_time": "2022-03-21T20:45:39.691233Z"
    }
   },
   "outputs": [
    {
     "name": "stdout",
     "output_type": "stream",
     "text": [
      "0:\t[0s / 0s],\t\ttrain_loss: 3.1543,\tval_loss: 2.4587\n",
      "1:\t[0s / 0s],\t\ttrain_loss: 2.9230,\tval_loss: 2.3822\n",
      "2:\t[0s / 0s],\t\ttrain_loss: 2.8571,\tval_loss: 2.3828\n",
      "3:\t[0s / 0s],\t\ttrain_loss: 2.7732,\tval_loss: 2.3729\n",
      "4:\t[0s / 0s],\t\ttrain_loss: 2.7885,\tval_loss: 2.3833\n",
      "5:\t[0s / 0s],\t\ttrain_loss: 2.7728,\tval_loss: 2.3607\n",
      "6:\t[0s / 0s],\t\ttrain_loss: 2.7449,\tval_loss: 2.3046\n",
      "7:\t[0s / 0s],\t\ttrain_loss: 2.6826,\tval_loss: 2.3089\n",
      "8:\t[0s / 0s],\t\ttrain_loss: 2.7090,\tval_loss: 2.3106\n",
      "9:\t[0s / 0s],\t\ttrain_loss: 2.6314,\tval_loss: 2.3170\n",
      "10:\t[0s / 0s],\t\ttrain_loss: 2.6239,\tval_loss: 2.3222\n",
      "11:\t[0s / 0s],\t\ttrain_loss: 2.6361,\tval_loss: 2.3687\n",
      "12:\t[0s / 0s],\t\ttrain_loss: 2.6166,\tval_loss: 2.3447\n",
      "13:\t[0s / 0s],\t\ttrain_loss: 2.6350,\tval_loss: 2.3768\n",
      "14:\t[0s / 0s],\t\ttrain_loss: 2.6436,\tval_loss: 2.3855\n",
      "15:\t[0s / 0s],\t\ttrain_loss: 2.6221,\tval_loss: 2.3505\n",
      "16:\t[0s / 0s],\t\ttrain_loss: 2.6475,\tval_loss: 2.4177\n",
      "CPU times: user 2.69 s, sys: 7.3 ms, total: 2.7 s\n",
      "Wall time: 706 ms\n"
     ]
    }
   ],
   "source": [
    "%%time\n",
    "log = model.fit(x_train, y_train, batch_size, epochs, callbacks, verbose,\n",
    "                val_data=val, val_batch_size=batch_size)"
   ]
  },
  {
   "cell_type": "code",
   "execution_count": 420,
   "metadata": {
    "ExecuteTime": {
     "end_time": "2022-03-21T20:45:48.801367Z",
     "start_time": "2022-03-21T20:45:48.448845Z"
    }
   },
   "outputs": [
    {
     "data": {
      "image/png": "[encoded data removed]",
      "text/plain": [
       "<Figure size 432x288 with 1 Axes>"
      ]
     },
     "metadata": {
      "needs_background": "light"
     },
     "output_type": "display_data"
    }
   ],
   "source": [
    "_ = log.plot()"
   ]
  },
  {
   "cell_type": "code",
   "execution_count": 421,
   "metadata": {
    "ExecuteTime": {
     "end_time": "2022-03-21T20:45:59.921741Z",
     "start_time": "2022-03-21T20:45:59.900132Z"
    }
   },
   "outputs": [
    {
     "data": {
      "text/plain": [
       "-3.6548388"
      ]
     },
     "execution_count": 421,
     "metadata": {},
     "output_type": "execute_result"
    }
   ],
   "source": [
    "model.partial_log_likelihood(*val).mean()"
   ]
  },
  {
   "cell_type": "code",
   "execution_count": 422,
   "metadata": {
    "ExecuteTime": {
     "end_time": "2022-03-21T20:46:05.743692Z",
     "start_time": "2022-03-21T20:46:05.720160Z"
    }
   },
   "outputs": [],
   "source": [
    "_ = model.compute_baseline_hazards()"
   ]
  },
  {
   "cell_type": "code",
   "execution_count": 423,
   "metadata": {
    "ExecuteTime": {
     "end_time": "2022-03-21T20:46:15.540922Z",
     "start_time": "2022-03-21T20:46:15.532111Z"
    }
   },
   "outputs": [],
   "source": [
    "surv = model.predict_surv_df(x_test)"
   ]
  },
  {
   "cell_type": "code",
   "execution_count": 431,
   "metadata": {
    "ExecuteTime": {
     "end_time": "2022-03-22T13:58:55.395258Z",
     "start_time": "2022-03-22T13:58:55.017397Z"
    }
   },
   "outputs": [
    {
     "data": {
      "image/png": "[encoded data removed]",
      "text/plain": [
       "<Figure size 432x288 with 1 Axes>"
      ]
     },
     "metadata": {
      "needs_background": "light"
     },
     "output_type": "display_data"
    }
   ],
   "source": [
    "surv.iloc[:, :3].plot()\n",
    "plt.ylabel('S(t | x)')\n",
    "_ = plt.xlabel('Time')"
   ]
  },
  {
   "cell_type": "code",
   "execution_count": 426,
   "metadata": {
    "ExecuteTime": {
     "end_time": "2022-03-21T20:50:17.719288Z",
     "start_time": "2022-03-21T20:50:17.713539Z"
    }
   },
   "outputs": [
    {
     "data": {
      "text/plain": [
       "array([650,  90, 102,  89, 728, 123,   8,  89, 729, 676, 482, 295,  65,\n",
       "       331, 589, 586, 211, 431, 560, 150, 727, 532, 157, 588, 231, 307,\n",
       "       124, 553, 686, 593, 666,   4,  98, 365, 462, 349, 525, 644, 639,\n",
       "        94, 523, 210,  16, 103, 685, 526, 364, 607, 560, 665,  19, 697,\n",
       "       667, 683, 258, 727, 588, 727, 362, 366,  33, 237, 412,   4, 683,\n",
       "       377, 651,   1,  56, 352, 622, 643, 204, 407, 729, 726, 332, 488,\n",
       "        26, 152, 539, 668,  15, 322,  37, 524,  91, 643, 113, 708, 328,\n",
       "       149, 275, 694, 412, 521, 383, 168, 725, 251,   1, 546, 651,  29,\n",
       "       551,   7, 378, 493, 294,  50,  35, 692, 189, 221, 385, 728, 706,\n",
       "       523, 207, 156, 296,  77, 126, 580, 455, 556, 175, 546,  89, 287,\n",
       "       439, 708,   6, 657, 725,  59,   2, 679,   2, 497, 399, 559, 370,\n",
       "        23, 648,   8, 725, 551, 499, 569, 582, 301, 588, 157,  47, 539,\n",
       "       161,   4, 559, 468, 410, 728, 604,   8, 574, 713, 717, 245, 553,\n",
       "       724, 168, 553, 114, 553, 306, 433, 433, 672, 218, 588,  30, 728,\n",
       "       729, 377, 182, 177,  70, 513, 182, 644, 335, 144, 588, 673, 516,\n",
       "        41, 413, 602,  29,   1, 208, 512, 608,  49, 402, 612, 673,  70,\n",
       "       399, 418, 231, 368, 601, 658, 728,  55, 524,  74, 555,  68, 327,\n",
       "       729, 571, 552,  48,   6, 287, 614,  35,   1, 331, 378, 727, 532,\n",
       "       489, 364, 661, 183, 185, 498, 334, 533,  54, 669, 729, 416, 613,\n",
       "         1, 450, 386, 405,  67, 581, 167, 294, 189, 714, 654,  29, 546,\n",
       "       654, 609,  48, 166, 259, 529,  27, 137, 109, 727, 285, 386, 273,\n",
       "       438, 437, 302, 269, 293, 705, 420, 607,  45, 150,  38, 729, 264,\n",
       "       473,  72,   2,  35, 603, 222, 553, 189, 728, 325,  46, 175,  79,\n",
       "         3, 331, 319,   3, 181, 422, 322, 381, 333, 473, 350,  23, 263,\n",
       "       130, 567,   2, 371, 247, 374, 727, 440, 402, 141, 157,   7, 616,\n",
       "       683, 366, 364, 644, 428,  14, 210, 372, 413, 595, 649, 728, 728,\n",
       "       352, 588, 340, 121,  96,  92, 408, 195,  51, 619, 459, 602, 716,\n",
       "       238, 399, 380], dtype=int16)"
      ]
     },
     "execution_count": 426,
     "metadata": {},
     "output_type": "execute_result"
    }
   ],
   "source": [
    "durations_test"
   ]
  },
  {
   "cell_type": "code",
   "execution_count": null,
   "metadata": {},
   "outputs": [],
   "source": []
  }
 ],
 "metadata": {
  "kernelspec": {
   "display_name": "Python 3",
   "language": "python",
   "name": "python3"
  },
  "language_info": {
   "codemirror_mode": {
    "name": "ipython",
    "version": 3
   },
   "file_extension": ".py",
   "mimetype": "text/x-python",
   "name": "python",
   "nbconvert_exporter": "python",
   "pygments_lexer": "ipython3",
   "version": "3.6.9"
  },
  "toc": {
   "base_numbering": 1,
   "nav_menu": {},
   "number_sections": true,
   "sideBar": true,
   "skip_h1_title": false,
   "title_cell": "Table of Contents",
   "title_sidebar": "Contents",
   "toc_cell": false,
   "toc_position": {},
   "toc_section_display": true,
   "toc_window_display": false
  }
 },
 "nbformat": 4,
 "nbformat_minor": 2
}
